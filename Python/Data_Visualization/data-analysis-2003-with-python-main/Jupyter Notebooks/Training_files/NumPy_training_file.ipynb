{
 "cells": [
  {
   "cell_type": "markdown",
   "id": "84ef94c9-34e2-4621-a62c-1aa59933cc08",
   "metadata": {},
   "source": [
    "# Array Manipulation\n"
   ]
  },
  {
   "cell_type": "markdown",
   "id": "db89746c-f64f-4e3d-beee-5740e6332e2d",
   "metadata": {},
   "source": [
    "## Array Manipulation  - changing shape"
   ]
  },
  {
   "cell_type": "code",
   "execution_count": 2,
   "id": "619a5f3c-811b-494f-930e-6da79cc00b95",
   "metadata": {},
   "outputs": [
    {
     "name": "stdout",
     "output_type": "stream",
     "text": [
      "the original array:\n",
      "[0 1 2 3 4 5 6 7 8]\n",
      "\n",
      "the modified array:\n",
      "[[0 1 2]\n",
      " [3 4 5]\n",
      " [6 7 8]]\n"
     ]
    }
   ],
   "source": [
    "import numpy as np\n",
    "\n",
    "a = np.arange(9)\n",
    "print('the original array:')\n",
    "print(a)\n",
    "print()\n",
    "\n",
    "b=a.reshape(3,3)\n",
    "print('the modified array:')\n",
    "print(b)"
   ]
  },
  {
   "cell_type": "code",
   "execution_count": 3,
   "id": "0b20c52f-2761-4d48-88ec-91ce4c8ca44f",
   "metadata": {},
   "outputs": [
    {
     "name": "stdout",
     "output_type": "stream",
     "text": [
      "[0 1 2 3 4 5 6 7 8]\n"
     ]
    }
   ],
   "source": [
    "print(b.flatten())"
   ]
  },
  {
   "cell_type": "code",
   "execution_count": 4,
   "id": "f18a7222-9b18-4470-b0f2-5b2eee4fcda5",
   "metadata": {},
   "outputs": [
    {
     "data": {
      "text/plain": [
       "array([0, 3, 6, 1, 4, 7, 2, 5, 8])"
      ]
     },
     "execution_count": 4,
     "metadata": {},
     "output_type": "execute_result"
    }
   ],
   "source": [
    "b.flatten(order=\"F\")"
   ]
  },
  {
   "cell_type": "code",
   "execution_count": 6,
   "id": "df71eb58-b27a-442e-861d-3c540338e40a",
   "metadata": {},
   "outputs": [
    {
     "data": {
      "text/plain": [
       "array([[ 0,  1,  2],\n",
       "       [ 3,  4,  5],\n",
       "       [ 6,  7,  8],\n",
       "       [ 9, 10, 11]])"
      ]
     },
     "execution_count": 6,
     "metadata": {},
     "output_type": "execute_result"
    }
   ],
   "source": [
    "a = np.arange(12).reshape(4,3)\n",
    "a"
   ]
  },
  {
   "cell_type": "code",
   "execution_count": 7,
   "id": "bebd567a-b58c-41e0-a1d6-4a4a4ff3ddb0",
   "metadata": {},
   "outputs": [
    {
     "data": {
      "text/plain": [
       "array([[ 0,  3,  6,  9],\n",
       "       [ 1,  4,  7, 10],\n",
       "       [ 2,  5,  8, 11]])"
      ]
     },
     "execution_count": 7,
     "metadata": {},
     "output_type": "execute_result"
    }
   ],
   "source": [
    "np.transpose(a)"
   ]
  },
  {
   "cell_type": "code",
   "execution_count": 8,
   "id": "e98b897a-e930-4a81-af38-659a36c2f7b2",
   "metadata": {},
   "outputs": [
    {
     "data": {
      "text/plain": [
       "array([[0, 1, 2, 3],\n",
       "       [4, 5, 6, 7]])"
      ]
     },
     "execution_count": 8,
     "metadata": {},
     "output_type": "execute_result"
    }
   ],
   "source": [
    "b=np.arange(8).reshape(2,4)\n",
    "b"
   ]
  },
  {
   "cell_type": "code",
   "execution_count": 9,
   "id": "cd59e260-8ed7-4cd2-807f-9e58e29603a2",
   "metadata": {},
   "outputs": [
    {
     "ename": "ValueError",
     "evalue": "cannot reshape array of size 8 into shape (2,3)",
     "output_type": "error",
     "traceback": [
      "\u001b[0;31m---------------------------------------------------------------------------\u001b[0m",
      "\u001b[0;31mValueError\u001b[0m                                Traceback (most recent call last)",
      "Cell \u001b[0;32mIn[9], line 1\u001b[0m\n\u001b[0;32m----> 1\u001b[0m b\u001b[38;5;241m=\u001b[39m\u001b[43mnp\u001b[49m\u001b[38;5;241;43m.\u001b[39;49m\u001b[43marange\u001b[49m\u001b[43m(\u001b[49m\u001b[38;5;241;43m8\u001b[39;49m\u001b[43m)\u001b[49m\u001b[38;5;241;43m.\u001b[39;49m\u001b[43mreshape\u001b[49m\u001b[43m(\u001b[49m\u001b[38;5;241;43m2\u001b[39;49m\u001b[43m,\u001b[49m\u001b[38;5;241;43m3\u001b[39;49m\u001b[43m)\u001b[49m\n",
      "\u001b[0;31mValueError\u001b[0m: cannot reshape array of size 8 into shape (2,3)"
     ]
    }
   ],
   "source": [
    "b=np.arange(8).reshape(2,3)"
   ]
  },
  {
   "cell_type": "code",
   "execution_count": 10,
   "id": "e09f3e48-5ef9-4755-8251-4e7c82088bca",
   "metadata": {},
   "outputs": [
    {
     "data": {
      "text/plain": [
       "array([[[0, 1],\n",
       "        [2, 3]],\n",
       "\n",
       "       [[4, 5],\n",
       "        [6, 7]]])"
      ]
     },
     "execution_count": 10,
     "metadata": {},
     "output_type": "execute_result"
    }
   ],
   "source": [
    "b.reshape(2,2,2)"
   ]
  },
  {
   "cell_type": "code",
   "execution_count": 11,
   "id": "05d873a9-f193-4e96-beeb-9d67a102bb29",
   "metadata": {},
   "outputs": [],
   "source": [
    "c = b.reshape(2,2,2)"
   ]
  },
  {
   "cell_type": "code",
   "execution_count": 12,
   "id": "d6225100-9aa1-480d-90b1-c06befee6636",
   "metadata": {},
   "outputs": [
    {
     "data": {
      "text/plain": [
       "array([[[0, 2],\n",
       "        [1, 3]],\n",
       "\n",
       "       [[4, 6],\n",
       "        [5, 7]]])"
      ]
     },
     "execution_count": 12,
     "metadata": {},
     "output_type": "execute_result"
    }
   ],
   "source": [
    "np.rollaxis(c, 2, 1)"
   ]
  },
  {
   "cell_type": "code",
   "execution_count": 13,
   "id": "af0cbd03-6d0b-44c0-892d-38824e70b1d3",
   "metadata": {},
   "outputs": [
    {
     "data": {
      "text/plain": [
       "array([[[0, 1],\n",
       "        [4, 5]],\n",
       "\n",
       "       [[2, 3],\n",
       "        [6, 7]]])"
      ]
     },
     "execution_count": 13,
     "metadata": {},
     "output_type": "execute_result"
    }
   ],
   "source": [
    "np.rollaxis(c, 1)"
   ]
  },
  {
   "cell_type": "code",
   "execution_count": 14,
   "id": "75cfa230-010f-4d5c-b7ad-69cc41a9e6c2",
   "metadata": {},
   "outputs": [
    {
     "data": {
      "text/plain": [
       "array([[[0, 2],\n",
       "        [1, 3]],\n",
       "\n",
       "       [[4, 6],\n",
       "        [5, 7]]])"
      ]
     },
     "execution_count": 14,
     "metadata": {},
     "output_type": "execute_result"
    }
   ],
   "source": [
    "np.swapaxes(c, 1, 2)"
   ]
  },
  {
   "cell_type": "markdown",
   "id": "693c0d76-1535-4b59-abb5-57bb198984d4",
   "metadata": {},
   "source": [
    "# Numpy Arithematic Operations"
   ]
  },
  {
   "cell_type": "code",
   "execution_count": 16,
   "id": "32498acf-6d97-4f63-aa12-d6fec39caa3e",
   "metadata": {},
   "outputs": [
    {
     "data": {
      "text/plain": [
       "array([[0, 1, 2],\n",
       "       [3, 4, 5],\n",
       "       [6, 7, 8]])"
      ]
     },
     "execution_count": 16,
     "metadata": {},
     "output_type": "execute_result"
    }
   ],
   "source": [
    "a = np.arange(9).reshape(3,3)\n",
    "a"
   ]
  },
  {
   "cell_type": "code",
   "execution_count": 17,
   "id": "544fe4ac-50d8-4cd5-8a4a-2f7781428937",
   "metadata": {},
   "outputs": [
    {
     "data": {
      "text/plain": [
       "array([10, 10, 10])"
      ]
     },
     "execution_count": 17,
     "metadata": {},
     "output_type": "execute_result"
    }
   ],
   "source": [
    "b = np.array([10,10,10])\n",
    "b"
   ]
  },
  {
   "cell_type": "code",
   "execution_count": 18,
   "id": "a78ac4b6-42c9-428c-8e84-ef11125961e3",
   "metadata": {},
   "outputs": [
    {
     "data": {
      "text/plain": [
       "array([[10, 11, 12],\n",
       "       [13, 14, 15],\n",
       "       [16, 17, 18]])"
      ]
     },
     "execution_count": 18,
     "metadata": {},
     "output_type": "execute_result"
    }
   ],
   "source": [
    "np.add(a,b)"
   ]
  },
  {
   "cell_type": "code",
   "execution_count": 19,
   "id": "87585155-dc6f-4224-a177-2e0f338646f5",
   "metadata": {},
   "outputs": [
    {
     "data": {
      "text/plain": [
       "array([10, 10, 10])"
      ]
     },
     "execution_count": 19,
     "metadata": {},
     "output_type": "execute_result"
    }
   ],
   "source": [
    "b = np.array([10,10,10])\n",
    "b"
   ]
  },
  {
   "cell_type": "code",
   "execution_count": 21,
   "id": "698525f8-7593-4c53-98df-225c6b4fe152",
   "metadata": {},
   "outputs": [
    {
     "data": {
      "text/plain": [
       "array([[-10,  -9,  -8],\n",
       "       [ -7,  -6,  -5],\n",
       "       [ -4,  -3,  -2]])"
      ]
     },
     "execution_count": 21,
     "metadata": {},
     "output_type": "execute_result"
    }
   ],
   "source": [
    "np.subtract(a,b)"
   ]
  },
  {
   "cell_type": "code",
   "execution_count": 22,
   "id": "79169925-8e30-4c5d-b0fe-8bb1d10c8787",
   "metadata": {},
   "outputs": [
    {
     "data": {
      "text/plain": [
       "array([[ 0, 10, 20],\n",
       "       [30, 40, 50],\n",
       "       [60, 70, 80]])"
      ]
     },
     "execution_count": 22,
     "metadata": {},
     "output_type": "execute_result"
    }
   ],
   "source": [
    "np.multiply(a,b)"
   ]
  },
  {
   "cell_type": "code",
   "execution_count": 23,
   "id": "f8e99c1e-334d-4ea5-9465-fc3e206be5b6",
   "metadata": {},
   "outputs": [
    {
     "data": {
      "text/plain": [
       "array([[0. , 0.1, 0.2],\n",
       "       [0.3, 0.4, 0.5],\n",
       "       [0.6, 0.7, 0.8]])"
      ]
     },
     "execution_count": 23,
     "metadata": {},
     "output_type": "execute_result"
    }
   ],
   "source": [
    "np.divide(a,b)"
   ]
  },
  {
   "cell_type": "markdown",
   "id": "61dae13a-1087-45ad-9d75-4270ed7a1919",
   "metadata": {},
   "source": [
    "# Slicing"
   ]
  },
  {
   "cell_type": "code",
   "execution_count": 25,
   "id": "06b49fc5-c038-40aa-a06d-a9dfe0b4ff50",
   "metadata": {},
   "outputs": [
    {
     "data": {
      "text/plain": [
       "array([ 0,  1,  2,  3,  4,  5,  6,  7,  8,  9, 10, 11, 12, 13, 14, 15, 16,\n",
       "       17, 18, 19])"
      ]
     },
     "execution_count": 25,
     "metadata": {},
     "output_type": "execute_result"
    }
   ],
   "source": [
    "a = np.arange(20)\n",
    "a"
   ]
  },
  {
   "cell_type": "code",
   "execution_count": 26,
   "id": "3ea381ee-6ba7-41bd-ae21-293f1723b63b",
   "metadata": {},
   "outputs": [
    {
     "data": {
      "text/plain": [
       "array([ 4,  5,  6,  7,  8,  9, 10, 11, 12, 13, 14, 15, 16, 17, 18, 19])"
      ]
     },
     "execution_count": 26,
     "metadata": {},
     "output_type": "execute_result"
    }
   ],
   "source": [
    "a[4:]"
   ]
  },
  {
   "cell_type": "code",
   "execution_count": 27,
   "id": "b0d7069e-fa04-478c-8e54-a05333af221b",
   "metadata": {},
   "outputs": [
    {
     "data": {
      "text/plain": [
       "array([0, 1, 2, 3])"
      ]
     },
     "execution_count": 27,
     "metadata": {},
     "output_type": "execute_result"
    }
   ],
   "source": [
    "a[:4]"
   ]
  },
  {
   "cell_type": "code",
   "execution_count": 28,
   "id": "5df749bc-2e8d-45b0-aba6-7ccedfa351fa",
   "metadata": {},
   "outputs": [
    {
     "data": {
      "text/plain": [
       "5"
      ]
     },
     "execution_count": 28,
     "metadata": {},
     "output_type": "execute_result"
    }
   ],
   "source": [
    "a[5]"
   ]
  },
  {
   "cell_type": "code",
   "execution_count": 29,
   "id": "d3a980cc-7ed2-4368-b3ed-f2b932e3dc28",
   "metadata": {},
   "outputs": [
    {
     "data": {
      "text/plain": [
       "array([2, 4, 6, 8])"
      ]
     },
     "execution_count": 29,
     "metadata": {},
     "output_type": "execute_result"
    }
   ],
   "source": [
    "s = slice(2,9,2)\n",
    "a[s]"
   ]
  },
  {
   "cell_type": "markdown",
   "id": "7e5cc7a6-e5df-4413-9fa4-7f1648cda913",
   "metadata": {},
   "source": [
    "# Iterating Over Arrays"
   ]
  },
  {
   "cell_type": "code",
   "execution_count": 30,
   "id": "1ea14499-b713-4c06-a6a3-71daf813b04e",
   "metadata": {},
   "outputs": [
    {
     "data": {
      "text/plain": [
       "array([ 0,  5, 10, 15, 20, 25, 30, 35, 40])"
      ]
     },
     "execution_count": 30,
     "metadata": {},
     "output_type": "execute_result"
    }
   ],
   "source": [
    "a = np.arange(0,45,5)\n",
    "a"
   ]
  },
  {
   "cell_type": "code",
   "execution_count": 32,
   "id": "e4445b07-7464-4e2a-9984-8de360535494",
   "metadata": {},
   "outputs": [
    {
     "data": {
      "text/plain": [
       "array([[ 0,  5, 10],\n",
       "       [15, 20, 25],\n",
       "       [30, 35, 40]])"
      ]
     },
     "execution_count": 32,
     "metadata": {},
     "output_type": "execute_result"
    }
   ],
   "source": [
    "a = a.reshape(3,3)\n",
    "a"
   ]
  },
  {
   "cell_type": "code",
   "execution_count": 34,
   "id": "c485739d-debf-41bb-bb58-bb0af01e49a3",
   "metadata": {},
   "outputs": [
    {
     "name": "stdout",
     "output_type": "stream",
     "text": [
      "0\n",
      "5\n",
      "10\n",
      "15\n",
      "20\n",
      "25\n",
      "30\n",
      "35\n",
      "40\n"
     ]
    }
   ],
   "source": [
    "for x in np.nditer(a):\n",
    "    print(x)"
   ]
  },
  {
   "cell_type": "markdown",
   "id": "f0248e29-a334-4f58-9bb6-4252f83f6eec",
   "metadata": {},
   "source": [
    "# Iteration order (c-style and f-style)"
   ]
  },
  {
   "cell_type": "code",
   "execution_count": 35,
   "id": "fbc2af57-7898-48f6-9783-b4a656277566",
   "metadata": {},
   "outputs": [
    {
     "name": "stdout",
     "output_type": "stream",
     "text": [
      "[[ 0  5 10]\n",
      " [15 20 25]\n",
      " [30 35 40]]\n",
      "0\n",
      "5\n",
      "10\n",
      "15\n",
      "20\n",
      "25\n",
      "30\n",
      "35\n",
      "40\n",
      "0\n",
      "15\n",
      "30\n",
      "5\n",
      "20\n",
      "35\n",
      "10\n",
      "25\n",
      "40\n"
     ]
    }
   ],
   "source": [
    "print(a)\n",
    "for x in np.nditer(a, order='C'):\n",
    "    print(x)\n",
    "\n",
    "for x in np.nditer(a, order='F'):\n",
    "    print(x)"
   ]
  },
  {
   "cell_type": "markdown",
   "id": "0dd71b8d-1527-471c-aa75-735f81b91b8d",
   "metadata": {},
   "source": [
    "# Joining arrays"
   ]
  },
  {
   "cell_type": "code",
   "execution_count": 46,
   "id": "e0733b0e-196a-4bd5-a6c2-dd1b4746a9ff",
   "metadata": {},
   "outputs": [
    {
     "name": "stdout",
     "output_type": "stream",
     "text": [
      "first array:\n",
      "[[1 2]\n",
      " [3 4]]\n",
      "second array:\n",
      "[[ 7  8]\n",
      " [ 9 10]]\n",
      "\n",
      "\n",
      "Joining the two arrays along axis 0:\n",
      "[[ 1  2]\n",
      " [ 3  4]\n",
      " [ 7  8]\n",
      " [ 9 10]]\n",
      "\n",
      "\n",
      "Joining the two arrays along axis 1:\n",
      "[[ 1  2  7  8]\n",
      " [ 3  4  9 10]]\n"
     ]
    }
   ],
   "source": [
    "a = np.array([[1,2],[3,4]])\n",
    "print('first array:')\n",
    "print(a)\n",
    "b = np.array([[7,8],[9,10]])\n",
    "print(\"second array:\")\n",
    "print(b)\n",
    "print('\\n')\n",
    "print('Joining the two arrays along axis 0:')\n",
    "print(np.concatenate((a,b)))\n",
    "print('\\n')\n",
    "print('Joining the two arrays along axis 1:')\n",
    "print(np.concatenate((a,b), axis = 1))\n"
   ]
  },
  {
   "cell_type": "markdown",
   "id": "41328820-21ed-4678-bd00-d3522fc9c1dc",
   "metadata": {},
   "source": [
    "# Splitting Array"
   ]
  },
  {
   "cell_type": "code",
   "execution_count": 48,
   "id": "bbcc84bd-48a8-46bb-8e7a-5a0cc228209d",
   "metadata": {},
   "outputs": [
    {
     "name": "stdout",
     "output_type": "stream",
     "text": [
      "[0 1 2 3 4 5 6 7 8]\n"
     ]
    },
    {
     "data": {
      "text/plain": [
       "[array([0, 1, 2]), array([3, 4, 5]), array([6, 7, 8])]"
      ]
     },
     "execution_count": 48,
     "metadata": {},
     "output_type": "execute_result"
    }
   ],
   "source": [
    "a = np.arange(9)\n",
    "print(a)\n",
    "np.split(a, 3)"
   ]
  },
  {
   "cell_type": "code",
   "execution_count": 49,
   "id": "bb6b3f7e-82ce-49db-8f85-93fdfc807069",
   "metadata": {},
   "outputs": [
    {
     "data": {
      "text/plain": [
       "[array([0, 1, 2, 3]), array([4]), array([5, 6, 7, 8])]"
      ]
     },
     "execution_count": 49,
     "metadata": {},
     "output_type": "execute_result"
    }
   ],
   "source": [
    "np.split(a,[4,5])"
   ]
  },
  {
   "cell_type": "code",
   "execution_count": 51,
   "id": "bc466559-7fb7-4464-81a9-d46f9c1b65c3",
   "metadata": {},
   "outputs": [
    {
     "data": {
      "text/plain": [
       "[array([0, 1, 2, 3]), array([4, 5, 6]), array([7, 8])]"
      ]
     },
     "execution_count": 51,
     "metadata": {},
     "output_type": "execute_result"
    }
   ],
   "source": [
    "np.split(a,[4,7])"
   ]
  },
  {
   "cell_type": "markdown",
   "id": "b1de71c6-6bc6-41cd-856a-694855a0dad8",
   "metadata": {},
   "source": [
    "# Resizing an Array"
   ]
  },
  {
   "cell_type": "code",
   "execution_count": 55,
   "id": "e34ed4b5-3719-4b97-b14a-7bf19e964cea",
   "metadata": {},
   "outputs": [
    {
     "name": "stdout",
     "output_type": "stream",
     "text": [
      "[[1 2 3]\n",
      " [4 5 6]]\n",
      "(2, 3)\n",
      "\n",
      "\n",
      "[[1 2]\n",
      " [3 4]\n",
      " [5 6]]\n",
      "(3, 2)\n",
      "\n",
      "\n",
      "[[1 2 3]\n",
      " [4 5 6]\n",
      " [1 2 3]]\n",
      "(3, 3)\n"
     ]
    }
   ],
   "source": [
    "a = np.array([[1,2,3],[4,5,6]])\n",
    "print(a)\n",
    "print(a.shape)\n",
    "print('\\n')\n",
    "b=np.resize(a, (3,2))\n",
    "print(b)\n",
    "print(b.shape)\n",
    "print('\\n')\n",
    "b=np.resize(a, (3,3))\n",
    "print(b)\n",
    "print(b.shape)"
   ]
  },
  {
   "cell_type": "markdown",
   "id": "d26b20e8-e061-4bb4-82eb-26695d2c71dd",
   "metadata": {},
   "source": [
    "# Histogram"
   ]
  },
  {
   "cell_type": "code",
   "execution_count": 56,
   "id": "08364ac5-8289-4aa7-9979-0acc68df985f",
   "metadata": {},
   "outputs": [],
   "source": [
    "from matplotlib import pyplot as plt\n"
   ]
  },
  {
   "cell_type": "code",
   "execution_count": 57,
   "id": "92dd2828-9c44-4b61-9219-d489a27633ed",
   "metadata": {},
   "outputs": [
    {
     "data": {
      "image/png": "[encoded data removed]",
      "text/plain": [
       "<Figure size 640x480 with 1 Axes>"
      ]
     },
     "metadata": {},
     "output_type": "display_data"
    }
   ],
   "source": [
    "a = np.array([20,87,4,40,53,74,56,51,11,20,40,15,79,25,27])\n",
    "plt.hist(a, bins = [0,20,40,60,80,100])\n",
    "plt.title(\"Histogram\")\n",
    "plt.show()"
   ]
  },
  {
   "cell_type": "code",
   "execution_count": 58,
   "id": "ffc761ed-b57c-4ab5-a60a-487e3bc82a51",
   "metadata": {},
   "outputs": [
    {
     "data": {
      "image/png": "[encoded data removed]",
      "text/plain": [
       "<Figure size 640x480 with 1 Axes>"
      ]
     },
     "metadata": {},
     "output_type": "display_data"
    }
   ],
   "source": [
    "plt.hist(a, bins = [0,10,20,30,40,50,60,70,80,90,100])\n",
    "plt.title(\"Histogram\")\n",
    "plt.show()"
   ]
  },
  {
   "cell_type": "markdown",
   "id": "eb2538ec-f1e3-4f9e-b158-53f802670790",
   "metadata": {},
   "source": [
    "# Other userful functions in NumPy"
   ]
  },
  {
   "cell_type": "code",
   "execution_count": 59,
   "id": "b79c2b3c-dc8d-439e-b01d-ce69c360f0e0",
   "metadata": {},
   "outputs": [
    {
     "name": "stdout",
     "output_type": "stream",
     "text": [
      "[1.         1.22222222 1.44444444 1.66666667 1.88888889 2.11111111\n",
      " 2.33333333 2.55555556 2.77777778 3.        ]\n"
     ]
    }
   ],
   "source": [
    "# linspace function\n",
    "\n",
    "a = np.linspace(1,3,10)\n",
    "print(a)"
   ]
  },
  {
   "cell_type": "code",
   "execution_count": 60,
   "id": "cee44078-f7b7-4464-96b7-b7ca342ff591",
   "metadata": {},
   "outputs": [
    {
     "name": "stdout",
     "output_type": "stream",
     "text": [
      "[4 6 8]\n"
     ]
    }
   ],
   "source": [
    "# sum and axis\n",
    "a = np.array([(1,2,3),(3,4,5)])\n",
    "print(a.sum(axis=0))"
   ]
  },
  {
   "cell_type": "code",
   "execution_count": 61,
   "id": "09cf4e8a-b3f3-4b1f-a50a-ce0e8f1fabff",
   "metadata": {},
   "outputs": [
    {
     "name": "stdout",
     "output_type": "stream",
     "text": [
      "[ 6 12]\n"
     ]
    }
   ],
   "source": [
    "a = np.array([(1,2,3),(3,4,5)])\n",
    "print(a.sum(axis=1))"
   ]
  },
  {
   "cell_type": "code",
   "execution_count": 62,
   "id": "7ee3f6aa-1554-4e94-956e-f4a9b92dc452",
   "metadata": {},
   "outputs": [
    {
     "name": "stdout",
     "output_type": "stream",
     "text": [
      "[[1.         1.41421356 1.73205081]\n",
      " [1.73205081 2.         2.23606798]]\n",
      "1.2909944487358056\n"
     ]
    }
   ],
   "source": [
    "#square root and standard deviation\n",
    "\n",
    "a = np.array([(1,2,3),(3,4,5)])\n",
    "print(np.sqrt(a))\n",
    "print(np.std(a))"
   ]
  },
  {
   "cell_type": "code",
   "execution_count": 63,
   "id": "948afddb-cffb-408c-975a-a5bc4ae5eaf1",
   "metadata": {},
   "outputs": [
    {
     "name": "stdout",
     "output_type": "stream",
     "text": [
      "[1 2 3 3 4 5]\n"
     ]
    }
   ],
   "source": [
    "#ravel function\n",
    "x = np.array([(1,2,3),(3,4,5)])\n",
    "print(x.ravel())"
   ]
  },
  {
   "cell_type": "code",
   "execution_count": 64,
   "id": "9ec92fee-925a-4b82-a3a9-876bd5c9c58a",
   "metadata": {},
   "outputs": [
    {
     "name": "stdout",
     "output_type": "stream",
     "text": [
      "[0.         0.30103    0.47712125]\n"
     ]
    }
   ],
   "source": [
    "a = np.array([1,2,3])\n",
    "print(np.log10(a))"
   ]
  },
  {
   "cell_type": "markdown",
   "id": "386d9672-5766-4190-809d-301cbb0c87ce",
   "metadata": {},
   "source": [
    "# Numpy Practise Example"
   ]
  },
  {
   "cell_type": "code",
   "execution_count": 68,
   "id": "c0fc5ac0-02e1-453c-b639-6f98664d8cbb",
   "metadata": {},
   "outputs": [
    {
     "name": "stdout",
     "output_type": "stream",
     "text": [
      "[0.  0.1 0.2 0.3 0.4 0.5 0.6 0.7 0.8 0.9 1.  1.1 1.2 1.3 1.4 1.5 1.6 1.7\n",
      " 1.8 1.9 2.  2.1 2.2 2.3 2.4 2.5 2.6 2.7 2.8 2.9 3.  3.1 3.2 3.3 3.4 3.5\n",
      " 3.6 3.7 3.8 3.9 4.  4.1 4.2 4.3 4.4 4.5 4.6 4.7 4.8 4.9 5.  5.1 5.2 5.3\n",
      " 5.4 5.5 5.6 5.7 5.8 5.9 6.  6.1 6.2 6.3 6.4 6.5 6.6 6.7 6.8 6.9 7.  7.1\n",
      " 7.2 7.3 7.4 7.5 7.6 7.7 7.8 7.9 8.  8.1 8.2 8.3 8.4 8.5 8.6 8.7 8.8 8.9\n",
      " 9.  9.1 9.2 9.3 9.4]\n",
      "[ 0.          0.09983342  0.19866933  0.29552021  0.38941834  0.47942554\n",
      "  0.56464247  0.64421769  0.71735609  0.78332691  0.84147098  0.89120736\n",
      "  0.93203909  0.96355819  0.98544973  0.99749499  0.9995736   0.99166481\n",
      "  0.97384763  0.94630009  0.90929743  0.86320937  0.8084964   0.74570521\n",
      "  0.67546318  0.59847214  0.51550137  0.42737988  0.33498815  0.23924933\n",
      "  0.14112001  0.04158066 -0.05837414 -0.15774569 -0.2555411  -0.35078323\n",
      " -0.44252044 -0.52983614 -0.61185789 -0.68776616 -0.7568025  -0.81827711\n",
      " -0.87157577 -0.91616594 -0.95160207 -0.97753012 -0.993691   -0.99992326\n",
      " -0.99616461 -0.98245261 -0.95892427 -0.92581468 -0.88345466 -0.83226744\n",
      " -0.77276449 -0.70554033 -0.63126664 -0.55068554 -0.46460218 -0.37387666\n",
      " -0.2794155  -0.1821625  -0.0830894   0.0168139   0.1165492   0.21511999\n",
      "  0.31154136  0.40484992  0.49411335  0.57843976  0.6569866   0.72896904\n",
      "  0.79366786  0.85043662  0.8987081   0.93799998  0.96791967  0.98816823\n",
      "  0.99854335  0.99894134  0.98935825  0.96988981  0.94073056  0.90217183\n",
      "  0.85459891  0.79848711  0.7343971   0.66296923  0.58491719  0.50102086\n",
      "  0.41211849  0.31909836  0.22288991  0.12445442  0.02477543]\n"
     ]
    }
   ],
   "source": [
    "#Now using NumPy and Matpltlib, let us try to plot a sin graph\n",
    "\n",
    "x = np.arange(0,3*np.pi,0.1)\n",
    "y = np.sin(x)\n",
    "print(x)\n",
    "print(y)"
   ]
  },
  {
   "cell_type": "code",
   "execution_count": 69,
   "id": "9e6f248a-2d0a-4062-8c22-fdc2ad22f5eb",
   "metadata": {},
   "outputs": [
    {
     "data": {
      "image/png": "[encoded data removed]",
      "text/plain": [
       "<Figure size 640x480 with 1 Axes>"
      ]
     },
     "metadata": {},
     "output_type": "display_data"
    }
   ],
   "source": [
    "plt.plot(x,y)\n",
    "plt.show()"
   ]
  },
  {
   "cell_type": "code",
   "execution_count": 70,
   "id": "a5e137d5-c1eb-4615-9921-d61783978905",
   "metadata": {},
   "outputs": [
    {
     "data": {
      "text/plain": [
       "array([[0, 0, 0, 0, 0, 0],\n",
       "       [0, 0, 0, 0, 0, 0],\n",
       "       [0, 0, 0, 0, 0, 0],\n",
       "       [0, 0, 0, 0, 0, 0],\n",
       "       [0, 0, 0, 0, 0, 0],\n",
       "       [0, 0, 0, 0, 0, 0]])"
      ]
     },
     "execution_count": 70,
     "metadata": {},
     "output_type": "execute_result"
    }
   ],
   "source": [
    "# Create a 6*6 two-dimensional array, and let 1 and 0 be placed alternatively across the diagonals\n",
    "\n",
    "z = np.zeros((6,6), dtype=int)\n",
    "z"
   ]
  },
  {
   "cell_type": "code",
   "execution_count": 73,
   "id": "5458b735-ceba-43db-8c26-d2d753738dfc",
   "metadata": {},
   "outputs": [
    {
     "data": {
      "text/plain": [
       "array([[0, 1, 0, 1, 0, 1],\n",
       "       [1, 0, 1, 0, 1, 0],\n",
       "       [0, 1, 0, 1, 0, 1],\n",
       "       [1, 0, 1, 0, 1, 0],\n",
       "       [0, 1, 0, 1, 0, 1],\n",
       "       [1, 0, 1, 0, 1, 0]])"
      ]
     },
     "execution_count": 73,
     "metadata": {},
     "output_type": "execute_result"
    }
   ],
   "source": [
    "z[::2,1::2] = 1\n",
    "z"
   ]
  },
  {
   "cell_type": "code",
   "execution_count": 74,
   "id": "1334b3f8-2170-4e92-ad97-1e0739fee53f",
   "metadata": {},
   "outputs": [
    {
     "data": {
      "text/plain": [
       "array([[0.77380039, 0.41230202, 0.62021851, 0.50024993, 0.13055999,\n",
       "        0.46617966, 0.01010824, 0.29438042, 0.88378337, 0.29208665],\n",
       "       [0.41754348, 0.29872902, 0.77758387, 0.84409046, 0.50937004,\n",
       "        0.90463024, 0.17404493, 0.19660155, 0.00266933, 0.72094977],\n",
       "       [0.22519143, 0.70911517, 0.62843861, 0.66598632, 0.48462   ,\n",
       "        0.53247177, 0.87861393, 0.53046809, 0.53957348, 0.77387334],\n",
       "       [0.82224432, 0.71522898, 0.0984657 , 0.7786684 , 0.52258201,\n",
       "        0.92433243, 0.85456634, 0.37525495, 0.95190277, 0.1747897 ],\n",
       "       [0.83375823, 0.69497186, 0.68917166, 0.53992236, 0.12027983,\n",
       "        0.39825481, 0.99132388, 0.82542811, 0.42545094, 0.602546  ],\n",
       "       [0.27786212, 0.99348593, 0.4574448 , 0.25745804, 0.88670744,\n",
       "        0.74581823, 0.52431445, 0.25384005, 0.29465075, 0.6627875 ],\n",
       "       [0.29006715, 0.86264412, 0.95863598, 0.54059527, 0.51286003,\n",
       "        0.02611098, 0.07555678, 0.31378086, 0.68847571, 0.89182734],\n",
       "       [0.92357095, 0.21485137, 0.91656522, 0.529767  , 0.92879632,\n",
       "        0.85100562, 0.49249968, 0.35966654, 0.57301974, 0.36757268],\n",
       "       [0.5952241 , 0.49764676, 0.29979026, 0.29645552, 0.39989667,\n",
       "        0.30119466, 0.01188516, 0.16905497, 0.62871057, 0.29361337],\n",
       "       [0.03941632, 0.09340495, 0.64673448, 0.62642587, 0.95656019,\n",
       "        0.50443522, 0.16626528, 0.59701005, 0.61885721, 0.87214564]])"
      ]
     },
     "execution_count": 74,
     "metadata": {},
     "output_type": "execute_result"
    }
   ],
   "source": [
    "#Find the total number and locations of missing values in the array\n",
    "\n",
    "z = np.random.rand(10,10)\n",
    "z"
   ]
  },
  {
   "cell_type": "code",
   "execution_count": 78,
   "id": "c372157e-a5b9-419c-84aa-54099c64ae2d",
   "metadata": {},
   "outputs": [
    {
     "data": {
      "text/plain": [
       "array([[0.84097742, 0.09769076,        nan, 0.04686114, 0.89316291,\n",
       "        0.43598912, 0.91500315, 0.11560809, 0.01835062, 0.57503383],\n",
       "       [0.63452221, 0.15203226, 0.28862334, 0.59537385, 0.12278107,\n",
       "        0.20059496, 0.22269411, 0.61896596, 0.94472682, 0.43641364],\n",
       "       [0.57733923, 0.55857735, 0.8891434 , 0.98412994, 0.37656535,\n",
       "        0.32701825, 0.97881882, 0.11170802, 0.6357149 , 0.52087126],\n",
       "       [0.63144507,        nan, 0.89885573, 0.90665108, 0.04304702,\n",
       "        0.01385968, 0.45604837, 0.8119232 , 0.51853468, 0.71464797],\n",
       "       [       nan, 0.31304764, 0.3014365 , 0.77392858, 0.76716858,\n",
       "        0.63856936, 0.27004762, 0.89439987, 0.37206025, 0.38820734],\n",
       "       [0.15023023, 0.77613292, 0.86380564, 0.11133138, 0.44772178,\n",
       "        0.41034891, 0.99418984, 0.32624671, 0.16709374, 0.78109291],\n",
       "       [0.72751216, 0.80446027, 0.41344311, 0.13448782, 0.44924273,\n",
       "        0.47074214, 0.36513776, 0.86150115, 0.83829027,        nan],\n",
       "       [0.63518574, 0.6411148 , 0.10488339, 0.59669251, 0.42549406,\n",
       "        0.22180347, 0.26687429, 0.79781269, 0.16794799, 0.11270667],\n",
       "       [0.23124696, 0.35535094, 0.36758694,        nan, 0.6450338 ,\n",
       "        0.49496673, 0.78495741, 0.20193272, 0.44484041, 0.41627907],\n",
       "       [0.80885839, 0.9346052 , 0.84916376, 0.42725778, 0.29494065,\n",
       "        0.47152262, 0.31669429, 0.79751452, 0.3173979 , 0.91081384]])"
      ]
     },
     "execution_count": 78,
     "metadata": {},
     "output_type": "execute_result"
    }
   ],
   "source": [
    "z = np.random.rand(10,10)\n",
    "z[np.random.randint(10, size=5), np.random.randint(10, size=5)] = np.nan\n",
    "z"
   ]
  },
  {
   "cell_type": "code",
   "execution_count": 79,
   "id": "57fbf147-e6e6-435f-9ddd-8d2a3d65b8e9",
   "metadata": {},
   "outputs": [
    {
     "name": "stdout",
     "output_type": "stream",
     "text": [
      "Total number of missing values: \n",
      " 5\n"
     ]
    }
   ],
   "source": [
    "print('Total number of missing values: \\n', np.isnan(z).sum())"
   ]
  },
  {
   "cell_type": "code",
   "execution_count": 80,
   "id": "ad0e6674-35e3-417c-8b1b-4cf252936a26",
   "metadata": {},
   "outputs": [
    {
     "name": "stdout",
     "output_type": "stream",
     "text": [
      "Indexes of missing values: \n",
      " [[0 2]\n",
      " [3 1]\n",
      " [4 0]\n",
      " [6 9]\n",
      " [8 3]]\n"
     ]
    }
   ],
   "source": [
    "print('Indexes of missing values: \\n', np.argwhere(np.isnan(z)))"
   ]
  },
  {
   "cell_type": "code",
   "execution_count": 81,
   "id": "368a8c79-5069-4ec5-b79c-5380f623d89f",
   "metadata": {},
   "outputs": [
    {
     "name": "stdout",
     "output_type": "stream",
     "text": [
      "(array([0, 3, 4, 6, 8]), array([2, 1, 0, 9, 3]))\n"
     ]
    }
   ],
   "source": [
    "inds = np.where(np.isnan(z))\n",
    "print(inds)"
   ]
  },
  {
   "cell_type": "code",
   "execution_count": 82,
   "id": "0e0dd235-8ebe-4614-aae2-4914c641ca48",
   "metadata": {},
   "outputs": [
    {
     "data": {
      "text/plain": [
       "array([[0.84097742, 0.09769076, 0.        , 0.04686114, 0.89316291,\n",
       "        0.43598912, 0.91500315, 0.11560809, 0.01835062, 0.57503383],\n",
       "       [0.63452221, 0.15203226, 0.28862334, 0.59537385, 0.12278107,\n",
       "        0.20059496, 0.22269411, 0.61896596, 0.94472682, 0.43641364],\n",
       "       [0.57733923, 0.55857735, 0.8891434 , 0.98412994, 0.37656535,\n",
       "        0.32701825, 0.97881882, 0.11170802, 0.6357149 , 0.52087126],\n",
       "       [0.63144507, 0.        , 0.89885573, 0.90665108, 0.04304702,\n",
       "        0.01385968, 0.45604837, 0.8119232 , 0.51853468, 0.71464797],\n",
       "       [0.        , 0.31304764, 0.3014365 , 0.77392858, 0.76716858,\n",
       "        0.63856936, 0.27004762, 0.89439987, 0.37206025, 0.38820734],\n",
       "       [0.15023023, 0.77613292, 0.86380564, 0.11133138, 0.44772178,\n",
       "        0.41034891, 0.99418984, 0.32624671, 0.16709374, 0.78109291],\n",
       "       [0.72751216, 0.80446027, 0.41344311, 0.13448782, 0.44924273,\n",
       "        0.47074214, 0.36513776, 0.86150115, 0.83829027, 0.        ],\n",
       "       [0.63518574, 0.6411148 , 0.10488339, 0.59669251, 0.42549406,\n",
       "        0.22180347, 0.26687429, 0.79781269, 0.16794799, 0.11270667],\n",
       "       [0.23124696, 0.35535094, 0.36758694, 0.        , 0.6450338 ,\n",
       "        0.49496673, 0.78495741, 0.20193272, 0.44484041, 0.41627907],\n",
       "       [0.80885839, 0.9346052 , 0.84916376, 0.42725778, 0.29494065,\n",
       "        0.47152262, 0.31669429, 0.79751452, 0.3173979 , 0.91081384]])"
      ]
     },
     "execution_count": 82,
     "metadata": {},
     "output_type": "execute_result"
    }
   ],
   "source": [
    "z[inds]=0\n",
    "z"
   ]
  },
  {
   "cell_type": "code",
   "execution_count": null,
   "id": "a0d4e235-fc09-410c-b3c8-eed4644e3acd",
   "metadata": {},
   "outputs": [],
   "source": []
  }
 ],
 "metadata": {
  "kernelspec": {
   "display_name": "Python 3 (ipykernel)",
   "language": "python",
   "name": "python3"
  },
  "language_info": {
   "codemirror_mode": {
    "name": "ipython",
    "version": 3
   },
   "file_extension": ".py",
   "mimetype": "text/x-python",
   "name": "python",
   "nbconvert_exporter": "python",
   "pygments_lexer": "ipython3",
   "version": "3.11.6"
  }
 },
 "nbformat": 4,
 "nbformat_minor": 5
}
