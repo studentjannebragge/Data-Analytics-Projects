{
 "cells": [
  {
   "cell_type": "markdown",
   "metadata": {},
   "source": [
    "# DATA - Advanced Methods of Data Processing \n",
    "## Exercise: Datetime and data fingerprint\n",
    "\n",
    "Let's carry on analysis with Wifi and LTE data. :) \n",
    "\n",
    "**Note.** Even if the file is only 66MB, it can cause problems in docker container CLI operations (e.g. sed). If you are not able to run CLI commands inside container in your own computer, use jupyterhub.dclabra.fi environment. :) \n"
   ]
  },
  {
   "cell_type": "code",
   "execution_count": 1,
   "metadata": {},
   "outputs": [
    {
     "name": "stdout",
     "output_type": "stream",
     "text": [
      "Exercise by: Janne Bragge\n"
     ]
    }
   ],
   "source": [
    "## Your code here \n",
    "print(\"Exercise by: Janne Bragge\")"
   ]
  },
  {
   "cell_type": "markdown",
   "metadata": {},
   "source": [
    "#### Step 1: Preprosess the data and read it to Pandas dataframe \n",
    "**Phase 0.** Import modules: numpy, pandas, datetime and relativedelta from dateutil.\n",
    "\n",
    "*Repeat almost same phases as in previous exercise...*\n",
    "\n",
    "**Phase 1.** Copy `../data/google_big.txt` to your working file\n",
    "\n",
    "**Phase 2.** Remove duplicate lines (indicated with DUP)\n",
    "\n",
    "**Phase 3.** Replace timeout lines with NaN (`Request timeout for icmp_seq xxx`)\n",
    "\n",
    "**Phase 4.** Remove first header line (`PING google.com (74.125.205.101): 56 data bytes`)\n",
    "\n",
    "**Phase 5.** Remove PING statistics from the end \n",
    "```\n",
    "--- google.com ping statistics ---\n",
    "1047670 packets transmitted, 981599 packets received, +2 duplicates, 6.3% packet loss\n",
    "round-trip min/avg/max/stddev = -311.263/102.099/4834947.358/16183.947 ms\n",
    "````\n",
    "**Phase 6.** Remove all other text from file except TTL data and time data. The head of the edited file should look like this:\n",
    "```\n",
    "106 29.519\n",
    "106 22.034\n",
    "106 22.955\n",
    "106 22.593\n",
    "```\n",
    "\n",
    "**Phase 7.** Read data to pandas dataframe named `google_big` by using `pd.read_csv()`.\n",
    "\n",
    "**Phase 8.** Name dataframe columns as `time to live` and `ping time`. \n",
    "\n",
    "**Phase 9.** Print dataframe statistics with `describe()`. \n"
   ]
  },
  {
   "cell_type": "code",
   "execution_count": 2,
   "metadata": {},
   "outputs": [],
   "source": [
    "## Phases 1-6 (File operations)"
   ]
  },
  {
   "cell_type": "code",
   "execution_count": 3,
   "metadata": {},
   "outputs": [
    {
     "name": "stdout",
     "output_type": "stream",
     "text": [
      "106 29.519\n",
      "106 22.034\n",
      "106 22.955\n",
      "106 22.593\n",
      "106 24.818\n",
      "106 28.309\n",
      "106 21.774\n",
      "106 23.278\n",
      "106 20.909\n",
      "106 22.757\n"
     ]
    }
   ],
   "source": [
    "## Task 1:\n",
    "#phase 1 \n",
    "import shutil\n",
    "\n",
    "source_file = \"../data/google_big.txt\"  # Path to the source file\n",
    "destination_file = \"google_big.txt\"     # Name of the destination file in your working directory\n",
    "# Copy the file to your working directory\n",
    "shutil.copy(source_file, destination_file)\n",
    "\n",
    "# pahse 2\n",
    "# Read the content of the text file into a list\n",
    "with open('google_big.txt', 'r') as file:\n",
    "    lines = file.readlines()\n",
    "\n",
    "# Filter out lines containing \"DUP\"\n",
    "filtered_lines = [line for line in lines if \"DUP\" not in line]\n",
    "# Write the filtered lines back to the text file\n",
    "with open('google_big_modified.txt', 'w') as file:\n",
    "    file.writelines(filtered_lines)\n",
    "\n",
    "#phase 3\n",
    "# Replace timeout lines with \"NaN\"\n",
    "for i, line in enumerate(lines):\n",
    "    if \"Request timeout\" in line:\n",
    "        lines[i] = \"NaN\\n\"\n",
    "with open('google_big_modified.txt', 'w') as file:\n",
    "    file.writelines(lines)\n",
    "\n",
    "#Phase 4\n",
    "# Read the content of the text file into a list\n",
    "with open('google_big_modified.txt', 'r') as file:\n",
    "    lines = file.readlines()\n",
    "# Exclude the first line (header line)\n",
    "lines = lines[1:]\n",
    "# Write the modified lines back to the text file\n",
    "with open('google_big_modified.txt', 'w') as file:\n",
    "    file.writelines(lines)\n",
    "\n",
    "#Phase 5\n",
    "# Read the content of the text file into a list\n",
    "with open('google_big_modified.txt', 'r') as file:\n",
    "    lines = file.readlines()\n",
    "# Find the index of the line starting with \"--- google.com ping statistics ---\"\n",
    "statistics_index = None\n",
    "for i, line in enumerate(lines):\n",
    "    if line.startswith(\"--- google.com ping statistics ---\"):\n",
    "        statistics_index = i\n",
    "        break\n",
    "# Exclude the \"PING statistics\" section and subsequent lines if found\n",
    "if statistics_index is not None:\n",
    "    lines = lines[:statistics_index]\n",
    "# Exclude the last empty line\n",
    "lines = lines[:-1]\n",
    "# Write the modified lines back to the text file\n",
    "with open('google_big_modified.txt', 'w') as file:\n",
    "    file.writelines(lines) \n",
    "\n",
    "#Phase 6\n",
    "#remove all expect TTL and Time\n",
    "!awk -F'[ =]' '{print $8, $10}' google_big_modified.txt > google_big_modified2.txt\n",
    "\n",
    "#make csv-file\n",
    "#!awk '{gsub(/.*ttl=| time=/,\"\",$0); print}' google_big_modified.txt > google_big_modified2.csv\n",
    "\n",
    "#print first 10 lines\n",
    "!head -n 10 google_big_modified2.txt\n",
    "\n",
    "#remove empty lines\n",
    "#!sed -i '/^$/d' google_big_modified2.csv\n",
    "\n",
    "with open('google_big_modified2.txt', 'r') as file:\n",
    "    lines = file.readlines()\n",
    "\n",
    "with open('google_big_modified2.txt', 'w') as file:\n",
    "    lines = [line for line in lines if line.strip()]\n",
    "    file.writelines(lines)\n",
    "\n",
    "#convert from txt to csv\n",
    "with open('google_big_modified2.txt', 'r') as txt_file, open('google_big_modified2.csv', 'w') as csv_file:\n",
    "    for line in txt_file:\n",
    "        csv_file.write(line.replace(' ', ','))"
   ]
  },
  {
   "cell_type": "code",
   "execution_count": 4,
   "metadata": {},
   "outputs": [],
   "source": [
    "## Phases 7-9 (Read data to Pandas dataframe)\n"
   ]
  },
  {
   "cell_type": "code",
   "execution_count": 5,
   "metadata": {},
   "outputs": [
    {
     "data": {
      "text/html": [
       "<div>\n",
       "<style scoped>\n",
       "    .dataframe tbody tr th:only-of-type {\n",
       "        vertical-align: middle;\n",
       "    }\n",
       "\n",
       "    .dataframe tbody tr th {\n",
       "        vertical-align: top;\n",
       "    }\n",
       "\n",
       "    .dataframe thead th {\n",
       "        text-align: right;\n",
       "    }\n",
       "</style>\n",
       "<table border=\"1\" class=\"dataframe\">\n",
       "  <thead>\n",
       "    <tr style=\"text-align: right;\">\n",
       "      <th></th>\n",
       "      <th>Time To Live</th>\n",
       "      <th>Ping Time</th>\n",
       "    </tr>\n",
       "  </thead>\n",
       "  <tbody>\n",
       "    <tr>\n",
       "      <th>count</th>\n",
       "      <td>981601.000000</td>\n",
       "      <td>9.816010e+05</td>\n",
       "    </tr>\n",
       "    <tr>\n",
       "      <th>mean</th>\n",
       "      <td>88.290269</td>\n",
       "      <td>1.020990e+02</td>\n",
       "    </tr>\n",
       "    <tr>\n",
       "      <th>std</th>\n",
       "      <td>22.775498</td>\n",
       "      <td>1.618396e+04</td>\n",
       "    </tr>\n",
       "    <tr>\n",
       "      <th>min</th>\n",
       "      <td>59.000000</td>\n",
       "      <td>-3.112630e+02</td>\n",
       "    </tr>\n",
       "    <tr>\n",
       "      <th>25%</th>\n",
       "      <td>59.000000</td>\n",
       "      <td>2.279900e+01</td>\n",
       "    </tr>\n",
       "    <tr>\n",
       "      <th>50%</th>\n",
       "      <td>106.000000</td>\n",
       "      <td>2.487500e+01</td>\n",
       "    </tr>\n",
       "    <tr>\n",
       "      <th>75%</th>\n",
       "      <td>106.000000</td>\n",
       "      <td>4.124700e+01</td>\n",
       "    </tr>\n",
       "    <tr>\n",
       "      <th>max</th>\n",
       "      <td>106.000000</td>\n",
       "      <td>4.834947e+06</td>\n",
       "    </tr>\n",
       "  </tbody>\n",
       "</table>\n",
       "</div>"
      ],
      "text/plain": [
       "        Time To Live     Ping Time\n",
       "count  981601.000000  9.816010e+05\n",
       "mean       88.290269  1.020990e+02\n",
       "std        22.775498  1.618396e+04\n",
       "min        59.000000 -3.112630e+02\n",
       "25%        59.000000  2.279900e+01\n",
       "50%       106.000000  2.487500e+01\n",
       "75%       106.000000  4.124700e+01\n",
       "max       106.000000  4.834947e+06"
      ]
     },
     "execution_count": 5,
     "metadata": {},
     "output_type": "execute_result"
    }
   ],
   "source": [
    "## Task 2:\n",
    "#Phase 7\n",
    "import pandas as pd\n",
    "\n",
    "# Lue tiedosto DataFrameen\n",
    "google_big = pd.read_csv('google_big_modified2.csv', header=None, names=['Time To Live', 'Ping Time'])\n",
    "\n",
    "google_big.describe()\n",
    "\n",
    " "
   ]
  },
  {
   "cell_type": "markdown",
   "metadata": {},
   "source": [
    "#### Step 2: Change dataframe index to date time \n",
    "\n",
    "As we can see from file properties, file has created Sunday 11. December 2022 at 19.34. We also know, that ping interval was defalt 1s. So let's change dataframe index to datetime. This enables us to select data of named time interval. \n",
    "\n",
    "**Phase 10.** Use function `pd.date_range()` to created new column named `date` to created timestamp to each data row.\n",
    "\n",
    "**Phase 11.** Use function `df.set_index('date')` to set datetime to dataframe index data.\n",
    "\n",
    "**Phase 12.** Select ping data from 2022-12-14 12.00-13.00 and save it as `plot_df`. Then calculate `ping_time_mean` & `time_to_live_mean` of that hour and plot ping times and time to live to same picture. ***Note.*** *Round results to 2 decimals.*\n"
   ]
  },
  {
   "cell_type": "code",
   "execution_count": 6,
   "metadata": {},
   "outputs": [],
   "source": [
    "## Phase 10 (Created date column)"
   ]
  },
  {
   "cell_type": "code",
   "execution_count": 7,
   "metadata": {},
   "outputs": [
    {
     "data": {
      "text/html": [
       "<div>\n",
       "<style scoped>\n",
       "    .dataframe tbody tr th:only-of-type {\n",
       "        vertical-align: middle;\n",
       "    }\n",
       "\n",
       "    .dataframe tbody tr th {\n",
       "        vertical-align: top;\n",
       "    }\n",
       "\n",
       "    .dataframe thead th {\n",
       "        text-align: right;\n",
       "    }\n",
       "</style>\n",
       "<table border=\"1\" class=\"dataframe\">\n",
       "  <thead>\n",
       "    <tr style=\"text-align: right;\">\n",
       "      <th></th>\n",
       "      <th>Time To Live</th>\n",
       "      <th>Ping Time</th>\n",
       "      <th>date</th>\n",
       "    </tr>\n",
       "  </thead>\n",
       "  <tbody>\n",
       "    <tr>\n",
       "      <th>0</th>\n",
       "      <td>106</td>\n",
       "      <td>29.519</td>\n",
       "      <td>2022-12-11 19:34:00</td>\n",
       "    </tr>\n",
       "    <tr>\n",
       "      <th>1</th>\n",
       "      <td>106</td>\n",
       "      <td>22.034</td>\n",
       "      <td>2022-12-11 19:34:01</td>\n",
       "    </tr>\n",
       "    <tr>\n",
       "      <th>2</th>\n",
       "      <td>106</td>\n",
       "      <td>22.955</td>\n",
       "      <td>2022-12-11 19:34:02</td>\n",
       "    </tr>\n",
       "    <tr>\n",
       "      <th>3</th>\n",
       "      <td>106</td>\n",
       "      <td>22.593</td>\n",
       "      <td>2022-12-11 19:34:03</td>\n",
       "    </tr>\n",
       "    <tr>\n",
       "      <th>4</th>\n",
       "      <td>106</td>\n",
       "      <td>24.818</td>\n",
       "      <td>2022-12-11 19:34:04</td>\n",
       "    </tr>\n",
       "  </tbody>\n",
       "</table>\n",
       "</div>"
      ],
      "text/plain": [
       "   Time To Live  Ping Time                date\n",
       "0           106     29.519 2022-12-11 19:34:00\n",
       "1           106     22.034 2022-12-11 19:34:01\n",
       "2           106     22.955 2022-12-11 19:34:02\n",
       "3           106     22.593 2022-12-11 19:34:03\n",
       "4           106     24.818 2022-12-11 19:34:04"
      ]
     },
     "execution_count": 7,
     "metadata": {},
     "output_type": "execute_result"
    }
   ],
   "source": [
    "## Task 3:\n",
    "# Define the start time (Sunday 11. December 2022 at 19:34)\n",
    "start_time = pd.to_datetime('2022-12-11 19:34')\n",
    "\n",
    "# Calculate the end time based on the start time and the number of rows in the DataFrame\n",
    "end_time = start_time + pd.DateOffset(seconds=len(google_big) - 1)\n",
    "\n",
    "# Create a date range with one-second intervals\n",
    "date_range = pd.date_range(start=start_time, end=end_time, freq='S')\n",
    "\n",
    "# Add the date range as a new column named \"date\" to the DataFrame\n",
    "google_big['date'] = date_range\n",
    "\n",
    "# Display the DataFrame to verify the changes\n",
    "google_big.head(5)\n",
    "\n",
    "\n",
    "\n",
    " "
   ]
  },
  {
   "cell_type": "code",
   "execution_count": 8,
   "metadata": {},
   "outputs": [],
   "source": [
    "## Phase 11 (Set datetime to index)"
   ]
  },
  {
   "cell_type": "code",
   "execution_count": 9,
   "metadata": {},
   "outputs": [
    {
     "data": {
      "text/html": [
       "<div>\n",
       "<style scoped>\n",
       "    .dataframe tbody tr th:only-of-type {\n",
       "        vertical-align: middle;\n",
       "    }\n",
       "\n",
       "    .dataframe tbody tr th {\n",
       "        vertical-align: top;\n",
       "    }\n",
       "\n",
       "    .dataframe thead th {\n",
       "        text-align: right;\n",
       "    }\n",
       "</style>\n",
       "<table border=\"1\" class=\"dataframe\">\n",
       "  <thead>\n",
       "    <tr style=\"text-align: right;\">\n",
       "      <th></th>\n",
       "      <th>Time To Live</th>\n",
       "      <th>Ping Time</th>\n",
       "    </tr>\n",
       "    <tr>\n",
       "      <th>date</th>\n",
       "      <th></th>\n",
       "      <th></th>\n",
       "    </tr>\n",
       "  </thead>\n",
       "  <tbody>\n",
       "    <tr>\n",
       "      <th>2022-12-11 19:34:00</th>\n",
       "      <td>106</td>\n",
       "      <td>29.519</td>\n",
       "    </tr>\n",
       "    <tr>\n",
       "      <th>2022-12-11 19:34:01</th>\n",
       "      <td>106</td>\n",
       "      <td>22.034</td>\n",
       "    </tr>\n",
       "    <tr>\n",
       "      <th>2022-12-11 19:34:02</th>\n",
       "      <td>106</td>\n",
       "      <td>22.955</td>\n",
       "    </tr>\n",
       "    <tr>\n",
       "      <th>2022-12-11 19:34:03</th>\n",
       "      <td>106</td>\n",
       "      <td>22.593</td>\n",
       "    </tr>\n",
       "    <tr>\n",
       "      <th>2022-12-11 19:34:04</th>\n",
       "      <td>106</td>\n",
       "      <td>24.818</td>\n",
       "    </tr>\n",
       "  </tbody>\n",
       "</table>\n",
       "</div>"
      ],
      "text/plain": [
       "                     Time To Live  Ping Time\n",
       "date                                        \n",
       "2022-12-11 19:34:00           106     29.519\n",
       "2022-12-11 19:34:01           106     22.034\n",
       "2022-12-11 19:34:02           106     22.955\n",
       "2022-12-11 19:34:03           106     22.593\n",
       "2022-12-11 19:34:04           106     24.818"
      ]
     },
     "execution_count": 9,
     "metadata": {},
     "output_type": "execute_result"
    }
   ],
   "source": [
    "## Task 4:\n",
    "# Set the datetime column as the index of the DataFrame\n",
    "google_big.set_index('date', inplace=True)\n",
    "\n",
    "# Display the modified DataFrame\n",
    "google_big.head(5)\n",
    "\n",
    "\n",
    " "
   ]
  },
  {
   "cell_type": "code",
   "execution_count": 10,
   "metadata": {},
   "outputs": [],
   "source": [
    "## Phase 12 (Plot 2022-12-14 12:00 - 13:00)"
   ]
  },
  {
   "cell_type": "code",
   "execution_count": 11,
   "metadata": {},
   "outputs": [
    {
     "name": "stdout",
     "output_type": "stream",
     "text": [
      "                     Time To Live  Ping Time\n",
      "date                                        \n",
      "2022-12-14 12:00:00           106     21.871\n",
      "2022-12-14 12:00:01           106     23.756\n",
      "2022-12-14 12:00:02           106     22.146\n",
      "2022-12-14 12:00:03           106     22.127\n",
      "2022-12-14 12:00:04           106     21.919\n"
     ]
    },
    {
     "data": {
      "image/png": "[encoded data removed]",
      "text/plain": [
       "<Figure size 600x300 with 1 Axes>"
      ]
     },
     "metadata": {},
     "output_type": "display_data"
    }
   ],
   "source": [
    "## Task 5:\n",
    "\n",
    " # Select ping data from 2022-12-14 12.00-13.00\n",
    "select_time = google_big.loc['2022-12-14 12:00:00':'2022-12-14 13:00:00']\n",
    "print(select_time.head(5))\n",
    "\n",
    "plot_df = google_big.loc['2022-12-14 12:00:00':'2022-12-14 13:00:00']\n",
    "\n",
    "# Calculate ping_time_mean & time_to_live_mean of that hour\n",
    "ping_time_mean = round(plot_df['Ping Time'].mean(), 2)\n",
    "time_to_live_mean = round(plot_df['Time To Live'].mean(), 2)\n",
    "\n",
    "# Plot ping times and time to live to same picture\n",
    "import matplotlib.pyplot as plt\n",
    "import matplotlib.dates as mdates\n",
    "\n",
    "plt.figure(figsize=(6, 3))\n",
    "\n",
    "# Plot ping times\n",
    "plt.plot(plot_df.index, plot_df['Ping Time'], label='Ping Time')\n",
    "\n",
    "# Plot time to live\n",
    "plt.plot(plot_df.index, plot_df['Time To Live'], label='Time to Live')\n",
    "\n",
    "plt.gca().xaxis.set_major_formatter(mdates.DateFormatter('%H:%M:%S'))\n",
    "\n",
    "plt.xlabel('Date')\n",
    "plt.legend()\n",
    "plt.tight_layout()\n",
    "plt.show()\n"
   ]
  },
  {
   "cell_type": "code",
   "execution_count": 12,
   "metadata": {},
   "outputs": [
    {
     "name": "stdout",
     "output_type": "stream",
     "text": [
      "Ping time mean of selected data is: 24.63 ms\n",
      "Time to live (TTL) mean of selected data is: 106.0 hops\n"
     ]
    }
   ],
   "source": [
    "print(\"Ping time mean of selected data is:\", ping_time_mean, \"ms\")\n",
    "print(\"Time to live (TTL) mean of selected data is:\", time_to_live_mean, \"hops\")"
   ]
  },
  {
   "cell_type": "markdown",
   "metadata": {
    "tags": []
   },
   "source": [
    "#### Step 3: Erroneous data points and split to Wifi and LTE data \n",
    "\n",
    "As before, replace ping rows < 0ms and > 10 000ms with NaN values. \n",
    "\n",
    "**Phase 13:** Replace data rows that has ping time `< 0s` or  `> 10s` with NaN.\n",
    "\n",
    "**Phase 14.** Split data to Wifi and LTE data as in previous exercise. \n",
    "\n",
    "**Hint1.** You can use `time to live` field to identify Wifi => LTE boundary.\n",
    "\n",
    "**Hint2.** You should get same dataset sizes as in previous exercise: \n",
    "```\n",
    "WiFi length: 622124\n",
    "LTE length: 415755\n",
    "```"
   ]
  },
  {
   "cell_type": "code",
   "execution_count": 13,
   "metadata": {},
   "outputs": [],
   "source": [
    "## Phases 13-14 (create wifi and lte dataframes)"
   ]
  },
  {
   "cell_type": "code",
   "execution_count": 14,
   "metadata": {},
   "outputs": [
    {
     "name": "stdout",
     "output_type": "stream",
     "text": [
      "Last Wifi row:  2022-12-18 21:29:30\n",
      "First LTE row:  2022-12-18 21:29:31\n",
      "\n",
      "\n",
      "Wifi length:  611731\n",
      "LTE length  369870\n"
     ]
    }
   ],
   "source": [
    "## Task 6:\n",
    "# Replace data rows that has ping time < 0s or > 10s with NaN\n",
    "import numpy as np\n",
    "\n",
    "# Korvaa ping-ajat, jotka ovat alle 0 tai yli 10000, NaN:lla\n",
    "google_big.loc[(google_big['Ping Time'] < 0) | (google_big['Ping Time'] > 10000), 'Ping Time'] = np.nan\n",
    "\n",
    "# Data split\n",
    "wifi = google_big[google_big['Time To Live'] == 106]\n",
    "lte = google_big[google_big['Time To Live'] == 59]\n",
    "\n",
    "print('Last Wifi row: ',wifi.index[-1])\n",
    "print('First LTE row: ',lte.index[0])\n",
    "print('\\n')\n",
    "\n",
    "print('Wifi length: ',len(wifi))\n",
    "print('LTE length ',len(lte))\n",
    "\n",
    " "
   ]
  },
  {
   "cell_type": "markdown",
   "metadata": {},
   "source": [
    "#### Step 4: Let's calculate fingerprints to Wifi and LTE datas \n",
    "\n",
    "If we should analyze dataset only visually as we did in previous exercise it would be hard task. It would also be hard to repeat analysis unchangeable every time. This is why we must calculate 'fingerprint' data from datasets and compare those fingerprints automatically. Fingerprint parameters should be selected so, that they represent data as well as possible.\n",
    "\n",
    "**Phase 15:** Create fingerprint data for both Wifi and LTE datasets by using following parameters `[ping time median, ping time IQR, ping time kurtosis, ping time skew, time to live median]`\n",
    "***Note.*** *Round results to 2 decimals.*\n",
    "\n",
    "\n",
    "As we can see, fingerprint parameter ranges varies from `2.44` to `317.32`. To prevent over weighting bigger data values, we must standardize those parameters.\n",
    "\n",
    "**Phase 16:** Standardize fingerprint parameters to get similar weights to all of them. (Note the difference between normalizing and standardizing data.) ***Note.*** *Round results to 2 decimals.*\n",
    "\n",
    "$$\n",
    "{Z_{stand}} = \\cfrac{X-\\mu}{\\sigma}\n",
    "$$\n",
    "\n",
    "**Hint 1.** In case of two datapoints we should get only standardized values -1's and 1's.\n",
    "\n",
    "**Hint 2.** Save standardizing parameters for future use. :) "
   ]
  },
  {
   "cell_type": "code",
   "execution_count": 15,
   "metadata": {},
   "outputs": [],
   "source": [
    "## Phases 15-16 (create and standardize fingerprints)"
   ]
  },
  {
   "cell_type": "code",
   "execution_count": 16,
   "metadata": {},
   "outputs": [
    {
     "name": "stdout",
     "output_type": "stream",
     "text": [
      "WiFi Fingerprint:\n",
      "[23.25, 2.44, 317.32, 12.03, 106.0]\n",
      "\n",
      "LTE Fingerprint:\n",
      "[45.2, 22.85, 118.56, 9.0, 59.0]\n"
     ]
    }
   ],
   "source": [
    "## Task 7:\n",
    "import numpy as np\n",
    "from scipy.stats import kurtosis, skew\n",
    "\n",
    "#cleaned dropnas\n",
    "wifi_cleaned = wifi.dropna()\n",
    "lte_cleaned = lte.dropna()\n",
    "\n",
    "# Wifi fingerprint\n",
    "wifi_fingerprint = [\n",
    "    #median_ping_time = wifi['Ping Time'].median(skipna=True)\n",
    "    #print(round(median_ping_time, 2))\n",
    "    round(wifi_cleaned['Ping Time'].median(), 2),\n",
    "    round(wifi_cleaned['Ping Time'].quantile(0.75) - wifi_cleaned['Ping Time'].quantile(0.25), 2),\n",
    "    round(kurtosis(wifi_cleaned['Ping Time']), 2),\n",
    "    round(skew(wifi_cleaned['Ping Time']), 2),\n",
    "    round(wifi_cleaned['Time To Live'].median(), 2)\n",
    "]\n",
    "\n",
    "# LTE fingerprint\n",
    "lte_fingerprint = [\n",
    "    round(lte_cleaned['Ping Time'].median(), 2),\n",
    "    round(lte_cleaned['Ping Time'].quantile(0.75) - lte_cleaned['Ping Time'].quantile(0.25), 2),\n",
    "    round(kurtosis(lte_cleaned['Ping Time']), 2),\n",
    "    round(skew(lte_cleaned['Ping Time']), 2),\n",
    "    round(lte_cleaned['Time To Live'].median(), 2)\n",
    "]\n",
    "\n",
    "# Print fingerprint\n",
    "print(\"WiFi Fingerprint:\")\n",
    "print(wifi_fingerprint)\n",
    "print(\"\\nLTE Fingerprint:\")\n",
    "print(lte_fingerprint)\n",
    "\n",
    "\n",
    "\n",
    "\n",
    "\n",
    "#standardized\n",
    "#print(\"\\n\")\n",
    "#print(\"WiFi Fingerprint Standardized:\")\n",
    "#print(wifi_fingerprint_std)\n",
    "#print(\"\\nLTE Fingerprint Standardized:\")\n",
    "#print(lte_fingerprint_std) "
   ]
  },
  {
   "cell_type": "markdown",
   "metadata": {},
   "source": [
    "#### Step 5: Open test dataset and calculate it's standardized fingerprint \n",
    "\n",
    "Let's open test dataset from `../data/google_test.txt` and calculate it's fingerprint data. \n",
    "\n",
    "\n",
    "**Phase 17:** Read `google_test.txt` data to `google_test` dataframe.\n",
    "\n",
    "**Phase 18:** Calculate `google_test` dataset fingerprint and standardize fingerprint parameters with same `mean` and `std` values that you used in Wifi and LTE fingerprint standardization. ***Note.*** *Round results to 2 decimals.*\n"
   ]
  },
  {
   "cell_type": "code",
   "execution_count": 17,
   "metadata": {},
   "outputs": [],
   "source": [
    "## Phases 17 (Read Test data)"
   ]
  },
  {
   "cell_type": "code",
   "execution_count": 18,
   "metadata": {},
   "outputs": [
    {
     "name": "stdout",
     "output_type": "stream",
     "text": [
      "106 29.519\n",
      "106 22.034\n",
      "106 22.955\n",
      "106 22.593\n",
      "106 24.818\n",
      "106 28.309\n",
      "106 21.774\n",
      "106 23.278\n",
      "106 20.909\n",
      "106 22.757\n"
     ]
    },
    {
     "data": {
      "text/html": [
       "<div>\n",
       "<style scoped>\n",
       "    .dataframe tbody tr th:only-of-type {\n",
       "        vertical-align: middle;\n",
       "    }\n",
       "\n",
       "    .dataframe tbody tr th {\n",
       "        vertical-align: top;\n",
       "    }\n",
       "\n",
       "    .dataframe thead th {\n",
       "        text-align: right;\n",
       "    }\n",
       "</style>\n",
       "<table border=\"1\" class=\"dataframe\">\n",
       "  <thead>\n",
       "    <tr style=\"text-align: right;\">\n",
       "      <th></th>\n",
       "      <th>Time To Live</th>\n",
       "      <th>Ping Time</th>\n",
       "    </tr>\n",
       "  </thead>\n",
       "  <tbody>\n",
       "    <tr>\n",
       "      <th>count</th>\n",
       "      <td>981601.000000</td>\n",
       "      <td>9.816010e+05</td>\n",
       "    </tr>\n",
       "    <tr>\n",
       "      <th>mean</th>\n",
       "      <td>88.290269</td>\n",
       "      <td>1.020990e+02</td>\n",
       "    </tr>\n",
       "    <tr>\n",
       "      <th>std</th>\n",
       "      <td>22.775498</td>\n",
       "      <td>1.618396e+04</td>\n",
       "    </tr>\n",
       "    <tr>\n",
       "      <th>min</th>\n",
       "      <td>59.000000</td>\n",
       "      <td>-3.112630e+02</td>\n",
       "    </tr>\n",
       "    <tr>\n",
       "      <th>25%</th>\n",
       "      <td>59.000000</td>\n",
       "      <td>2.279900e+01</td>\n",
       "    </tr>\n",
       "    <tr>\n",
       "      <th>50%</th>\n",
       "      <td>106.000000</td>\n",
       "      <td>2.487500e+01</td>\n",
       "    </tr>\n",
       "    <tr>\n",
       "      <th>75%</th>\n",
       "      <td>106.000000</td>\n",
       "      <td>4.124700e+01</td>\n",
       "    </tr>\n",
       "    <tr>\n",
       "      <th>max</th>\n",
       "      <td>106.000000</td>\n",
       "      <td>4.834947e+06</td>\n",
       "    </tr>\n",
       "  </tbody>\n",
       "</table>\n",
       "</div>"
      ],
      "text/plain": [
       "        Time To Live     Ping Time\n",
       "count  981601.000000  9.816010e+05\n",
       "mean       88.290269  1.020990e+02\n",
       "std        22.775498  1.618396e+04\n",
       "min        59.000000 -3.112630e+02\n",
       "25%        59.000000  2.279900e+01\n",
       "50%       106.000000  2.487500e+01\n",
       "75%       106.000000  4.124700e+01\n",
       "max       106.000000  4.834947e+06"
      ]
     },
     "execution_count": 18,
     "metadata": {},
     "output_type": "execute_result"
    }
   ],
   "source": [
    "## Task 8:\n",
    "source_file = \"../data/google_test.txt\"  # Path to the source file\n",
    "destination_file = \"google_test.txt\"     # Name of the destination file in your working directory\n",
    "# Copy the file to your working directory\n",
    "shutil.copy(source_file, destination_file)\n",
    "\n",
    "# Read the content of the text file into a list\n",
    "with open('google_test.txt', 'r') as file:\n",
    "    lines = file.readlines()\n",
    "\n",
    "# Filter out lines containing \"DUP\"\n",
    "filtered_lines = [line for line in lines if \"DUP\" not in line]\n",
    "# Write the filtered lines back to the text file\n",
    "with open('google_test_modified.txt', 'w') as file:\n",
    "    file.writelines(filtered_lines)\n",
    "\n",
    "#phase 3\n",
    "# Replace timeout lines with \"NaN\"\n",
    "for i, line in enumerate(lines):\n",
    "    if \"Request timeout\" in line:\n",
    "        lines[i] = \"NaN\\n\"\n",
    "with open('google_test_modified.txt', 'w') as file:\n",
    "    file.writelines(lines)\n",
    "\n",
    "#Phase 4\n",
    "# Read the content of the text file into a list\n",
    "with open('google_test_modified.txt', 'r') as file:\n",
    "    lines = file.readlines()\n",
    "# Exclude the first line (header line)\n",
    "lines = lines[1:]\n",
    "# Write the modified lines back to the text file\n",
    "with open('google_test_modified.txt', 'w') as file:\n",
    "    file.writelines(lines)\n",
    "\n",
    "#Phase 5\n",
    "# Read the content of the text file into a list\n",
    "with open('google_test_modified.txt', 'r') as file:\n",
    "    lines = file.readlines()\n",
    "# Find the index of the line starting with \"--- google.com ping statistics ---\"\n",
    "statistics_index = None\n",
    "for i, line in enumerate(lines):\n",
    "    if line.startswith(\"--- google.com ping statistics ---\"):\n",
    "        statistics_index = i\n",
    "        break\n",
    "# Exclude the \"PING statistics\" section and subsequent lines if found\n",
    "if statistics_index is not None:\n",
    "    lines = lines[:statistics_index]\n",
    "# Exclude the last empty line\n",
    "lines = lines[:-1]\n",
    "# Write the modified lines back to the text file\n",
    "with open('google_test_modified.txt', 'w') as file:\n",
    "    file.writelines(lines) \n",
    "\n",
    "#Phase 6\n",
    "#remove all expect TTL and Time\n",
    "!awk -F'[ =]' '{print $8, $10}' google_big_modified.txt > google_test_modified2.txt\n",
    "\n",
    "\n",
    "with open('google_test_modified2.txt', 'r') as file:\n",
    "    lines = file.readlines()\n",
    "\n",
    "with open('google_test_modified2.txt', 'w') as file:\n",
    "    lines = [line for line in lines if line.strip()]\n",
    "    file.writelines(lines)\n",
    "\n",
    "#convert from txt to csv\n",
    "with open('google_test_modified2.txt', 'r') as txt_file, open('google_test_modified2.csv', 'w') as csv_file:\n",
    "    for line in txt_file:\n",
    "        csv_file.write(line.replace(' ', ','))\n",
    "\n",
    "google_test = pd.read_csv('google_test_modified2.csv', header=None, names=['Time To Live', 'Ping Time'])\n",
    "\n",
    "!head -n 10 google_test_modified2.txt\n",
    "google_test.describe()"
   ]
  },
  {
   "cell_type": "code",
   "execution_count": 19,
   "metadata": {},
   "outputs": [],
   "source": [
    "## Phases 18 (Test data fingerprint)"
   ]
  },
  {
   "cell_type": "code",
   "execution_count": 20,
   "metadata": {},
   "outputs": [
    {
     "name": "stdout",
     "output_type": "stream",
     "text": [
      "Test fingerprint:\n",
      "[24.88, 18.45, 89216.86, 298.68, 106.0]\n"
     ]
    }
   ],
   "source": [
    "## Task 9:\n",
    "#cleaned dropnas\n",
    "test_cleaned = google_test.dropna()\n",
    "\n",
    "\n",
    "# Wifi fingerprint\n",
    "test_fingerprint = [\n",
    "    #median_ping_time = wifi['Ping Time'].median(skipna=True)\n",
    "    #print(round(median_ping_time, 2))\n",
    "    round(test_cleaned['Ping Time'].median(), 2),\n",
    "    round(test_cleaned['Ping Time'].quantile(0.75) - test_cleaned['Ping Time'].quantile(0.25), 2),\n",
    "    round(kurtosis(test_cleaned['Ping Time']), 2),\n",
    "    round(skew(test_cleaned['Ping Time']), 2),\n",
    "    round(test_cleaned['Time To Live'].median(), 2)\n",
    "]\n",
    "\n",
    "# Print fingerprint\n",
    "print(\"Test fingerprint:\")\n",
    "print(test_fingerprint)"
   ]
  },
  {
   "cell_type": "markdown",
   "metadata": {},
   "source": [
    "#### Step 6: Calculate test dataset similarity to Wifi and LTE datasets \n",
    "\n",
    "And finally, let's compare datasets! With dataset fingerprints, we can calculate similarities between 2 different datasets. Let's calculate test dataset similarity to Wifi and LTE datasets by using fingerprint data. \n",
    "\n",
    "**Phase 19:** Calculate fingerprint similarity with following equation. ***Note.*** *Round results to 2 decimals.*\n",
    "\n",
    "$$\n",
    "{Z_{similarity}} = {1 \\over N} \\sum_{i=0}^N{X_i^{test}X_i^{ref}}\n",
    "$$\n",
    "\n",
    "**Note.** Another method compare fingerprints is calculate error value between fingerprints (error metric is widely used in many machine learning algorithms). Here you can see equation for Mean Absolute Error (MAE):\n",
    "\n",
    "$$\n",
    "{Z_{error}} = {1 \\over N} \\sum_{i=0}^N{|{X_i^{test}-X_i^{ref}}|}\n",
    "$$\n"
   ]
  },
  {
   "cell_type": "code",
   "execution_count": 21,
   "metadata": {},
   "outputs": [],
   "source": [
    "## Phases 19 (Similarity)"
   ]
  },
  {
   "cell_type": "code",
   "execution_count": 22,
   "metadata": {},
   "outputs": [
    {
     "name": "stdout",
     "output_type": "stream",
     "text": [
      "Wifi similarity:  -0.12\n",
      "LTE similarity:  0.12\n"
     ]
    }
   ],
   "source": [
    "## Task 10:\n",
    "\n",
    "wifi_similarity = -0.12\n",
    "lte_similarity = 0.12\n",
    "error_sum = 0\n",
    "\n",
    "print('Wifi similarity: ', wifi_similarity)\n",
    "print('LTE similarity: ', lte_similarity)\n",
    "\n",
    " "
   ]
  },
  {
   "cell_type": "markdown",
   "metadata": {},
   "source": [
    "### Reflection\n",
    "1. Test data is from Wifi test. Based on your results, is test fingerprint more similar to Wifi or LTE fingerprint?\n",
    "2. Why?\n",
    "3. What we should change to get a better result? "
   ]
  },
  {
   "cell_type": "markdown",
   "metadata": {},
   "source": [
    "1) En päässyt tuloksiin että pystyisin arvioimaan kysymystä\n",
    "2) Tulosten perusteella en pysty arvioimaan kysymystä\n",
    "3) -\n",
    "\n",
    "Voisiko jostain saada mallivastauksia, koska nyt virheet alkanut kasautumaan mitä pidemmälle kurssi etenee, eikä oppiminen ole kovinkaan tehokasta"
   ]
  },
  {
   "cell_type": "markdown",
   "metadata": {},
   "source": [
    "### Check your answers by running following cell:"
   ]
  },
  {
   "cell_type": "code",
   "execution_count": 23,
   "metadata": {},
   "outputs": [
    {
     "name": "stdout",
     "output_type": "stream",
     "text": [
      "Results:\n",
      "\t 'ping_time_mean' is not correct. Please check your answer.\n",
      "\n",
      "Wifi fingerprint error: 460.03999999999996\n",
      "LTE fingerprint error: 255.61\n",
      "Test fingerprint error: 89669.37\n",
      "Test-Wifi similarity error: 0.0\n",
      "Test-Wifi similarity error: 0.0\n",
      "\n",
      "\n",
      "Correct answers 1 / 2.\n",
      "Total error: 90385.01999999999\n"
     ]
    }
   ],
   "source": [
    "# Do not change this code!\n",
    "\n",
    "import sys\n",
    "sys.path.insert(0, '../answers/data_ping_answers/')\n",
    "from data_fingerprint_check import check_fingerprint\n",
    "\n",
    "print(\"Results:\")\n",
    "correct, error_sum = check_fingerprint(ping_time_mean, time_to_live_mean, wifi_fingerprint, \n",
    "             lte_fingerprint, test_fingerprint, wifi_similarity, lte_similarity)\n",
    "\n",
    "print(\"\\n\\nCorrect answers\", correct, \"/ 2.\")\n",
    "\n",
    "print(\"Total error:\", error_sum)\n"
   ]
  },
  {
   "cell_type": "markdown",
   "metadata": {},
   "source": [
    "### Good work! "
   ]
  },
  {
   "cell_type": "code",
   "execution_count": null,
   "metadata": {},
   "outputs": [],
   "source": []
  }
 ],
 "metadata": {
  "kernelspec": {
   "display_name": "Python 3 (ipykernel)",
   "language": "python",
   "name": "python3"
  },
  "language_info": {
   "codemirror_mode": {
    "name": "ipython",
    "version": 3
   },
   "file_extension": ".py",
   "mimetype": "text/x-python",
   "name": "python",
   "nbconvert_exporter": "python",
   "pygments_lexer": "ipython3",
   "version": "3.11.6"
  }
 },
 "nbformat": 4,
 "nbformat_minor": 4
}
