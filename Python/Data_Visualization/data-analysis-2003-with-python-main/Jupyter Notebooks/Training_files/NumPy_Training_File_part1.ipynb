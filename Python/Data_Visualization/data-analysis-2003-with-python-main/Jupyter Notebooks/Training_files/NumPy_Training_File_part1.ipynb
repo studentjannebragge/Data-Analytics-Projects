{
 "cells": [
  {
   "cell_type": "code",
   "execution_count": 2,
   "id": "775aa363-f8f5-44fd-b6a8-c7b90cbc6adf",
   "metadata": {},
   "outputs": [],
   "source": [
    "import pandas as pd\n",
    "import numpy as np\n",
    "import matplotlib as mp"
   ]
  },
  {
   "cell_type": "code",
   "execution_count": 3,
   "id": "c5d147e9-3227-489d-9dc8-9d0af67a06c0",
   "metadata": {},
   "outputs": [
    {
     "name": "stdout",
     "output_type": "stream",
     "text": [
      "1.24.4\n",
      "2.1.1\n",
      "3.8.0\n"
     ]
    }
   ],
   "source": [
    "print(np.__version__)\n",
    "print(pd.__version__)\n",
    "print(mp.__version__)"
   ]
  },
  {
   "cell_type": "code",
   "execution_count": 5,
   "id": "33be08d9-eba8-43d6-aa65-122ecf32096c",
   "metadata": {},
   "outputs": [
    {
     "name": "stdout",
     "output_type": "stream",
     "text": [
      "hello world\n"
     ]
    },
    {
     "data": {
      "text/plain": [
       "'moro Tampere'"
      ]
     },
     "execution_count": 5,
     "metadata": {},
     "output_type": "execute_result"
    }
   ],
   "source": [
    "print(\"hello world\")\n",
    "\n",
    "a=\"moro Tampere\"\n",
    "a"
   ]
  },
  {
   "cell_type": "markdown",
   "id": "f0acf2b0-dc7a-4182-8c18-baa057bf289b",
   "metadata": {},
   "source": [
    "Numpy arrays vs Python list\n",
    "Numpy is fast, convient, less memory\n",
    "\n"
   ]
  },
  {
   "cell_type": "code",
   "execution_count": 6,
   "id": "de78e85a-c157-4b0d-94fa-76ff1ac2e285",
   "metadata": {},
   "outputs": [
    {
     "data": {
      "text/plain": [
       "array([1, 2, 3])"
      ]
     },
     "execution_count": 6,
     "metadata": {},
     "output_type": "execute_result"
    }
   ],
   "source": [
    "a=np.array([1,2,3])\n",
    "a"
   ]
  },
  {
   "cell_type": "code",
   "execution_count": 7,
   "id": "e2fb41a1-b999-4fb0-8a8d-a917b61889e3",
   "metadata": {},
   "outputs": [
    {
     "data": {
      "text/plain": [
       "2"
      ]
     },
     "execution_count": 7,
     "metadata": {},
     "output_type": "execute_result"
    }
   ],
   "source": [
    "a[1]"
   ]
  },
  {
   "cell_type": "code",
   "execution_count": 8,
   "id": "ad02eddf-1473-4215-a2a3-cf15a6890a70",
   "metadata": {},
   "outputs": [],
   "source": [
    "import time\n",
    "import sys"
   ]
  },
  {
   "cell_type": "code",
   "execution_count": 12,
   "id": "43bebcbe-d0a4-44bc-84bc-cdbc5f87d39f",
   "metadata": {},
   "outputs": [
    {
     "name": "stdout",
     "output_type": "stream",
     "text": [
      "28000\n"
     ]
    }
   ],
   "source": [
    "b=range(1000)\n",
    "print(sys.getsizeof(5)*len(b))"
   ]
  },
  {
   "cell_type": "code",
   "execution_count": 14,
   "id": "bc819ff0-f3c8-4318-8fef-163c867c9439",
   "metadata": {},
   "outputs": [
    {
     "name": "stdout",
     "output_type": "stream",
     "text": [
      "8000\n"
     ]
    }
   ],
   "source": [
    "c = np.arange(1000)\n",
    "print(c.size*c.itemsize)"
   ]
  },
  {
   "cell_type": "code",
   "execution_count": 15,
   "id": "7400a1cc-da71-44a7-9b3a-28c8c04be1b5",
   "metadata": {},
   "outputs": [],
   "source": [
    "size = 100000"
   ]
  },
  {
   "cell_type": "code",
   "execution_count": 16,
   "id": "b6d1509f-5690-42dd-9128-0201f665cf1d",
   "metadata": {},
   "outputs": [],
   "source": [
    "L1 = range(size)\n",
    "L2 = range(size)\n",
    "A1 = np.arange(size)\n",
    "A2 = np.arange(size)"
   ]
  },
  {
   "cell_type": "code",
   "execution_count": 18,
   "id": "5f899585-99cc-4dee-bacf-0ada171e74c7",
   "metadata": {
    "scrolled": true
   },
   "outputs": [
    {
     "name": "stdout",
     "output_type": "stream",
     "text": [
      "python list took:  71.1522102355957\n"
     ]
    }
   ],
   "source": [
    "start =time.time()\n",
    "result = [(x+y) for x,y in zip(L1, L2)]\n",
    "result = [(x+y) for x,y in zip(L1,L2)]\n",
    "#print(result)\n",
    "print(\"python list took: \", (time.time()-start)*1000)\n"
   ]
  },
  {
   "cell_type": "code",
   "execution_count": 19,
   "id": "d0b595be-bafb-47cd-a983-3ce441742aa3",
   "metadata": {},
   "outputs": [
    {
     "name": "stdout",
     "output_type": "stream",
     "text": [
      "numpy array took:  7.673025131225586\n"
     ]
    }
   ],
   "source": [
    "start =time.time()\n",
    "result = A1 + A2\n",
    "print(\"numpy array took: \", (time.time()-start)*1000)"
   ]
  },
  {
   "cell_type": "code",
   "execution_count": 22,
   "id": "30324bae-1613-4de4-b33a-5fd49243c16d",
   "metadata": {},
   "outputs": [
    {
     "data": {
      "text/plain": [
       "array([[1, 2],\n",
       "       [3, 4],\n",
       "       [5, 6]])"
      ]
     },
     "execution_count": 22,
     "metadata": {},
     "output_type": "execute_result"
    }
   ],
   "source": [
    "a = np.array([[1,2],[3,4],[5,6]])\n",
    "a"
   ]
  },
  {
   "cell_type": "code",
   "execution_count": 23,
   "id": "b52c8d97-e992-4193-991b-cc993f220e2d",
   "metadata": {},
   "outputs": [
    {
     "data": {
      "text/plain": [
       "2"
      ]
     },
     "execution_count": 23,
     "metadata": {},
     "output_type": "execute_result"
    }
   ],
   "source": [
    "a.ndim"
   ]
  },
  {
   "cell_type": "code",
   "execution_count": 24,
   "id": "2c71e899-7303-441e-9e6f-96ab727960c8",
   "metadata": {},
   "outputs": [
    {
     "data": {
      "text/plain": [
       "8"
      ]
     },
     "execution_count": 24,
     "metadata": {},
     "output_type": "execute_result"
    }
   ],
   "source": [
    "a.itemsize"
   ]
  },
  {
   "cell_type": "code",
   "execution_count": 25,
   "id": "b1c6956c-523f-4454-82e5-2a91fd24fc3f",
   "metadata": {},
   "outputs": [
    {
     "data": {
      "text/plain": [
       "(3, 2)"
      ]
     },
     "execution_count": 25,
     "metadata": {},
     "output_type": "execute_result"
    }
   ],
   "source": [
    "a.shape"
   ]
  },
  {
   "cell_type": "code",
   "execution_count": 28,
   "id": "a083f6e1-5fd4-42ac-873f-92196e389af6",
   "metadata": {},
   "outputs": [
    {
     "data": {
      "text/plain": [
       "array([[1., 2.],\n",
       "       [3., 4.],\n",
       "       [5., 6.]])"
      ]
     },
     "execution_count": 28,
     "metadata": {},
     "output_type": "execute_result"
    }
   ],
   "source": [
    "a = np.array([[1,2],[3,4],[5,6]], dtype=np.float64)\n",
    "a"
   ]
  },
  {
   "cell_type": "code",
   "execution_count": 29,
   "id": "9f982a93-14fe-4c22-9056-d66799fd3fd8",
   "metadata": {},
   "outputs": [
    {
     "data": {
      "text/plain": [
       "8"
      ]
     },
     "execution_count": 29,
     "metadata": {},
     "output_type": "execute_result"
    }
   ],
   "source": [
    "a.itemsize"
   ]
  },
  {
   "cell_type": "code",
   "execution_count": 30,
   "id": "3105544e-ec2a-447f-8f6f-bf9a15504252",
   "metadata": {},
   "outputs": [
    {
     "data": {
      "text/plain": [
       "(3, 2)"
      ]
     },
     "execution_count": 30,
     "metadata": {},
     "output_type": "execute_result"
    }
   ],
   "source": [
    "a.shape"
   ]
  },
  {
   "cell_type": "code",
   "execution_count": 32,
   "id": "234d1d12-df33-48d1-a430-203d36acc731",
   "metadata": {},
   "outputs": [
    {
     "data": {
      "text/plain": [
       "array([[1.+0.j, 2.+0.j],\n",
       "       [3.+0.j, 4.+0.j],\n",
       "       [5.+0.j, 6.+0.j]])"
      ]
     },
     "execution_count": 32,
     "metadata": {},
     "output_type": "execute_result"
    }
   ],
   "source": [
    "a = np.array([[1,2],[3,4],[5,6]], dtype=np.complex_)\n",
    "a"
   ]
  },
  {
   "cell_type": "code",
   "execution_count": 33,
   "id": "b5557804-f495-470a-a4e2-ec7591eebffb",
   "metadata": {},
   "outputs": [
    {
     "data": {
      "text/plain": [
       "dtype('complex128')"
      ]
     },
     "execution_count": 33,
     "metadata": {},
     "output_type": "execute_result"
    }
   ],
   "source": [
    "a.dtype"
   ]
  },
  {
   "cell_type": "code",
   "execution_count": 35,
   "id": "59eb2bed-1cec-4b58-8de7-4e73a77a4528",
   "metadata": {},
   "outputs": [
    {
     "data": {
      "text/plain": [
       "array([[0., 0.],\n",
       "       [0., 0.],\n",
       "       [0., 0.]])"
      ]
     },
     "execution_count": 35,
     "metadata": {},
     "output_type": "execute_result"
    }
   ],
   "source": [
    "np.zeros((3,2))"
   ]
  },
  {
   "cell_type": "code",
   "execution_count": 36,
   "id": "92f278e1-e65b-48f8-aa82-1e53e73d5190",
   "metadata": {},
   "outputs": [
    {
     "data": {
      "text/plain": [
       "array([[1., 1., 1., 1., 1.],\n",
       "       [1., 1., 1., 1., 1.],\n",
       "       [1., 1., 1., 1., 1.],\n",
       "       [1., 1., 1., 1., 1.],\n",
       "       [1., 1., 1., 1., 1.]])"
      ]
     },
     "execution_count": 36,
     "metadata": {},
     "output_type": "execute_result"
    }
   ],
   "source": [
    "np.ones((5,5))"
   ]
  },
  {
   "cell_type": "code",
   "execution_count": 37,
   "id": "62cb8a97-4959-439c-8cac-24c5da2e596b",
   "metadata": {},
   "outputs": [
    {
     "data": {
      "text/plain": [
       "array([1, 2, 3, 4, 5, 6, 7, 8, 9])"
      ]
     },
     "execution_count": 37,
     "metadata": {},
     "output_type": "execute_result"
    }
   ],
   "source": [
    "np.arange(1,10)"
   ]
  },
  {
   "cell_type": "code",
   "execution_count": 38,
   "id": "93348e1b-5a51-4e83-b062-941084b3a67e",
   "metadata": {},
   "outputs": [
    {
     "name": "stdout",
     "output_type": "stream",
     "text": [
      "Concatenation example:\n",
      "['moroabd' 'moikkaedf']\n"
     ]
    }
   ],
   "source": [
    "print(\"Concatenation example:\")\n",
    "print(np.char.add([\"moro\", \"moikka\"], [\"abd\", \"edf\"]))"
   ]
  },
  {
   "cell_type": "code",
   "execution_count": 41,
   "id": "f003eec3-2fb0-4ddc-807f-cef2dde0ab67",
   "metadata": {},
   "outputs": [
    {
     "name": "stdout",
     "output_type": "stream",
     "text": [
      "--------moro--------\n"
     ]
    }
   ],
   "source": [
    "print(np.char.center(\"moro\", 20, fillchar = \"-\"))"
   ]
  },
  {
   "cell_type": "code",
   "execution_count": 43,
   "id": "e0641f26-9d66-44f6-87d4-0f44ef85497a",
   "metadata": {},
   "outputs": [
    {
     "name": "stdout",
     "output_type": "stream",
     "text": [
      "Moro\n"
     ]
    }
   ],
   "source": [
    "print(np.char.capitalize(\"moro\"))"
   ]
  },
  {
   "cell_type": "code",
   "execution_count": 44,
   "id": "9a6664ea-fe05-4bbf-8584-e66b9a43178d",
   "metadata": {},
   "outputs": [
    {
     "name": "stdout",
     "output_type": "stream",
     "text": [
      "Moro Tampere\n"
     ]
    }
   ],
   "source": [
    "print(np.char.title(\"moro tampere\"))"
   ]
  },
  {
   "cell_type": "code",
   "execution_count": 45,
   "id": "c1c3d38e-8eb9-44bb-842b-c4fd88859bbd",
   "metadata": {},
   "outputs": [
    {
     "name": "stdout",
     "output_type": "stream",
     "text": [
      "MORO\n",
      "moro\n"
     ]
    }
   ],
   "source": [
    "print(np.char.upper(\"moro\"))\n",
    "print(np.char.lower(\"MORO\"))"
   ]
  },
  {
   "cell_type": "code",
   "execution_count": 46,
   "id": "121d1477-56e0-47fd-b334-0d9c6a1206bd",
   "metadata": {},
   "outputs": [
    {
     "name": "stdout",
     "output_type": "stream",
     "text": [
      "['moro', 'tampere', 'ja', 'tulevaisuus']\n"
     ]
    }
   ],
   "source": [
    "print(np.char.split(\"moro tampere ja tulevaisuus\"))"
   ]
  },
  {
   "cell_type": "code",
   "execution_count": 48,
   "id": "4d1ddd81-18f8-43c4-9046-076ded5c18f1",
   "metadata": {},
   "outputs": [
    {
     "name": "stdout",
     "output_type": "stream",
     "text": [
      "['moro', 'tampere ja tulevaisuus']\n"
     ]
    }
   ],
   "source": [
    "print(np.char.splitlines(\"moro\\ntampere ja tulevaisuus\"))"
   ]
  },
  {
   "cell_type": "code",
   "execution_count": 63,
   "id": "202625a0-b508-4e50-a28d-869dd4c6ab33",
   "metadata": {},
   "outputs": [
    {
     "name": "stdout",
     "output_type": "stream",
     "text": [
      "['nin' 'dmin' 'nait']\n"
     ]
    }
   ],
   "source": [
    "print(np.char.strip(['nina','admin','anaita'],'a'))"
   ]
  },
  {
   "cell_type": "code",
   "execution_count": 69,
   "id": "75b3e8a2-bf02-4008-8ee6-b5164b5cff6d",
   "metadata": {},
   "outputs": [
    {
     "name": "stdout",
     "output_type": "stream",
     "text": [
      "['d:m:y' 'y-m-d']\n"
     ]
    }
   ],
   "source": [
    "print(np.char.join([':','-'],['dmy','ymd']))"
   ]
  },
  {
   "cell_type": "code",
   "execution_count": 70,
   "id": "6aa7cb3f-191b-457b-af4e-56c848178a51",
   "metadata": {},
   "outputs": [
    {
     "name": "stdout",
     "output_type": "stream",
     "text": [
      "olin hyvä tanssija\n"
     ]
    }
   ],
   "source": [
    "print(np.char.replace(\"olen hyvä tanssija\", \"olen\", \"olin\"))"
   ]
  },
  {
   "cell_type": "code",
   "execution_count": null,
   "id": "14f12835-e23b-423e-832e-33ccea273bbc",
   "metadata": {},
   "outputs": [],
   "source": []
  }
 ],
 "metadata": {
  "kernelspec": {
   "display_name": "Python 3 (ipykernel)",
   "language": "python",
   "name": "python3"
  },
  "language_info": {
   "codemirror_mode": {
    "name": "ipython",
    "version": 3
   },
   "file_extension": ".py",
   "mimetype": "text/x-python",
   "name": "python",
   "nbconvert_exporter": "python",
   "pygments_lexer": "ipython3",
   "version": "3.11.6"
  }
 },
 "nbformat": 4,
 "nbformat_minor": 5
}
