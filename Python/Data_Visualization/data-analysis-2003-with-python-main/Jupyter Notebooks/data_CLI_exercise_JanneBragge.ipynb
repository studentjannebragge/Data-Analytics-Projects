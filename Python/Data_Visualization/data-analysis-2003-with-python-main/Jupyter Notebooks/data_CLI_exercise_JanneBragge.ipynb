{
 "cells": [
  {
   "cell_type": "markdown",
   "metadata": {},
   "source": [
    "#  DATA - Advanced Methods of Data Processing\n",
    "## Exercise: CLI"
   ]
  },
  {
   "cell_type": "code",
   "execution_count": 1,
   "metadata": {},
   "outputs": [
    {
     "name": "stdout",
     "output_type": "stream",
     "text": [
      "Exercise by: Janne Bragge\n"
     ]
    }
   ],
   "source": [
    "## Your code here \n",
    "print(\"Exercise by: Janne Bragge\")"
   ]
  },
  {
   "cell_type": "markdown",
   "metadata": {},
   "source": [
    "**Note1.** Use only relative folder paths to enable function also in different clone paths. </br>\n",
    "**Note2.** Do not change original data files in folder `../data/`.\n"
   ]
  },
  {
   "cell_type": "markdown",
   "metadata": {},
   "source": [
    "#### Step 1. Print current directory with command '!pwd'"
   ]
  },
  {
   "cell_type": "code",
   "execution_count": 2,
   "metadata": {},
   "outputs": [
    {
     "name": "stdout",
     "output_type": "stream",
     "text": [
      "/home/jovyan/work/courses/data-advanced-methods/test\n"
     ]
    }
   ],
   "source": [
    "## Task 1:\n",
    "!pwd \n",
    "\n",
    " "
   ]
  },
  {
   "cell_type": "markdown",
   "metadata": {},
   "source": [
    "#### Step 2. Print all files ../data/ directory (you should see there file 'google_ping.txt')"
   ]
  },
  {
   "cell_type": "code",
   "execution_count": 3,
   "metadata": {},
   "outputs": [
    {
     "name": "stdout",
     "output_type": "stream",
     "text": [
      "total 66M\n",
      "-rw-r--r-- 1 jovyan users 6.6K Jan  9 11:01 google2_ping.txt\n",
      "-rw-r--r-- 1 jovyan users  66M Jan  9 11:01 google_big.txt\n",
      "-rw-r--r-- 1 jovyan users 6.3K Jan  9 11:01 google_ping.txt\n",
      "-rw-r--r-- 1 jovyan users 271K Jan  9 11:01 google_test.txt\n"
     ]
    }
   ],
   "source": [
    "## Task 2:\n",
    "!ls -lh ../data/\n",
    "\n",
    "\n",
    " "
   ]
  },
  {
   "cell_type": "markdown",
   "metadata": {},
   "source": [
    "#### Step 3. Print 3 first rows from the file 'google_ping.txt'"
   ]
  },
  {
   "cell_type": "code",
   "execution_count": 4,
   "metadata": {},
   "outputs": [
    {
     "name": "stdout",
     "output_type": "stream",
     "text": [
      "PING google.com (74.125.205.138): 56 data bytes\n",
      "64 bytes from 74.125.205.138: icmp_seq=0 ttl=106 time=22.476 ms\n",
      "64 bytes from 74.125.205.138: icmp_seq=1 ttl=106 time=24.295 ms\n"
     ]
    }
   ],
   "source": [
    "## Task 3:\n",
    "!head -n 3 ../data/google_ping.txt\n",
    "\n",
    " "
   ]
  },
  {
   "cell_type": "markdown",
   "metadata": {},
   "source": [
    "#### Step 4.Print 3 last rows from the file 'google_ping.txt'"
   ]
  },
  {
   "cell_type": "code",
   "execution_count": 5,
   "metadata": {},
   "outputs": [
    {
     "name": "stdout",
     "output_type": "stream",
     "text": [
      "--- google.com ping statistics ---\n",
      "94 packets transmitted, 94 packets received, 0.0% packet loss\n",
      "round-trip min/avg/max/stddev = 21.390/44.664/153.979/40.020 ms\n"
     ]
    }
   ],
   "source": [
    "## Task 4:\n",
    "!tail -n 3 ../data/google_ping.txt\n",
    "\n",
    " "
   ]
  },
  {
   "cell_type": "markdown",
   "metadata": {},
   "source": [
    "#### Step 5. Use 'grep' tool to print all the lines with text \"time=\" in file 'google_ping.txt'"
   ]
  },
  {
   "cell_type": "code",
   "execution_count": 6,
   "metadata": {},
   "outputs": [
    {
     "name": "stdout",
     "output_type": "stream",
     "text": [
      "64 bytes from 74.125.205.138: icmp_seq=0 ttl=106 time=22.476 ms\n",
      "64 bytes from 74.125.205.138: icmp_seq=1 ttl=106 time=24.295 ms\n",
      "64 bytes from 74.125.205.138: icmp_seq=2 ttl=106 time=89.301 ms\n",
      "64 bytes from 74.125.205.138: icmp_seq=3 ttl=106 time=149.829 ms\n",
      "64 bytes from 74.125.205.138: icmp_seq=4 ttl=106 time=66.600 ms\n",
      "64 bytes from 74.125.205.138: icmp_seq=5 ttl=106 time=143.979 ms\n",
      "64 bytes from 74.125.205.138: icmp_seq=6 ttl=106 time=40.057 ms\n",
      "64 bytes from 74.125.205.138: icmp_seq=7 ttl=106 time=120.769 ms\n",
      "64 bytes from 74.125.205.138: icmp_seq=8 ttl=106 time=25.637 ms\n",
      "64 bytes from 74.125.205.138: icmp_seq=9 ttl=106 time=93.705 ms\n",
      "64 bytes from 74.125.205.138: icmp_seq=10 ttl=106 time=152.207 ms\n",
      "64 bytes from 74.125.205.138: icmp_seq=11 ttl=106 time=70.358 ms\n",
      "64 bytes from 74.125.205.138: icmp_seq=12 ttl=106 time=130.917 ms\n",
      "64 bytes from 74.125.205.138: icmp_seq=13 ttl=106 time=47.800 ms\n",
      "64 bytes from 74.125.205.138: icmp_seq=14 ttl=106 time=121.957 ms\n",
      "64 bytes from 74.125.205.138: icmp_seq=15 ttl=106 time=21.390 ms\n",
      "64 bytes from 74.125.205.138: icmp_seq=16 ttl=106 time=95.690 ms\n",
      "64 bytes from 74.125.205.138: icmp_seq=17 ttl=106 time=153.137 ms\n",
      "64 bytes from 74.125.205.138: icmp_seq=18 ttl=106 time=70.864 ms\n",
      "64 bytes from 74.125.205.138: icmp_seq=19 ttl=106 time=147.297 ms\n",
      "64 bytes from 74.125.205.138: icmp_seq=20 ttl=106 time=46.401 ms\n",
      "64 bytes from 74.125.205.138: icmp_seq=21 ttl=106 time=118.976 ms\n",
      "64 bytes from 74.125.205.138: icmp_seq=22 ttl=106 time=23.088 ms\n",
      "64 bytes from 74.125.205.138: icmp_seq=23 ttl=106 time=94.400 ms\n",
      "64 bytes from 74.125.205.138: icmp_seq=24 ttl=106 time=153.979 ms\n",
      "64 bytes from 74.125.205.138: icmp_seq=25 ttl=106 time=71.134 ms\n",
      "64 bytes from 74.125.205.138: icmp_seq=26 ttl=106 time=148.155 ms\n",
      "64 bytes from 74.125.205.138: icmp_seq=27 ttl=106 time=48.028 ms\n",
      "64 bytes from 74.125.205.138: icmp_seq=28 ttl=106 time=127.678 ms\n",
      "64 bytes from 74.125.205.138: icmp_seq=29 ttl=106 time=26.994 ms\n",
      "64 bytes from 74.125.205.138: icmp_seq=30 ttl=106 time=26.420 ms\n",
      "64 bytes from 74.125.205.138: icmp_seq=31 ttl=106 time=25.464 ms\n",
      "64 bytes from 74.125.205.138: icmp_seq=32 ttl=106 time=27.038 ms\n",
      "64 bytes from 74.125.205.138: icmp_seq=33 ttl=106 time=22.740 ms\n",
      "64 bytes from 74.125.205.138: icmp_seq=34 ttl=106 time=24.751 ms\n",
      "64 bytes from 74.125.205.138: icmp_seq=35 ttl=106 time=22.884 ms\n",
      "64 bytes from 74.125.205.138: icmp_seq=36 ttl=106 time=24.164 ms\n",
      "64 bytes from 74.125.205.138: icmp_seq=37 ttl=106 time=25.742 ms\n",
      "64 bytes from 74.125.205.138: icmp_seq=38 ttl=106 time=24.217 ms\n",
      "64 bytes from 74.125.205.138: icmp_seq=39 ttl=106 time=24.773 ms\n",
      "64 bytes from 74.125.205.138: icmp_seq=40 ttl=106 time=23.497 ms\n",
      "64 bytes from 74.125.205.138: icmp_seq=41 ttl=106 time=29.040 ms\n",
      "64 bytes from 74.125.205.138: icmp_seq=42 ttl=106 time=23.770 ms\n",
      "64 bytes from 74.125.205.138: icmp_seq=43 ttl=106 time=22.988 ms\n",
      "64 bytes from 74.125.205.138: icmp_seq=44 ttl=106 time=24.045 ms\n",
      "64 bytes from 74.125.205.138: icmp_seq=45 ttl=106 time=25.952 ms\n",
      "64 bytes from 74.125.205.138: icmp_seq=46 ttl=106 time=25.978 ms\n",
      "64 bytes from 74.125.205.138: icmp_seq=47 ttl=106 time=23.488 ms\n",
      "64 bytes from 74.125.205.138: icmp_seq=48 ttl=106 time=23.590 ms\n",
      "64 bytes from 74.125.205.138: icmp_seq=49 ttl=106 time=25.486 ms\n",
      "64 bytes from 74.125.205.138: icmp_seq=50 ttl=106 time=23.615 ms\n",
      "64 bytes from 74.125.205.138: icmp_seq=51 ttl=106 time=22.444 ms\n",
      "64 bytes from 74.125.205.138: icmp_seq=52 ttl=106 time=23.107 ms\n",
      "64 bytes from 74.125.205.138: icmp_seq=53 ttl=106 time=23.063 ms\n",
      "64 bytes from 74.125.205.138: icmp_seq=54 ttl=106 time=24.522 ms\n",
      "64 bytes from 74.125.205.138: icmp_seq=55 ttl=106 time=22.608 ms\n",
      "64 bytes from 74.125.205.138: icmp_seq=56 ttl=106 time=24.063 ms\n",
      "64 bytes from 74.125.205.138: icmp_seq=57 ttl=106 time=23.317 ms\n",
      "64 bytes from 74.125.205.138: icmp_seq=58 ttl=106 time=23.207 ms\n",
      "64 bytes from 74.125.205.138: icmp_seq=59 ttl=106 time=22.393 ms\n",
      "64 bytes from 74.125.205.138: icmp_seq=60 ttl=106 time=24.789 ms\n",
      "64 bytes from 74.125.205.138: icmp_seq=61 ttl=106 time=22.618 ms\n",
      "64 bytes from 74.125.205.138: icmp_seq=62 ttl=106 time=23.800 ms\n",
      "64 bytes from 74.125.205.138: icmp_seq=63 ttl=106 time=26.707 ms\n",
      "64 bytes from 74.125.205.138: icmp_seq=64 ttl=106 time=24.682 ms\n",
      "64 bytes from 74.125.205.138: icmp_seq=65 ttl=106 time=23.194 ms\n",
      "64 bytes from 74.125.205.138: icmp_seq=66 ttl=106 time=24.094 ms\n",
      "64 bytes from 74.125.205.138: icmp_seq=67 ttl=106 time=25.153 ms\n",
      "64 bytes from 74.125.205.138: icmp_seq=68 ttl=106 time=24.710 ms\n",
      "64 bytes from 74.125.205.138: icmp_seq=69 ttl=106 time=22.111 ms\n",
      "64 bytes from 74.125.205.138: icmp_seq=70 ttl=106 time=21.889 ms\n",
      "64 bytes from 74.125.205.138: icmp_seq=71 ttl=106 time=23.621 ms\n",
      "64 bytes from 74.125.205.138: icmp_seq=72 ttl=106 time=25.426 ms\n",
      "64 bytes from 74.125.205.138: icmp_seq=73 ttl=106 time=25.109 ms\n",
      "64 bytes from 74.125.205.138: icmp_seq=74 ttl=106 time=24.467 ms\n",
      "64 bytes from 74.125.205.138: icmp_seq=75 ttl=106 time=24.164 ms\n",
      "64 bytes from 74.125.205.138: icmp_seq=76 ttl=106 time=24.647 ms\n",
      "64 bytes from 74.125.205.138: icmp_seq=77 ttl=106 time=29.373 ms\n",
      "64 bytes from 74.125.205.138: icmp_seq=78 ttl=106 time=24.826 ms\n",
      "64 bytes from 74.125.205.138: icmp_seq=79 ttl=106 time=22.443 ms\n",
      "64 bytes from 74.125.205.138: icmp_seq=80 ttl=106 time=23.423 ms\n",
      "64 bytes from 74.125.205.138: icmp_seq=81 ttl=106 time=22.891 ms\n",
      "64 bytes from 74.125.205.138: icmp_seq=82 ttl=106 time=25.380 ms\n",
      "64 bytes from 74.125.205.138: icmp_seq=83 ttl=106 time=26.212 ms\n",
      "64 bytes from 74.125.205.138: icmp_seq=84 ttl=106 time=23.408 ms\n",
      "64 bytes from 74.125.205.138: icmp_seq=85 ttl=106 time=23.753 ms\n",
      "64 bytes from 74.125.205.138: icmp_seq=86 ttl=106 time=22.822 ms\n",
      "64 bytes from 74.125.205.138: icmp_seq=87 ttl=106 time=22.147 ms\n",
      "64 bytes from 74.125.205.138: icmp_seq=88 ttl=106 time=23.104 ms\n",
      "64 bytes from 74.125.205.138: icmp_seq=89 ttl=106 time=24.603 ms\n",
      "64 bytes from 74.125.205.138: icmp_seq=90 ttl=106 time=24.815 ms\n",
      "64 bytes from 74.125.205.138: icmp_seq=91 ttl=106 time=25.114 ms\n",
      "64 bytes from 74.125.205.138: icmp_seq=92 ttl=106 time=24.758 ms\n",
      "64 bytes from 74.125.205.138: icmp_seq=93 ttl=106 time=22.674 ms\n"
     ]
    }
   ],
   "source": [
    "## Task 5:\n",
    "!grep \"time=\" ../data/google_ping.txt\n",
    "\n",
    "\n",
    " "
   ]
  },
  {
   "cell_type": "markdown",
   "metadata": {},
   "source": [
    "#### Step 6. Run same 'grep' command again and use '>' operator to direct results to file 'rtts.txt'in folder '/test'"
   ]
  },
  {
   "cell_type": "code",
   "execution_count": 7,
   "metadata": {},
   "outputs": [],
   "source": [
    "## Task 6:\n",
    "\n",
    "!grep \"time=\" ../data/google_ping.txt > rtts.txt\n",
    "\n",
    "\n",
    "\n",
    " "
   ]
  },
  {
   "cell_type": "markdown",
   "metadata": {},
   "source": [
    "#### Step 7. Use command 'wc -l' to count lines in file 'rtts.txt'\n"
   ]
  },
  {
   "cell_type": "code",
   "execution_count": 8,
   "metadata": {},
   "outputs": [
    {
     "name": "stdout",
     "output_type": "stream",
     "text": [
      "94 rtts.txt\n"
     ]
    }
   ],
   "source": [
    "## Task 7:\n",
    "!wc -l rtts.txt\n",
    "\n",
    "\n",
    " "
   ]
  },
  {
   "cell_type": "markdown",
   "metadata": {},
   "source": [
    "#### Step 8. Use 'sed -i' command to replace IP-address 74.125.205.138 with xxx.xxx.xxx.xxx in file 'rtts.txt' (Hint. Use e.g. command 'head' to check file format after running this.)"
   ]
  },
  {
   "cell_type": "code",
   "execution_count": 9,
   "metadata": {},
   "outputs": [],
   "source": [
    "## Task 8:\n",
    "!sed -i 's/74.125.205.138/xxx.xxx.xxx.xxx/g' rtts.txt\n",
    " \n",
    "\n",
    " "
   ]
  },
  {
   "cell_type": "markdown",
   "metadata": {},
   "source": [
    "#### Step 9. Print all lines in file rtts.txt"
   ]
  },
  {
   "cell_type": "code",
   "execution_count": 10,
   "metadata": {},
   "outputs": [
    {
     "name": "stdout",
     "output_type": "stream",
     "text": [
      "64 bytes from xxx.xxx.xxx.xxx: icmp_seq=0 ttl=106 time=22.476 ms\n",
      "64 bytes from xxx.xxx.xxx.xxx: icmp_seq=1 ttl=106 time=24.295 ms\n",
      "64 bytes from xxx.xxx.xxx.xxx: icmp_seq=2 ttl=106 time=89.301 ms\n",
      "64 bytes from xxx.xxx.xxx.xxx: icmp_seq=3 ttl=106 time=149.829 ms\n",
      "64 bytes from xxx.xxx.xxx.xxx: icmp_seq=4 ttl=106 time=66.600 ms\n",
      "64 bytes from xxx.xxx.xxx.xxx: icmp_seq=5 ttl=106 time=143.979 ms\n",
      "64 bytes from xxx.xxx.xxx.xxx: icmp_seq=6 ttl=106 time=40.057 ms\n",
      "64 bytes from xxx.xxx.xxx.xxx: icmp_seq=7 ttl=106 time=120.769 ms\n",
      "64 bytes from xxx.xxx.xxx.xxx: icmp_seq=8 ttl=106 time=25.637 ms\n",
      "64 bytes from xxx.xxx.xxx.xxx: icmp_seq=9 ttl=106 time=93.705 ms\n",
      "64 bytes from xxx.xxx.xxx.xxx: icmp_seq=10 ttl=106 time=152.207 ms\n",
      "64 bytes from xxx.xxx.xxx.xxx: icmp_seq=11 ttl=106 time=70.358 ms\n",
      "64 bytes from xxx.xxx.xxx.xxx: icmp_seq=12 ttl=106 time=130.917 ms\n",
      "64 bytes from xxx.xxx.xxx.xxx: icmp_seq=13 ttl=106 time=47.800 ms\n",
      "64 bytes from xxx.xxx.xxx.xxx: icmp_seq=14 ttl=106 time=121.957 ms\n",
      "64 bytes from xxx.xxx.xxx.xxx: icmp_seq=15 ttl=106 time=21.390 ms\n",
      "64 bytes from xxx.xxx.xxx.xxx: icmp_seq=16 ttl=106 time=95.690 ms\n",
      "64 bytes from xxx.xxx.xxx.xxx: icmp_seq=17 ttl=106 time=153.137 ms\n",
      "64 bytes from xxx.xxx.xxx.xxx: icmp_seq=18 ttl=106 time=70.864 ms\n",
      "64 bytes from xxx.xxx.xxx.xxx: icmp_seq=19 ttl=106 time=147.297 ms\n",
      "64 bytes from xxx.xxx.xxx.xxx: icmp_seq=20 ttl=106 time=46.401 ms\n",
      "64 bytes from xxx.xxx.xxx.xxx: icmp_seq=21 ttl=106 time=118.976 ms\n",
      "64 bytes from xxx.xxx.xxx.xxx: icmp_seq=22 ttl=106 time=23.088 ms\n",
      "64 bytes from xxx.xxx.xxx.xxx: icmp_seq=23 ttl=106 time=94.400 ms\n",
      "64 bytes from xxx.xxx.xxx.xxx: icmp_seq=24 ttl=106 time=153.979 ms\n",
      "64 bytes from xxx.xxx.xxx.xxx: icmp_seq=25 ttl=106 time=71.134 ms\n",
      "64 bytes from xxx.xxx.xxx.xxx: icmp_seq=26 ttl=106 time=148.155 ms\n",
      "64 bytes from xxx.xxx.xxx.xxx: icmp_seq=27 ttl=106 time=48.028 ms\n",
      "64 bytes from xxx.xxx.xxx.xxx: icmp_seq=28 ttl=106 time=127.678 ms\n",
      "64 bytes from xxx.xxx.xxx.xxx: icmp_seq=29 ttl=106 time=26.994 ms\n",
      "64 bytes from xxx.xxx.xxx.xxx: icmp_seq=30 ttl=106 time=26.420 ms\n",
      "64 bytes from xxx.xxx.xxx.xxx: icmp_seq=31 ttl=106 time=25.464 ms\n",
      "64 bytes from xxx.xxx.xxx.xxx: icmp_seq=32 ttl=106 time=27.038 ms\n",
      "64 bytes from xxx.xxx.xxx.xxx: icmp_seq=33 ttl=106 time=22.740 ms\n",
      "64 bytes from xxx.xxx.xxx.xxx: icmp_seq=34 ttl=106 time=24.751 ms\n",
      "64 bytes from xxx.xxx.xxx.xxx: icmp_seq=35 ttl=106 time=22.884 ms\n",
      "64 bytes from xxx.xxx.xxx.xxx: icmp_seq=36 ttl=106 time=24.164 ms\n",
      "64 bytes from xxx.xxx.xxx.xxx: icmp_seq=37 ttl=106 time=25.742 ms\n",
      "64 bytes from xxx.xxx.xxx.xxx: icmp_seq=38 ttl=106 time=24.217 ms\n",
      "64 bytes from xxx.xxx.xxx.xxx: icmp_seq=39 ttl=106 time=24.773 ms\n",
      "64 bytes from xxx.xxx.xxx.xxx: icmp_seq=40 ttl=106 time=23.497 ms\n",
      "64 bytes from xxx.xxx.xxx.xxx: icmp_seq=41 ttl=106 time=29.040 ms\n",
      "64 bytes from xxx.xxx.xxx.xxx: icmp_seq=42 ttl=106 time=23.770 ms\n",
      "64 bytes from xxx.xxx.xxx.xxx: icmp_seq=43 ttl=106 time=22.988 ms\n",
      "64 bytes from xxx.xxx.xxx.xxx: icmp_seq=44 ttl=106 time=24.045 ms\n",
      "64 bytes from xxx.xxx.xxx.xxx: icmp_seq=45 ttl=106 time=25.952 ms\n",
      "64 bytes from xxx.xxx.xxx.xxx: icmp_seq=46 ttl=106 time=25.978 ms\n",
      "64 bytes from xxx.xxx.xxx.xxx: icmp_seq=47 ttl=106 time=23.488 ms\n",
      "64 bytes from xxx.xxx.xxx.xxx: icmp_seq=48 ttl=106 time=23.590 ms\n",
      "64 bytes from xxx.xxx.xxx.xxx: icmp_seq=49 ttl=106 time=25.486 ms\n",
      "64 bytes from xxx.xxx.xxx.xxx: icmp_seq=50 ttl=106 time=23.615 ms\n",
      "64 bytes from xxx.xxx.xxx.xxx: icmp_seq=51 ttl=106 time=22.444 ms\n",
      "64 bytes from xxx.xxx.xxx.xxx: icmp_seq=52 ttl=106 time=23.107 ms\n",
      "64 bytes from xxx.xxx.xxx.xxx: icmp_seq=53 ttl=106 time=23.063 ms\n",
      "64 bytes from xxx.xxx.xxx.xxx: icmp_seq=54 ttl=106 time=24.522 ms\n",
      "64 bytes from xxx.xxx.xxx.xxx: icmp_seq=55 ttl=106 time=22.608 ms\n",
      "64 bytes from xxx.xxx.xxx.xxx: icmp_seq=56 ttl=106 time=24.063 ms\n",
      "64 bytes from xxx.xxx.xxx.xxx: icmp_seq=57 ttl=106 time=23.317 ms\n",
      "64 bytes from xxx.xxx.xxx.xxx: icmp_seq=58 ttl=106 time=23.207 ms\n",
      "64 bytes from xxx.xxx.xxx.xxx: icmp_seq=59 ttl=106 time=22.393 ms\n",
      "64 bytes from xxx.xxx.xxx.xxx: icmp_seq=60 ttl=106 time=24.789 ms\n",
      "64 bytes from xxx.xxx.xxx.xxx: icmp_seq=61 ttl=106 time=22.618 ms\n",
      "64 bytes from xxx.xxx.xxx.xxx: icmp_seq=62 ttl=106 time=23.800 ms\n",
      "64 bytes from xxx.xxx.xxx.xxx: icmp_seq=63 ttl=106 time=26.707 ms\n",
      "64 bytes from xxx.xxx.xxx.xxx: icmp_seq=64 ttl=106 time=24.682 ms\n",
      "64 bytes from xxx.xxx.xxx.xxx: icmp_seq=65 ttl=106 time=23.194 ms\n",
      "64 bytes from xxx.xxx.xxx.xxx: icmp_seq=66 ttl=106 time=24.094 ms\n",
      "64 bytes from xxx.xxx.xxx.xxx: icmp_seq=67 ttl=106 time=25.153 ms\n",
      "64 bytes from xxx.xxx.xxx.xxx: icmp_seq=68 ttl=106 time=24.710 ms\n",
      "64 bytes from xxx.xxx.xxx.xxx: icmp_seq=69 ttl=106 time=22.111 ms\n",
      "64 bytes from xxx.xxx.xxx.xxx: icmp_seq=70 ttl=106 time=21.889 ms\n",
      "64 bytes from xxx.xxx.xxx.xxx: icmp_seq=71 ttl=106 time=23.621 ms\n",
      "64 bytes from xxx.xxx.xxx.xxx: icmp_seq=72 ttl=106 time=25.426 ms\n",
      "64 bytes from xxx.xxx.xxx.xxx: icmp_seq=73 ttl=106 time=25.109 ms\n",
      "64 bytes from xxx.xxx.xxx.xxx: icmp_seq=74 ttl=106 time=24.467 ms\n",
      "64 bytes from xxx.xxx.xxx.xxx: icmp_seq=75 ttl=106 time=24.164 ms\n",
      "64 bytes from xxx.xxx.xxx.xxx: icmp_seq=76 ttl=106 time=24.647 ms\n",
      "64 bytes from xxx.xxx.xxx.xxx: icmp_seq=77 ttl=106 time=29.373 ms\n",
      "64 bytes from xxx.xxx.xxx.xxx: icmp_seq=78 ttl=106 time=24.826 ms\n",
      "64 bytes from xxx.xxx.xxx.xxx: icmp_seq=79 ttl=106 time=22.443 ms\n",
      "64 bytes from xxx.xxx.xxx.xxx: icmp_seq=80 ttl=106 time=23.423 ms\n",
      "64 bytes from xxx.xxx.xxx.xxx: icmp_seq=81 ttl=106 time=22.891 ms\n",
      "64 bytes from xxx.xxx.xxx.xxx: icmp_seq=82 ttl=106 time=25.380 ms\n",
      "64 bytes from xxx.xxx.xxx.xxx: icmp_seq=83 ttl=106 time=26.212 ms\n",
      "64 bytes from xxx.xxx.xxx.xxx: icmp_seq=84 ttl=106 time=23.408 ms\n",
      "64 bytes from xxx.xxx.xxx.xxx: icmp_seq=85 ttl=106 time=23.753 ms\n",
      "64 bytes from xxx.xxx.xxx.xxx: icmp_seq=86 ttl=106 time=22.822 ms\n",
      "64 bytes from xxx.xxx.xxx.xxx: icmp_seq=87 ttl=106 time=22.147 ms\n",
      "64 bytes from xxx.xxx.xxx.xxx: icmp_seq=88 ttl=106 time=23.104 ms\n",
      "64 bytes from xxx.xxx.xxx.xxx: icmp_seq=89 ttl=106 time=24.603 ms\n",
      "64 bytes from xxx.xxx.xxx.xxx: icmp_seq=90 ttl=106 time=24.815 ms\n",
      "64 bytes from xxx.xxx.xxx.xxx: icmp_seq=91 ttl=106 time=25.114 ms\n",
      "64 bytes from xxx.xxx.xxx.xxx: icmp_seq=92 ttl=106 time=24.758 ms\n",
      "64 bytes from xxx.xxx.xxx.xxx: icmp_seq=93 ttl=106 time=22.674 ms\n"
     ]
    }
   ],
   "source": [
    "## Task 9:\n",
    "!cat rtts.txt\n",
    " \n",
    "\n",
    " "
   ]
  },
  {
   "cell_type": "markdown",
   "metadata": {},
   "source": [
    "### All done. Nice work! "
   ]
  },
  {
   "cell_type": "code",
   "execution_count": null,
   "metadata": {},
   "outputs": [],
   "source": []
  }
 ],
 "metadata": {
  "kernelspec": {
   "display_name": "Python 3 (ipykernel)",
   "language": "python",
   "name": "python3"
  },
  "language_info": {
   "codemirror_mode": {
    "name": "ipython",
    "version": 3
   },
   "file_extension": ".py",
   "mimetype": "text/x-python",
   "name": "python",
   "nbconvert_exporter": "python",
   "pygments_lexer": "ipython3",
   "version": "3.11.6"
  }
 },
 "nbformat": 4,
 "nbformat_minor": 4
}
