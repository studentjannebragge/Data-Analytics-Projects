{
 "cells": [
  {
   "cell_type": "markdown",
   "metadata": {},
   "source": [
    "# DATA - Advanced Methods of Data Processing \n",
    "## Exercise: Data Analytics Mathematics 2 (confidence and using outliers) in Jupyter\n",
    "\n",
    "Let's carry on with same ping file. And analyze it bit more."
   ]
  },
  {
   "cell_type": "code",
   "execution_count": 1,
   "metadata": {},
   "outputs": [
    {
     "name": "stdout",
     "output_type": "stream",
     "text": [
      "Exercise by: Janne Bragge\n"
     ]
    }
   ],
   "source": [
    "## Your code here \n",
    "print(\"Exercise by: Janne Bragge\")"
   ]
  },
  {
   "cell_type": "markdown",
   "metadata": {},
   "source": [
    "#### Step 1: Read the data \n",
    "**Task1.** Read `../data/google2_ping.txt` to pandas dataframe `google2_df`."
   ]
  },
  {
   "cell_type": "code",
   "execution_count": 2,
   "metadata": {},
   "outputs": [
    {
     "name": "stdout",
     "output_type": "stream",
     "text": [
      "Requirement already satisfied: ping3 in /opt/conda/lib/python3.11/site-packages (4.0.4)\n"
     ]
    }
   ],
   "source": [
    "## Task 1:\n",
    "!pip install ping3\n",
    "\n",
    "import pandas as pd\n",
    "import matplotlib.pyplot as plt\n",
    "import numpy as np\n",
    "\n",
    "%matplotlib inline\n",
    "\n",
    "!cp ../data/google2_ping.txt temp.txt\n",
    "\n",
    "with open(\"temp.txt\", \"r\") as file:\n",
    "    lines = file.readlines()\n",
    "with open(\"temp.txt\", \"w\") as file:\n",
    "    file.writelines(lines[1:-4])\n",
    "\n",
    "!sed -i -e 's/timeout/NaN/g' temp.txt\n",
    "\n",
    "!sed -i 's/^.*time=\\(.*\\) ms$/\\1/; s/^Request NaN for icmp_seq.*$/NaN/' temp.txt\n",
    "\n",
    "\n",
    "google2_data = !cat temp.txt \n",
    "google2_list = list(np.float_(google2_data))\n",
    "google2_df = pd.DataFrame(google2_list)\n",
    " \n",
    "\n",
    " "
   ]
  },
  {
   "cell_type": "markdown",
   "metadata": {},
   "source": [
    "#### Step 2: Calculate Google.com availability \n",
    "Availability means that how many times `google.com` was answering the ping. \n",
    "\n",
    "**Task 2.** Calculate google.com availability by calculating: `successful_pings / all_pings`\n",
    "\n",
    "**Task 3.** Calculate, how many minutes servers can be down in a year to meet this availability (see https://sre.google/sre-book/availability-table/ for other availabily values).\n",
    "\n",
    "- **Note 1.** Most of the time missed pings are due to networks issues, not Google server unavailability.\n",
    "- **Note 2.** Round availability to 3 decimals and down minutes to 1 decimal\n",
    "- **Note 3.** Use np.around() to avoid floating point number rounding problems see https://numpy.org/doc/stable/reference/generated/numpy.around.html"
   ]
  },
  {
   "cell_type": "code",
   "execution_count": 3,
   "metadata": {},
   "outputs": [],
   "source": [
    "## Task 2:\n",
    "response_times = google2_df\n",
    "\n",
    "def calculate_availability(response_times):\n",
    "    total_pings = len(response_times)\n",
    "    successful_pings = sum(1 for time in response_times if not np.isnan(time) and time < 100)\n",
    "\n",
    "    availability = successful_pings / total_pings\n",
    "    return availability\n",
    "\n",
    "availability_result = calculate_availability(response_times)\n",
    "#print(f\"Availability of Google.com: \", 1-availability_result)\n",
    "google_availability =  1-availability_result \n",
    "\n",
    " "
   ]
  },
  {
   "cell_type": "code",
   "execution_count": 4,
   "metadata": {},
   "outputs": [],
   "source": [
    "## Task 3:\n",
    "downtime_hour = 60**2 * 0.01\n",
    "downtime_year = (downtime_hour * 24)*365\n",
    "\n",
    "down_minutes_per_year = np.around(downtime_year / 60, decimals=1) \n",
    "\n",
    " "
   ]
  },
  {
   "cell_type": "code",
   "execution_count": 5,
   "metadata": {},
   "outputs": [
    {
     "name": "stdout",
     "output_type": "stream",
     "text": [
      "Google.com availability is: 0.99\n",
      "This availability means down time [min] / year: 5256.0\n"
     ]
    }
   ],
   "source": [
    "print(\"Google.com availability is:\", google_availability)\n",
    "print(\"This availability means down time [min] / year:\", down_minutes_per_year)"
   ]
  },
  {
   "cell_type": "markdown",
   "metadata": {},
   "source": [
    "#### Step 3: Confidence level \n",
    "\n",
    "But how confident we can be, that availability is really that good? And mean value in previous exercise is accurate? Cause we have only small number of samples to calculate these availability and mean values. "
   ]
  },
  {
   "cell_type": "markdown",
   "metadata": {},
   "source": [
    "##### Let's start with mean value confidence:\n",
    "\n",
    "Mean value confidence can be estimated with `confidence interval` (https://www.mathsisfun.com/data/confidence-interval.html). \n",
    "\n",
    "**Task 4.** Use formula below and calculate 95% confidence interval for mean ping delay:  \n",
    "\n",
    "$$ \\overline{X}_{delay} \\pm Z \\frac{s}{\\sqrt{n}} \\qquad  (1)$$\n",
    "\n",
    "- **Note 1.** n is the number of observations (i.e. number of ping delay values)  \n",
    "- **Note 2.** Round results to 1 decimals\n",
    "- **Note 3.** Use np.around() to avoid floating point number rounding problems see https://numpy.org/doc/stable/reference/generated/numpy.around.html\n"
   ]
  },
  {
   "cell_type": "code",
   "execution_count": 6,
   "metadata": {},
   "outputs": [],
   "source": [
    "## Task 4:\n",
    "import math\n",
    "\n",
    "google2_df.dropna(inplace=True)\n",
    "n = len(google2_df)\n",
    "\n",
    "z = 1.960\n",
    "\n",
    "mean_value = np.mean(google2_df)\n",
    "google2_mean = mean_value\n",
    "\n",
    "std_value = google2_df.std(axis=0) \n",
    "google2_std = std_value[0]\n",
    "\n",
    "mean_low_limit = np.around(google2_mean - 1.960 * (google2_std / math.sqrt(n)), decimals=1)\n",
    "mean_high_limit = np.around(google2_mean + 1.960 * (google2_std / math.sqrt(n)), decimals=1)\n",
    "\n",
    " "
   ]
  },
  {
   "cell_type": "code",
   "execution_count": 7,
   "metadata": {},
   "outputs": [
    {
     "name": "stdout",
     "output_type": "stream",
     "text": [
      "With 95% propability google.com ping time delay is between 20.0 and 35.3 ms.\n"
     ]
    }
   ],
   "source": [
    "print(\"With 95% propability google.com ping time delay is between\", mean_low_limit, \"and\", mean_high_limit, \"ms.\")"
   ]
  },
  {
   "cell_type": "markdown",
   "metadata": {},
   "source": [
    "##### And then availability confidence:\n",
    "Availability confidence interval can be calculated with formula below. \n",
    "\n",
    "**Task 5.** Use formula to calculate google.com service availability low limit for 95% confidence:\n",
    "\n",
    "$$p = \\hat{p} \\pm Z \\sqrt{\\frac{\\hat{p}\\hat{q}}{n}} \\qquad (2)$$\n",
    "\n",
    "\n",
    "- **Note 1.** n is the number of observations (i.e. number of all pings) \n",
    "- **Note 2.** Read Z value from here https://www.calculator.net/sample-size-calculator.html\n",
    "- **Note 3.** Round results to 3 decimals\n",
    "- **Note 4.** Use np.around() to avoid floating point number rounding problems see https://numpy.org/doc/stable/reference/generated/numpy.around.html\n",
    "\n",
    "\n",
    "**Hint.** You can check your answer with https://www.calculator.net/sample-size-calculator.html"
   ]
  },
  {
   "cell_type": "code",
   "execution_count": 8,
   "metadata": {},
   "outputs": [],
   "source": [
    "## Task 5:\n",
    "google2_df_nan = pd.DataFrame(google2_list)\n",
    "nan_count = google2_df_nan.isna().sum()\n",
    "error_percent = np.around((nan_count / n), decimals=2)\n",
    "correct_percent = 1 - error_percent[0]\n",
    "\n",
    "p_low = np.around(correct_percent - 1.96 * math.sqrt((correct_percent * (1-correct_percent)/n)), decimals=3)\n",
    "\n",
    " "
   ]
  },
  {
   "cell_type": "code",
   "execution_count": 9,
   "metadata": {},
   "outputs": [
    {
     "name": "stdout",
     "output_type": "stream",
     "text": [
      "With 95% propability, google.com availability is >  0.97\n"
     ]
    }
   ],
   "source": [
    "print(\"With 95% propability, google.com availability is > \", p_low)"
   ]
  },
  {
   "cell_type": "markdown",
   "metadata": {},
   "source": [
    "##### And what if you need bigger confidence for availability:\n",
    "**Task 6.** Reformulate (2) and calculate how many ping samples you need to find out if google.com availability is > 99.5% with error margin 0.5% and confidence level 99%.\n",
    "\n",
    "- **Note** Remember to round result to upper integer!\n"
   ]
  },
  {
   "cell_type": "code",
   "execution_count": 10,
   "metadata": {},
   "outputs": [],
   "source": [
    "## Task 6:\n",
    "z_99 = 2.58\n",
    "availability = 1 - 0.995\n",
    "\n",
    "N = np.ceil(z_99 **2 * availability * ((1 - availability) / availability **2))\n",
    "\n",
    " "
   ]
  },
  {
   "cell_type": "code",
   "execution_count": 11,
   "metadata": {},
   "outputs": [
    {
     "name": "stdout",
     "output_type": "stream",
     "text": [
      "Data sample count for 99% confidence must be > 1325.0\n"
     ]
    }
   ],
   "source": [
    "print(\"Data sample count for 99% confidence must be >\", N)"
   ]
  },
  {
   "cell_type": "markdown",
   "metadata": {},
   "source": [
    "### Reflection\n",
    "Answer following questions:\n",
    "1. What is service availability?\n",
    "\n",
    "Service Availability kertoo kuinka suuren osan ajasta t on järjestelmä käytösssä, tyypillisesti luku annetaan prosenteissa tai desimaalilukuna.\n",
    "\n",
    "2. How the number of samples influences to confidence of system availability?\n",
    "Tyypillisesti suurempi näytteiden määrä antaa luetettavampia tuloksia järjestelmän saatavuudesta ja luottamusväli on tulosten osalta laajempi esim. 95% -> 99%. Tämä johtuu siitä että satunnaisuuden merkitys tulosten osalta pienenee. Tieteellisessä tutkimuksessa varsinkin taloustieteissä hyväksytään yleisesti luottamusväliksi 95%\n",
    "\n",
    "3. What is good system availability metric?\n",
    "\n",
    "Hyvä mittari on sellainen joka antaa kattavan kuvan järjestelmän saatavuudesta. Materiaaleissa otettiin esiin tehtävässä käytetyn kokonaisaatavuuden lisäksi MTBF (Mean Time Between Failures) eli aika joka menee keskimäärin kahden peräkkäisen vian välillä (toiminta-aika) ja MTTR (Mean Time to Repair) eli aika joka menee vian korjaamiseen. \n",
    "\n",
    "Keskestä on mihin kysymyksiin pyritään vastaamaan, sen mukaan määräytyy käytettävä mittaristo"
   ]
  },
  {
   "cell_type": "markdown",
   "metadata": {},
   "source": [
    "*Your answers here...*"
   ]
  },
  {
   "cell_type": "markdown",
   "metadata": {},
   "source": [
    "### Check your answers by running following cell:"
   ]
  },
  {
   "cell_type": "code",
   "execution_count": 12,
   "metadata": {},
   "outputs": [
    {
     "name": "stdout",
     "output_type": "stream",
     "text": [
      "Results:\n",
      "Correct answers 6 / 6.\n"
     ]
    }
   ],
   "source": [
    "# Do not change this code!\n",
    "\n",
    "import sys\n",
    "sys.path.insert(0, '../answers/data_math_answers/')\n",
    "from data_math2_check import check_math2\n",
    "\n",
    "\n",
    "print(\"Results:\")\n",
    "correct = check_math2(google_availability, down_minutes_per_year, \n",
    "         mean_low_limit, mean_high_limit, p_low, N)\n",
    "print(\"Correct answers\", correct, \"/ 6.\")\n"
   ]
  },
  {
   "cell_type": "markdown",
   "metadata": {},
   "source": [
    "### Nice work! "
   ]
  },
  {
   "cell_type": "code",
   "execution_count": null,
   "metadata": {},
   "outputs": [],
   "source": []
  }
 ],
 "metadata": {
  "kernelspec": {
   "display_name": "Python 3 (ipykernel)",
   "language": "python",
   "name": "python3"
  },
  "language_info": {
   "codemirror_mode": {
    "name": "ipython",
    "version": 3
   },
   "file_extension": ".py",
   "mimetype": "text/x-python",
   "name": "python",
   "nbconvert_exporter": "python",
   "pygments_lexer": "ipython3",
   "version": "3.11.6"
  }
 },
 "nbformat": 4,
 "nbformat_minor": 4
}
