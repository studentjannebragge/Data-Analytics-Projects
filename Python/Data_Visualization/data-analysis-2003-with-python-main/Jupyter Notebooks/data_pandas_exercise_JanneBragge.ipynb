{
 "cells": [
  {
   "cell_type": "markdown",
   "metadata": {},
   "source": [
    "# DATA - Advanced Methods of Data Processing \n",
    "## Exercise: Pandas in Jupyter"
   ]
  },
  {
   "cell_type": "code",
   "execution_count": 1,
   "metadata": {},
   "outputs": [
    {
     "name": "stdout",
     "output_type": "stream",
     "text": [
      "Exercise by: Janne Bragge\n"
     ]
    }
   ],
   "source": [
    "## Your code here \n",
    "print(\"Exercise by: Janne Bragge\")"
   ]
  },
  {
   "cell_type": "markdown",
   "metadata": {},
   "source": [
    "#### Step 1: remove unneeded rows and calculate all rows and 'timeout'rows "
   ]
  },
  {
   "cell_type": "code",
   "execution_count": 2,
   "metadata": {},
   "outputs": [],
   "source": [
    "## 1. Copy google_ping.txt file to file temp.txt\n",
    "## 2. Strip first (1) row from the file temp.txt\n",
    "## 3. Strip 4 last rows from the file temp.txt\n",
    "## 4. Print 10 first rows of file temp.txt to see if it looks as it should "
   ]
  },
  {
   "cell_type": "code",
   "execution_count": 3,
   "metadata": {},
   "outputs": [
    {
     "name": "stdout",
     "output_type": "stream",
     "text": [
      "64 bytes from 74.125.205.138: icmp_seq=0 ttl=106 time=22.476 ms\n",
      "64 bytes from 74.125.205.138: icmp_seq=1 ttl=106 time=24.295 ms\n",
      "64 bytes from 74.125.205.138: icmp_seq=2 ttl=106 time=89.301 ms\n",
      "Request timeout for icmp_seq 3\n",
      "64 bytes from 74.125.205.138: icmp_seq=3 ttl=106 time=149.829 ms\n",
      "64 bytes from 74.125.205.138: icmp_seq=4 ttl=106 time=66.600 ms\n",
      "64 bytes from 74.125.205.138: icmp_seq=5 ttl=106 time=143.979 ms\n",
      "64 bytes from 74.125.205.138: icmp_seq=6 ttl=106 time=40.057 ms\n",
      "64 bytes from 74.125.205.138: icmp_seq=7 ttl=106 time=120.769 ms\n",
      "64 bytes from 74.125.205.138: icmp_seq=8 ttl=106 time=25.637 ms\n"
     ]
    }
   ],
   "source": [
    "## Task 1:\n",
    "!cp ../data/google_ping.txt temp.txt\n",
    "\n",
    "with open(\"temp.txt\", \"r\") as file:\n",
    "    lines = file.readlines()\n",
    "with open(\"temp.txt\", \"w\") as file:\n",
    "    file.writelines(lines[1:-4])\n",
    "\n",
    "!head -n 10 temp.txt\n",
    "\n",
    " "
   ]
  },
  {
   "cell_type": "code",
   "execution_count": 4,
   "metadata": {},
   "outputs": [],
   "source": [
    "## 5. calculate all rows in the file 'temp.txt' and save the result as variable 'ping_count' \n",
    "## 6. calculate rows with text 'timeout' in the file 'temp.txt' and save the result  as variable 'timeout_count'\n",
    "\n",
    "## You might need to change data types e.g.   \n",
    "# ping_count = int(ping_count[0])\n",
    "# timeout_count = int(timeout_count[0])"
   ]
  },
  {
   "cell_type": "code",
   "execution_count": 5,
   "metadata": {},
   "outputs": [
    {
     "data": {
      "text/plain": [
       "95"
      ]
     },
     "execution_count": 5,
     "metadata": {},
     "output_type": "execute_result"
    }
   ],
   "source": [
    "## Task 2:\n",
    "# Calculate all rows\n",
    "with open(\"temp.txt\", \"r\") as file:\n",
    "    ping_count = sum(1 for line in file)\n",
    "\n",
    "# Calculate rows with 'timeout'\n",
    "with open(\"temp.txt\", \"r\") as file:\n",
    "    timeout_count = sum(1 for line in file if 'timeout' in line)\n",
    "\n",
    "# Convert to integers\n",
    "ping_count = int(ping_count)\n",
    "timeout_count = int(timeout_count)\n",
    "\n",
    "ping_count\n",
    "\n",
    " "
   ]
  },
  {
   "cell_type": "markdown",
   "metadata": {},
   "source": [
    "#### Step 2: replace 'timeout'rows with text `NaN` and leave only ping times to other rows (e.g. 22.476). I.e. remove all other texts in the rows. \n",
    "\n",
    "**hint1.** In this cell you need only `sed` command \n",
    "\n",
    "**hint2.** Try first command `!sed -i -e 's/[0-9]\\{1,3\\}\\.[0-9]\\{1,3\\}\\.[0-9]\\{1,3\\}\\.[0-9]\\{1,3\\}//g' temp.txt` and investigate it's results by printing file `temp.txt`"
   ]
  },
  {
   "cell_type": "code",
   "execution_count": 6,
   "metadata": {},
   "outputs": [],
   "source": [
    "## 1. replace rows with 'timeout' with text 'NaN'  \n",
    "## 2. leave only ping times to other rows (e.g. 22.476). I.e. remove all other texts in the rows.\n",
    "## 3. Print 10 first rows of file temp.txt to see if it looks as it should "
   ]
  },
  {
   "cell_type": "code",
   "execution_count": 7,
   "metadata": {},
   "outputs": [
    {
     "name": "stdout",
     "output_type": "stream",
     "text": [
      "22.476\n",
      "24.295\n",
      "89.301\n",
      "NaN\n",
      "149.829\n",
      "66.600\n",
      "143.979\n",
      "40.057\n",
      "120.769\n",
      "25.637\n"
     ]
    }
   ],
   "source": [
    "## Task 3:\n",
    "!sed -i -e 's/timeout/NaN/g' temp.txt\n",
    "\n",
    "!sed -i 's/^.*time=\\(.*\\) ms$/\\1/; s/^Request NaN for icmp_seq.*$/NaN/' temp.txt\n",
    "\n",
    "!head -n 10 temp.txt\n",
    "\n",
    " "
   ]
  },
  {
   "cell_type": "markdown",
   "metadata": {},
   "source": [
    "#### Step 3: Read 'temp.txt' to Jupyter  "
   ]
  },
  {
   "cell_type": "code",
   "execution_count": 8,
   "metadata": {},
   "outputs": [],
   "source": [
    "## You can use following code rows to read the ping data from the file.\n",
    "# 1. ping_data = !cat temp.txt\n",
    "# 2. import numpy as np\n",
    "# 3. ping_list = list(np.float_(ping_data))"
   ]
  },
  {
   "cell_type": "code",
   "execution_count": 9,
   "metadata": {},
   "outputs": [],
   "source": [
    "## Task 4:\n",
    "ping_data = !cat temp.txt\n",
    "\n",
    "import numpy as np\n",
    "\n",
    "ping_list = list(np.float_(ping_data))\n",
    "\n",
    " "
   ]
  },
  {
   "cell_type": "markdown",
   "metadata": {},
   "source": [
    "#### Step 4: Make Pandas dataframe from the 'ping_list' and investigate it by using pandas describe methods and plotting it.    "
   ]
  },
  {
   "cell_type": "code",
   "execution_count": 10,
   "metadata": {},
   "outputs": [],
   "source": [
    "## 1. import pandas \n",
    "## 2. Make Pandas dataframe 'ping_df' from the 'ping_list' \n",
    "## 3. Calculate NaN values (= timeout rows) in 'ping_df'\n",
    "## 4. Print first 10 rows if 'ping_df'"
   ]
  },
  {
   "cell_type": "code",
   "execution_count": 11,
   "metadata": {},
   "outputs": [
    {
     "name": "stdout",
     "output_type": "stream",
     "text": [
      "ping_df NaN count is: 1\n"
     ]
    },
    {
     "data": {
      "text/html": [
       "<div>\n",
       "<style scoped>\n",
       "    .dataframe tbody tr th:only-of-type {\n",
       "        vertical-align: middle;\n",
       "    }\n",
       "\n",
       "    .dataframe tbody tr th {\n",
       "        vertical-align: top;\n",
       "    }\n",
       "\n",
       "    .dataframe thead th {\n",
       "        text-align: right;\n",
       "    }\n",
       "</style>\n",
       "<table border=\"1\" class=\"dataframe\">\n",
       "  <thead>\n",
       "    <tr style=\"text-align: right;\">\n",
       "      <th></th>\n",
       "      <th>0</th>\n",
       "    </tr>\n",
       "  </thead>\n",
       "  <tbody>\n",
       "    <tr>\n",
       "      <th>0</th>\n",
       "      <td>22.476</td>\n",
       "    </tr>\n",
       "    <tr>\n",
       "      <th>1</th>\n",
       "      <td>24.295</td>\n",
       "    </tr>\n",
       "    <tr>\n",
       "      <th>2</th>\n",
       "      <td>89.301</td>\n",
       "    </tr>\n",
       "    <tr>\n",
       "      <th>3</th>\n",
       "      <td>NaN</td>\n",
       "    </tr>\n",
       "    <tr>\n",
       "      <th>4</th>\n",
       "      <td>149.829</td>\n",
       "    </tr>\n",
       "    <tr>\n",
       "      <th>5</th>\n",
       "      <td>66.600</td>\n",
       "    </tr>\n",
       "    <tr>\n",
       "      <th>6</th>\n",
       "      <td>143.979</td>\n",
       "    </tr>\n",
       "    <tr>\n",
       "      <th>7</th>\n",
       "      <td>40.057</td>\n",
       "    </tr>\n",
       "    <tr>\n",
       "      <th>8</th>\n",
       "      <td>120.769</td>\n",
       "    </tr>\n",
       "    <tr>\n",
       "      <th>9</th>\n",
       "      <td>25.637</td>\n",
       "    </tr>\n",
       "  </tbody>\n",
       "</table>\n",
       "</div>"
      ],
      "text/plain": [
       "         0\n",
       "0   22.476\n",
       "1   24.295\n",
       "2   89.301\n",
       "3      NaN\n",
       "4  149.829\n",
       "5   66.600\n",
       "6  143.979\n",
       "7   40.057\n",
       "8  120.769\n",
       "9   25.637"
      ]
     },
     "execution_count": 11,
     "metadata": {},
     "output_type": "execute_result"
    }
   ],
   "source": [
    "## Task 5:\n",
    "import pandas as pd\n",
    "\n",
    "ping_df = pd.DataFrame(ping_list)\n",
    "\n",
    "\n",
    "nan_count = ping_df.isna().sum()\n",
    "print('ping_df NaN count is:', nan_count[0])\n",
    "\n",
    "ping_df.head(10)\n",
    "\n",
    " "
   ]
  },
  {
   "cell_type": "code",
   "execution_count": 12,
   "metadata": {},
   "outputs": [],
   "source": [
    "## 5. Investigate 'ping_df' statistics with pandas 'describe' function"
   ]
  },
  {
   "cell_type": "code",
   "execution_count": 13,
   "metadata": {},
   "outputs": [
    {
     "data": {
      "text/html": [
       "<div>\n",
       "<style scoped>\n",
       "    .dataframe tbody tr th:only-of-type {\n",
       "        vertical-align: middle;\n",
       "    }\n",
       "\n",
       "    .dataframe tbody tr th {\n",
       "        vertical-align: top;\n",
       "    }\n",
       "\n",
       "    .dataframe thead th {\n",
       "        text-align: right;\n",
       "    }\n",
       "</style>\n",
       "<table border=\"1\" class=\"dataframe\">\n",
       "  <thead>\n",
       "    <tr style=\"text-align: right;\">\n",
       "      <th></th>\n",
       "      <th>0</th>\n",
       "    </tr>\n",
       "  </thead>\n",
       "  <tbody>\n",
       "    <tr>\n",
       "      <th>count</th>\n",
       "      <td>94.000000</td>\n",
       "    </tr>\n",
       "    <tr>\n",
       "      <th>mean</th>\n",
       "      <td>44.663734</td>\n",
       "    </tr>\n",
       "    <tr>\n",
       "      <th>std</th>\n",
       "      <td>40.234384</td>\n",
       "    </tr>\n",
       "    <tr>\n",
       "      <th>min</th>\n",
       "      <td>21.390000</td>\n",
       "    </tr>\n",
       "    <tr>\n",
       "      <th>25%</th>\n",
       "      <td>23.411750</td>\n",
       "    </tr>\n",
       "    <tr>\n",
       "      <th>50%</th>\n",
       "      <td>24.754500</td>\n",
       "    </tr>\n",
       "    <tr>\n",
       "      <th>75%</th>\n",
       "      <td>37.386000</td>\n",
       "    </tr>\n",
       "    <tr>\n",
       "      <th>max</th>\n",
       "      <td>153.979000</td>\n",
       "    </tr>\n",
       "  </tbody>\n",
       "</table>\n",
       "</div>"
      ],
      "text/plain": [
       "                0\n",
       "count   94.000000\n",
       "mean    44.663734\n",
       "std     40.234384\n",
       "min     21.390000\n",
       "25%     23.411750\n",
       "50%     24.754500\n",
       "75%     37.386000\n",
       "max    153.979000"
      ]
     },
     "execution_count": 13,
     "metadata": {},
     "output_type": "execute_result"
    }
   ],
   "source": [
    "## Task 6:\n",
    "ping_df.describe()\n",
    "\n",
    " "
   ]
  },
  {
   "cell_type": "code",
   "execution_count": 14,
   "metadata": {},
   "outputs": [],
   "source": [
    "## 6. Use matplotlib inline to plot 'ping_df' data"
   ]
  },
  {
   "cell_type": "code",
   "execution_count": 15,
   "metadata": {},
   "outputs": [
    {
     "data": {
      "text/plain": [
       "<Axes: >"
      ]
     },
     "execution_count": 15,
     "metadata": {},
     "output_type": "execute_result"
    },
    {
     "data": {
      "image/png": "[encoded data removed]",
      "text/plain": [
       "<Figure size 640x480 with 1 Axes>"
      ]
     },
     "metadata": {},
     "output_type": "display_data"
    }
   ],
   "source": [
    "## Task 7:\n",
    "%matplotlib inline\n",
    "\n",
    "ping_df.plot()\n",
    "\n",
    " "
   ]
  },
  {
   "cell_type": "markdown",
   "metadata": {},
   "source": [
    "### Check your answers by running following cell:"
   ]
  },
  {
   "cell_type": "code",
   "execution_count": 16,
   "metadata": {},
   "outputs": [
    {
     "name": "stdout",
     "output_type": "stream",
     "text": [
      "Results:\n",
      "Correct answers 3 / 3.\n"
     ]
    }
   ],
   "source": [
    "# Do not change this code!\n",
    "\n",
    "import sys\n",
    "sys.path.insert(0, '../answers/data_pandas_answers/')\n",
    "from data_pandas_check import check_ping\n",
    "\n",
    "print(\"Results:\")\n",
    "correct = check_ping(ping_count, timeout_count, ping_df)\n",
    "print(\"Correct answers\", correct, \"/ 3.\")\n"
   ]
  },
  {
   "cell_type": "markdown",
   "metadata": {},
   "source": [
    "### Nice work! \n",
    "\n",
    "It is easy to use Pandas. Isn't it? :)"
   ]
  }
 ],
 "metadata": {
  "kernelspec": {
   "display_name": "Python 3 (ipykernel)",
   "language": "python",
   "name": "python3"
  },
  "language_info": {
   "codemirror_mode": {
    "name": "ipython",
    "version": 3
   },
   "file_extension": ".py",
   "mimetype": "text/x-python",
   "name": "python",
   "nbconvert_exporter": "python",
   "pygments_lexer": "ipython3",
   "version": "3.11.6"
  }
 },
 "nbformat": 4,
 "nbformat_minor": 4
}
