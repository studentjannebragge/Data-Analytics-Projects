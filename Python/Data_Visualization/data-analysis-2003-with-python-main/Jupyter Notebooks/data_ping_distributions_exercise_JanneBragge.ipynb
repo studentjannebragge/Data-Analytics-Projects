{
 "cells": [
  {
   "cell_type": "markdown",
   "metadata": {},
   "source": [
    "# DATA - Advanced Methods of Data Processing \n",
    "## Exercise: Ping data distributions\n",
    "\n",
    "Now you should have all needed tools to make full analysis for a PING file. In this exercise we use a bit longer PING file with > 1 million rows. Even if the file is only 66MB, it can cause problems in docker container CLI operations (e.g. sed). If you are not able to run CLI commands inside container in your own computer, use jupyterhub.dclabra.fi environment. :) \n"
   ]
  },
  {
   "cell_type": "code",
   "execution_count": 1,
   "metadata": {},
   "outputs": [
    {
     "name": "stdout",
     "output_type": "stream",
     "text": [
      "Exercise by: Janne Bragge\n"
     ]
    }
   ],
   "source": [
    "## Your code here \n",
    "print(\"Exercise by: Janne Bragge\")"
   ]
  },
  {
   "cell_type": "markdown",
   "metadata": {},
   "source": [
    "#### Step 1: Preprosess the data and read it to Pandas dataframe \n",
    "**Phase 1.** Copy `../data/google_big.txt` to your working file\n",
    "\n",
    "**Phase 2.** Remove duplicate lines (indicated with DUP)\n",
    "```\n",
    "DUPLICATE AND DAMAGED PACKETS         top\n",
    "       ping will report duplicate and damaged packets. Duplicate packets\n",
    "       should never occur, and seem to be caused by inappropriate\n",
    "       link-level retransmissions. Duplicates may occur in many\n",
    "       situations and are rarely (if ever) a good sign, although the\n",
    "       presence of low levels of duplicates may not always be cause for\n",
    "       alarm.\n",
    "\n",
    "       Damaged packets are obviously serious cause for alarm and often\n",
    "       indicate broken hardware somewhere in the ping packet's path (in\n",
    "       the network or in the hosts).\n",
    "```\n",
    "\n",
    "**Phase 3.** Replace timeout lines with NaN (`Request timeout for icmp_seq xxx`)\n",
    "\n",
    "**Phase 4.** Remove first header line (`PING google.com (74.125.205.101): 56 data bytes`)\n",
    "\n",
    "**Phase 5.** Remove PING statistics from the end \n",
    "```\n",
    "--- google.com ping statistics ---\n",
    "1047670 packets transmitted, 981599 packets received, +2 duplicates, 6.3% packet loss\n",
    "round-trip min/avg/max/stddev = -311.263/102.099/4834947.358/16183.947 ms\n",
    "````\n",
    "**Phase 6.** Read ping times and NaNs to pandas dataframe named `google_big`.\n",
    "\n",
    "**Phase 7.** Use `plot()` and `hist(bins=50)` to visualize `google_big` data.\n",
    "\n",
    "**Phase 8.** Print dataframe length.\n",
    "\n",
    "**Phase 9.** Print dataframe statistics with `describe()`. \n",
    "\n",
    "**Phase 10.** Save dataframe min and max values to variables `google_big_min` and `google_big_max`. \n",
    "\n",
    "\n"
   ]
  },
  {
   "cell_type": "code",
   "execution_count": 2,
   "metadata": {},
   "outputs": [],
   "source": [
    "## Phases 1-5 (File operations)"
   ]
  },
  {
   "cell_type": "code",
   "execution_count": 3,
   "metadata": {},
   "outputs": [],
   "source": [
    "## Task 1:\n",
    "## Your code here \n",
    "\n",
    "import shutil\n",
    "\n",
    "source_file = \"../data/google_big.txt\"  # Path to the source file\n",
    "destination_file = \"google_big.txt\"     # Name of the destination file in your working directory\n",
    "# Copy the file to your working directory\n",
    "shutil.copy(source_file, destination_file)\n",
    "#Phase 2\n",
    "# Read the content of the text file into a list\n",
    "with open('google_big.txt', 'r') as file:\n",
    "    lines = file.readlines()\n",
    "# Filter out lines containing \"DUP\"\n",
    "filtered_lines = [line for line in lines if \"DUP\" not in line]\n",
    "# Write the filtered lines back to the text file\n",
    "with open('google_big_modified.txt', 'w') as file:\n",
    "    file.writelines(filtered_lines)\n",
    "#Phase 3\n",
    "# Read the content of the text file into a list\n",
    "with open('google_big_modified.txt', 'r') as file:\n",
    "    lines = file.readlines()\n",
    "# Replace timeout lines with \"NaN\"\n",
    "for i, line in enumerate(lines):\n",
    "    if \"Request timeout\" in line:\n",
    "        lines[i] = \"NaN\\n\"\n",
    "# Write the modified lines back to the text file\n",
    "with open('google_big_modified.txt', 'w') as file:\n",
    "    file.writelines(lines)\n",
    "#Phase 4\n",
    "# Read the content of the text file into a list\n",
    "with open('google_big_modified.txt', 'r') as file:\n",
    "    lines = file.readlines()\n",
    "# Exclude the first line (header line)\n",
    "lines = lines[1:]\n",
    "# Write the modified lines back to the text file\n",
    "with open('google_big_modified.txt', 'w') as file:\n",
    "    file.writelines(lines)\n",
    "#Phase 5\n",
    "# Read the content of the text file into a list\n",
    "with open('google_big_modified.txt', 'r') as file:\n",
    "    lines = file.readlines()\n",
    "# Find the index of the line starting with \"--- google.com ping statistics ---\"\n",
    "statistics_index = None\n",
    "for i, line in enumerate(lines):\n",
    "    if line.startswith(\"--- google.com ping statistics ---\"):\n",
    "        statistics_index = i\n",
    "        break\n",
    "# Exclude the \"PING statistics\" section and subsequent lines if found\n",
    "if statistics_index is not None:\n",
    "    lines = lines[:statistics_index]\n",
    "# Exclude the last empty line\n",
    "lines = lines[:-1]\n",
    "# Write the modified lines back to the text file\n",
    "with open('google_big_modified.txt', 'w') as file:\n",
    "    file.writelines(lines) "
   ]
  },
  {
   "cell_type": "code",
   "execution_count": 4,
   "metadata": {},
   "outputs": [],
   "source": [
    "## Phase 6 (Read data to Pandas dataframe)"
   ]
  },
  {
   "cell_type": "code",
   "execution_count": 5,
   "metadata": {},
   "outputs": [],
   "source": [
    "## Task 2:\n",
    "import pandas as pd\n",
    "import numpy as np\n",
    "import matplotlib.pyplot as plt\n",
    "%matplotlib inline\n",
    "# Read the content of the text file into a list\n",
    "with open('google_big_modified.txt', 'r') as file:\n",
    "    lines = file.readlines()\n",
    "# Remove newline characters and split lines based on \"time=\"\n",
    "cleaned_lines = [line.strip().split('time=') for line in lines]\n",
    "# Create a DataFrame with the ping times and NaNs\n",
    "data = {'0': []}\n",
    "Nans = {'NaN': []}\n",
    "for parts in cleaned_lines:\n",
    "    if len(parts) == 2:  # Check if the line contains a ping time\n",
    "        try:\n",
    "            # Extract the substring containing the ping time and remove \"ms\"\n",
    "            ping_time = float(parts[1].split(' ')[0].replace(' ms', ''))\n",
    "            ping_time_rounded = np.around(ping_time, decimals=3)  # Round to 3 decimals\n",
    "            data['0'].append(ping_time_rounded)\n",
    "            Nans['NaN'].append(0)\n",
    "        except ValueError:\n",
    "            print(\"Invalid format for ping time in line:\", parts)\n",
    "    else:  # Handle lines containing \"NaN\"\n",
    "        data['0'].append(None)\n",
    "        Nans['NaN'].append(1)\n",
    "google_big = pd.DataFrame(data)"
   ]
  },
  {
   "cell_type": "code",
   "execution_count": 6,
   "metadata": {},
   "outputs": [],
   "source": [
    "## Phases 7-10 (1st analysis of the dataframe)\n",
    "\n",
    "# Note 1. Round all results to 2 decimals\n",
    "# Note 2. Use np.around() to avoid floating point number rounding problems\n",
    "# see https://numpy.org/doc/stable/reference/generated/numpy.around.html"
   ]
  },
  {
   "cell_type": "code",
   "execution_count": 7,
   "metadata": {},
   "outputs": [
    {
     "name": "stdout",
     "output_type": "stream",
     "text": [
      "google_big length is: 1047670\n",
      "google_big min is: -311.26\n",
      "google_big min is: 4834947.36\n",
      "                  0\n",
      "count  9.815990e+05\n",
      "mean   1.020991e+02\n",
      "std    1.618397e+04\n",
      "min   -3.112630e+02\n",
      "25%    2.279900e+01\n",
      "50%    2.487500e+01\n",
      "75%    4.124700e+01\n",
      "max    4.834947e+06\n"
     ]
    },
    {
     "data": {
      "image/png": "[encoded data removed]",
      "text/plain": [
       "<Figure size 640x480 with 1 Axes>"
      ]
     },
     "metadata": {},
     "output_type": "display_data"
    },
    {
     "data": {
      "image/png": "[encoded data removed]",
      "text/plain": [
       "<Figure size 640x480 with 1 Axes>"
      ]
     },
     "metadata": {},
     "output_type": "display_data"
    }
   ],
   "source": [
    "## Task 3:\n",
    "# Calculate len, min and max values\n",
    "google_big_min = np.around(google_big['0'].min(), decimals=2)\n",
    "google_big_max = np.around(google_big['0'].max(), decimals=2)\n",
    "print(\"google_big length is:\", len(google_big))\n",
    "print(\"google_big min is:\", google_big_min)\n",
    "print(\"google_big min is:\", google_big_max)\n",
    "# print table\n",
    "describe = google_big.describe()\n",
    "print(describe)\n",
    "# print plot\n",
    "google_big['0'].plot()\n",
    "plt.legend()\n",
    "plt.show()\n",
    "# print hist\n",
    "google_big['0'].hist(bins=50)\n",
    "plt.show()\n"
   ]
  },
  {
   "cell_type": "markdown",
   "metadata": {
    "tags": []
   },
   "source": [
    "#### Step 2: Erroneous data points\n",
    "\n",
    "We are using PING to measure IP-packet round-trip-time to google server and back. So values should always be positive. And let's assume that also values > 10s are not correct. As we noticed in Task 10 there are data points < 0ms and > 10 000ms in the dataframe. Let's remove those line from dataframe. \n",
    "\n",
    "**Phase 11:** Remove negative data points\n",
    "\n",
    "**Phase 12:** Remove data points > 10s\n",
    "\n",
    "**Phase 13.** Use `plot()` and `hist(bins=50)` to visualize `google_big` data.\n",
    "\n",
    "**Phase 14.** Print dataframe length.\n",
    "***Hint.*** *You should get* `google_big length is: 1047670`\n",
    "\n",
    "**Phase 15.** Print dataframe statistics with describe(). \n",
    "\n",
    "**Phase 16.** Save dataframe min and max values to variables `google_big_min2` and `google_big_max2`. \n",
    "\n"
   ]
  },
  {
   "cell_type": "code",
   "execution_count": 8,
   "metadata": {},
   "outputs": [],
   "source": [
    "## Phases 11-16\n",
    "\n",
    "# Note 1. Round all results to 2 decimals\n",
    "# Note 2. Use np.around() to avoid floating point number rounding problems\n",
    "# see https://numpy.org/doc/stable/reference/generated/numpy.around.html"
   ]
  },
  {
   "cell_type": "code",
   "execution_count": 9,
   "metadata": {},
   "outputs": [
    {
     "name": "stdout",
     "output_type": "stream",
     "text": [
      "google_big length is: 1047670\n",
      "google_big min2 is: 17.97\n",
      "google_big max2 is: 5614.72\n",
      "                   0\n",
      "count  981558.000000\n",
      "mean       47.531631\n",
      "std       111.149551\n",
      "min        17.973000\n",
      "25%        22.799000\n",
      "50%        24.875000\n",
      "75%        41.246000\n",
      "max      5614.719000\n"
     ]
    },
    {
     "data": {
      "image/png": "[encoded data removed]",
      "text/plain": [
       "<Figure size 640x480 with 1 Axes>"
      ]
     },
     "metadata": {},
     "output_type": "display_data"
    },
    {
     "data": {
      "image/png": "[encoded data removed]",
      "text/plain": [
       "<Figure size 640x480 with 1 Axes>"
      ]
     },
     "metadata": {},
     "output_type": "display_data"
    }
   ],
   "source": [
    "## Task 4:\n",
    "data_copy = data\n",
    "for key, values in data_copy.items():\n",
    "    # Exclude None values before performing comparison\n",
    "    data_copy[key] = [value for value in values if value is not None and value >= 0 and value <= 10000]\n",
    "google_big2 = pd.DataFrame(data_copy)\n",
    "# Calculate len, min and max values and print those\n",
    "google_big_length = len(google_big)\n",
    "google_big_min2 = np.around(google_big2.min(), decimals=2).iloc[0]  # Accessing the first element\n",
    "google_big_max2 = np.around(google_big2.max(), decimals=2).iloc[0]  # Accessing the first element\n",
    "print(\"google_big length is:\", google_big_length)\n",
    "print(\"google_big min2 is:\", google_big_min2)\n",
    "print(\"google_big max2 is:\", google_big_max2)\n",
    "#describe the data\n",
    "describe2 = google_big2.describe()\n",
    "print(describe2)\n",
    "# print plot\n",
    "google_big2['0'].plot()\n",
    "plt.legend()\n",
    "plt.show()\n",
    "# print hist\n",
    "google_big2['0'].hist(bins=50)\n",
    "plt.show()"
   ]
  },
  {
   "cell_type": "markdown",
   "metadata": {
    "tags": []
   },
   "source": [
    "#### Step 3: Dataframe split to WiFi and LTE dataframes \n",
    "\n",
    "You should be able to see from the dataset that it consists of two different parts (i.e. WiFi part [first part] and LTE part [second part]). Do visual split to WiFi part and LTE part, remove NaN samples between datasets because they don't belong to either of datasets and calculate statistics for both datasets.\n",
    "\n",
    "**Phase 17:** Split data visually to WiFi dataset and LTE dataset\n",
    "\n",
    "```\n",
    "Note. Remember to remove NaN samples between datasets.\n",
    "Hint1. There is ping timeout block, when connection is changed from WiFi to LTE.\n",
    "Hint2. You can zoom plot image with command \"plt.axis([x_min, x_max, y_min, y_max])\"\n",
    "```\n",
    "\n",
    "**Phase 18:** Print dataframe length for both datasets\n"
   ]
  },
  {
   "cell_type": "code",
   "execution_count": 10,
   "metadata": {},
   "outputs": [],
   "source": [
    "## Phases 17-18"
   ]
  },
  {
   "cell_type": "code",
   "execution_count": 11,
   "metadata": {},
   "outputs": [
    {
     "name": "stdout",
     "output_type": "stream",
     "text": [
      "Wifi length is: 622124\n",
      "LTE length is: 415755\n"
     ]
    }
   ],
   "source": [
    "## Task 5:\n",
    "## Your code here \n",
    "# Define the line number you want to cut out\n",
    "line_number_to_cut = 622124  # For example, if you want to cut out line number 5\n",
    "line_number_to_start = 631915\n",
    "# Open the original file for reading\n",
    "with open('google_big_modified.txt', 'r') as file:\n",
    "    lines = file.readlines()\n",
    "# Open a new file for writing\n",
    "with open('wifi.txt', 'w') as new_file:\n",
    "    # Write all lines except the one you want to cut out\n",
    "    for line in lines[:line_number_to_cut]:\n",
    "        new_file.write(line)\n",
    "with open('lte.txt', 'w') as new_file:\n",
    "    # Write all lines except the one you want to cut out\n",
    "    for line in lines[line_number_to_start:]:\n",
    "        new_file.write(line)\n",
    "# Read the content of the text file into a list\n",
    "with open('wifi.txt', 'r') as file:\n",
    "    lines = file.readlines()\n",
    "\n",
    "# Remove newline characters and split lines based on \"time=\"\n",
    "wifi_cleaned_lines = [line.strip().split('time=') for line in lines]\n",
    "\n",
    "# Create a DataFrame with the ping times and NaNs\n",
    "wifi_data = {'0': []}\n",
    "wifi_Nans = {'NaN': []}\n",
    "for parts in wifi_cleaned_lines:\n",
    "    if len(parts) == 2:  # Check if the line contains a ping time\n",
    "        try:\n",
    "            # Extract the substring containing the ping time and remove \"ms\"\n",
    "            ping_time = float(parts[1].split(' ')[0].replace(' ms', ''))\n",
    "            ping_time_rounded = np.around(ping_time, decimals=3)  # Round to 3 decimals\n",
    "            wifi_data['0'].append(ping_time_rounded)\n",
    "            wifi_Nans['NaN'].append(0)\n",
    "        except ValueError:\n",
    "            print(\"Invalid format for ping time in line:\", parts)\n",
    "    else:  # Handle lines containing \"NaN\"\n",
    "        wifi_data['0'].append(None)\n",
    "        wifi_Nans['NaN'].append(1)\n",
    "\n",
    "wifi_df = pd.DataFrame(wifi_data)\n",
    "wifi_df_Nans =pd.DataFrame(wifi_Nans)\n",
    "\n",
    "print(\"Wifi length is:\", len(wifi_df))\n",
    "\n",
    "wifi_data_copy = wifi_data\n",
    "\n",
    "for key, values in wifi_data_copy.items():\n",
    "    # Exclude None values before performing comparison\n",
    "    wifi_data_copy[key] = [value for value in values if value is not None and value >= 0 and value <= 10000]\n",
    "\n",
    "wifi_df_copy = pd.DataFrame(wifi_data_copy)\n",
    "\n",
    "# Read the content of the text file into a list\n",
    "with open('lte.txt', 'r') as file:\n",
    "    lines = file.readlines()\n",
    "\n",
    "# Remove newline characters and split lines based on \"time=\"\n",
    "lte_cleaned_lines = [line.strip().split('time=') for line in lines]\n",
    "\n",
    "# Create a DataFrame with the ping times and NaNs\n",
    "lte_data = {'0': []}\n",
    "lte_Nans = {'NaN': []}\n",
    "for parts in lte_cleaned_lines:\n",
    "    if len(parts) == 2:  # Check if the line contains a ping time\n",
    "        try:\n",
    "            # Extract the substring containing the ping time and remove \"ms\"\n",
    "            ping_time = float(parts[1].split(' ')[0].replace(' ms', ''))\n",
    "            ping_time_rounded = np.around(ping_time, decimals=3)  # Round to 3 decimals\n",
    "            lte_data['0'].append(ping_time_rounded)\n",
    "            lte_Nans['NaN'].append(0)\n",
    "        except ValueError:\n",
    "            print(\"Invalid format for ping time in line:\", parts)\n",
    "    else:  # Handle lines containing \"NaN\"\n",
    "        lte_data['0'].append(None)\n",
    "        lte_Nans['NaN'].append(1)\n",
    "\n",
    "lte_df = pd.DataFrame(lte_data)\n",
    "lte_df_Nans =pd.DataFrame(lte_Nans)\n",
    "print(\"LTE length is:\", len(lte_df))"
   ]
  },
  {
   "cell_type": "markdown",
   "metadata": {
    "tags": []
   },
   "source": [
    "#### Step 4: Analyse Wifi and LTE dataframe distributions \n",
    "\n",
    "You should be able to see from the dataset that it consists of two different parts (i.e. Wifi part [first part] and LTE part [second part]). Do visual split to Wifi part and LTE part, remove NaN samples between datasets because they don't belong to either of datasets and calculate statistics for both datasets.\n",
    "\n",
    "**Phase 19:** Print dataframe statistics for both datasets\n",
    "\n",
    "**Phase 20:** Plot normalized histogram with 100 bins and range 0 to 100ms of both datasets. Include also title, xlabel and legend.\n",
    "\n"
   ]
  },
  {
   "cell_type": "code",
   "execution_count": 12,
   "metadata": {},
   "outputs": [],
   "source": [
    "## Phase 19\n",
    "\n",
    "# Note 1. Round all results to 2 decimals\n",
    "# Note 2. Use np.around() to avoid floating point number rounding problems\n",
    "# see https://numpy.org/doc/stable/reference/generated/numpy.around.html"
   ]
  },
  {
   "cell_type": "code",
   "execution_count": 13,
   "metadata": {},
   "outputs": [
    {
     "name": "stdout",
     "output_type": "stream",
     "text": [
      "Wifi\n",
      "Count:  611731\n",
      "Mean:  25.48\n",
      "Std:  16.42\n",
      "Kurtosis:  317.25\n",
      "Skew:  12.03\n",
      "IQR:  2.44\n",
      "Min:  17.97\n",
      "Max:  1214.53\n",
      "Median:  23.24\n",
      "Availability:  0.98\n",
      "LTE\n",
      "Count:  369868\n",
      "Mean:  228.82\n",
      "Std:  26364.59\n",
      "Kurtosis:  33614.58\n",
      "Skew:  183.34\n",
      "IQR:  22.85\n",
      "Min:  -311.26\n",
      "Max:  4834947.36\n",
      "Median:  45.2\n",
      "Availability:  0.89\n"
     ]
    }
   ],
   "source": [
    "## Task 6:\n",
    "## Your code here \n",
    "print('Wifi')\n",
    "#Count\n",
    "wifi_df.dropna(inplace=True)\n",
    "google_wifi_count = len(wifi_df)\n",
    "print(\"Count: \", google_wifi_count)\n",
    "#Mean\n",
    "wifi_mean_value = np.mean(wifi_df)\n",
    "google_wifi_mean = np.around(wifi_mean_value, decimals=2)\n",
    "print(\"Mean: \", google_wifi_mean)\n",
    "#Standard deviation\n",
    "std_value = wifi_df.std(axis=0) \n",
    "google_wifi_std = np.around(std_value.iloc[0], decimals=2)\n",
    "print(\"Std: \", google_wifi_std)\n",
    "# Kurtosis\n",
    "wifi_kurtosis_value = wifi_df.kurtosis()\n",
    "google_wifi_kurtosis = np.around(wifi_kurtosis_value.iloc[0], decimals=2)\n",
    "print(\"Kurtosis: \", google_wifi_kurtosis)\n",
    "# Skew\n",
    "wifi_skew_value = wifi_df.skew()\n",
    "google_wifi_skew = np.around(wifi_skew_value.iloc[0], decimals=2)\n",
    "print(\"Skew: \", google_wifi_skew)\n",
    "# IQR (Interquartile Range)\n",
    "q75, q25 = np.percentile(wifi_df, [75 ,25])\n",
    "google_wifi_IQR = np.around((q75 - q25), decimals=2)\n",
    "print(\"IQR: \", google_wifi_IQR)\n",
    "# Min-value\n",
    "wifi_min_value = np.min(wifi_df_copy)\n",
    "google_wifi_min = np.around(wifi_min_value, decimals=2)\n",
    "print(\"Min: \", google_wifi_min)\n",
    "# Max-value\n",
    "wifi_max_value = np.max(wifi_df)\n",
    "google_wifi_max = np.around(wifi_max_value, decimals=2)\n",
    "print(\"Max: \", google_wifi_max)\n",
    "# Median\n",
    "wifi_median_value = np.median(wifi_df)\n",
    "google_wifi_median = np.around(wifi_median_value, decimals=2)\n",
    "print(\"Median: \", google_wifi_median)\n",
    "# Availability\n",
    "google_wifi_availability = np.around(len(wifi_df) / len(wifi_df_Nans), decimals=2)\n",
    "print(\"Availability: \", google_wifi_availability)\n",
    "\n",
    "print('LTE')\n",
    "#Count\n",
    "lte_df.dropna(inplace=True)\n",
    "google_lte_count = len(lte_df)\n",
    "print(\"Count: \", google_lte_count)\n",
    "#Mean\n",
    "lte_mean_value = np.mean(lte_df)\n",
    "google_lte_mean = np.around(lte_mean_value, decimals=2)\n",
    "print(\"Mean: \", google_lte_mean)\n",
    "#Standard deviation\n",
    "lte_std_value = lte_df.std(axis=0) \n",
    "google_lte_std = np.around(lte_std_value.iloc[0], decimals=2)\n",
    "print(\"Std: \", google_lte_std)\n",
    "# Kurtosis\n",
    "lte_kurtosis_value = lte_df.kurtosis()\n",
    "google_lte_kurtosis = np.around(lte_kurtosis_value.iloc[0], decimals=2)\n",
    "print(\"Kurtosis: \", google_lte_kurtosis)\n",
    "# Skew\n",
    "lte_skew_value = lte_df.skew()\n",
    "google_lte_skew = np.around(lte_skew_value.iloc[0], decimals=2)\n",
    "print(\"Skew: \", google_lte_skew)\n",
    "# IQR (Interquartile Range)\n",
    "q75, q25 = np.percentile(lte_df, [75 ,25])\n",
    "google_lte_IQR = np.around((q75 - q25), decimals=2)\n",
    "print(\"IQR: \", google_lte_IQR)\n",
    "# Min-value\n",
    "lte_min_value = np.min(lte_df)\n",
    "google_lte_min = np.around(lte_min_value, decimals=2)\n",
    "print(\"Min: \", google_lte_min)\n",
    "# Max-value\n",
    "lte_max_value = np.max(lte_df)\n",
    "google_lte_max = np.around(lte_max_value, decimals=2)\n",
    "print(\"Max: \", google_lte_max)\n",
    "# Median\n",
    "lte_median_value = np.median(lte_df)\n",
    "google_lte_median = np.around(lte_median_value, decimals=2)\n",
    "print(\"Median: \", google_lte_median)\n",
    "# Availability\n",
    "google_lte_availability = np.around(len(lte_df) / len(lte_df_Nans), decimals=2)\n",
    "print(\"Availability: \", google_lte_availability)"
   ]
  },
  {
   "cell_type": "code",
   "execution_count": 14,
   "metadata": {},
   "outputs": [],
   "source": [
    "## Phases 20\n",
    "\n",
    "# Hint. see histogram function params\n",
    "# https://matplotlib.org/3.1.1/api/_as_gen/matplotlib.pyplot.hist.html or\n",
    "# https://numpy.org/doc/stable/reference/generated/numpy.histogram.html"
   ]
  },
  {
   "cell_type": "code",
   "execution_count": 15,
   "metadata": {},
   "outputs": [
    {
     "data": {
      "image/png": "[encoded data removed]",
      "text/plain": [
       "<Figure size 640x480 with 1 Axes>"
      ]
     },
     "metadata": {},
     "output_type": "display_data"
    }
   ],
   "source": [
    "## Task 7:\n",
    "## Your code here \n",
    "# Assuming wifi_df['0'] and wifi_df['1'] are your DataFrame columns containing the datasets\n",
    "plt.hist(wifi_df['0'], bins=100, range=(0, 100), alpha=0.5, density=True, label='wifi')\n",
    "plt.hist(lte_df['0'], bins=100, range=(0, 100), alpha=0.5, density=True, label='lte')\n",
    "\n",
    "plt.title('Normalized distributions')\n",
    "plt.xlabel('[ms]')\n",
    "\n",
    "plt.legend()\n",
    "plt.show()\n",
    " "
   ]
  },
  {
   "cell_type": "markdown",
   "metadata": {},
   "source": [
    "### Reflection\n",
    "1. Based on your results, compare Wifi dataset and LTE datasets. (Compare at least connection speed, connection availability and connection stability.) Which one is better?\n",
    "2. How distributions differ?"
   ]
  },
  {
   "cell_type": "markdown",
   "metadata": {},
   "source": [
    "1. data-aineiston perusteella wifi tarjoaa nopeampia ja vakaampia yhteyksiä kun taas LTE yhteysnopeuden ovat hitaampia vaihtelu jakautuu laajemmalle alueelle. Yhteyden saatavuuden perusteella myös wifi on luotettavampi kuin LTE-yhteys (98% vs. 89%).\n",
    "\n",
    "\n",
    "2.   On kuitenkin huomattava mittaustapa, sillä Wifi tarjoaa tässä data-aineistossa laadukaamman yhteyden mutta wifi on todellisuudessa hyvin riippuvainen siittä että wifi tukiasema on lähellä ja esteettömästi saatavilla. Yleisesti ottaen Wifi on haavoittuvaisempi ruuhkautumiselle ja liikkumisen mukana tuleville ympäristön muutoksille kuin LTE-verkko. Myös ruuhkaisuudessa wifi on herkempi kuin LTE\n"
   ]
  },
  {
   "cell_type": "markdown",
   "metadata": {},
   "source": [
    "### Check your answers by running following cell:"
   ]
  },
  {
   "cell_type": "code",
   "execution_count": 16,
   "metadata": {},
   "outputs": [
    {
     "name": "stdout",
     "output_type": "stream",
     "text": [
      "Results:\n",
      "\t 'google_wifi_count' is not correct. Please check your answer.\n",
      "\t 'google_wifi_kurtosis' is not correct. Please check your answer.\n",
      "\t 'google_lte_count' is not correct. Please check your answer.\n",
      "\t 'google_lte_mean' is not correct. Please check your answer.\n",
      "\t 'google_lte_std' is not correct. Please check your answer.\n",
      "\t 'google_lte_kurtosis' is not correct. Please check your answer.\n",
      "\t 'google_lte_skew' is not correct. Please check your answer.\n",
      "\t 'google_lte_IQR' is not correct. Please check your answer.\n",
      "\t 'google_lte_min' is not correct. Please check your answer.\n",
      "\t 'google_lte_max' is not correct. Please check your answer.\n",
      "Correct answers 14 / 24.\n"
     ]
    }
   ],
   "source": [
    "# Do not change this code!\n",
    "\n",
    "import sys\n",
    "sys.path.insert(0, '../answers/data_ping_answers/')\n",
    "from data_ping_check import check_analyze\n",
    "\n",
    "print(\"Results:\")\n",
    "correct = check_analyze(google_big_min, google_big_max, google_big_min2, \n",
    "        google_big_max2,google_wifi_count, google_wifi_mean, google_wifi_std, google_wifi_kurtosis, google_wifi_skew, \n",
    "        google_wifi_IQR, google_wifi_min, google_wifi_max, google_wifi_median, google_wifi_availability,\n",
    "        google_lte_count, google_lte_mean, google_lte_std, google_lte_kurtosis, google_lte_skew, \n",
    "        google_lte_IQR, google_lte_min, google_lte_max, google_lte_median, google_lte_availability)\n",
    "\n",
    "print(\"Correct answers\", correct, \"/ 24.\")\n"
   ]
  },
  {
   "cell_type": "markdown",
   "metadata": {},
   "source": [
    "### Nice work! "
   ]
  },
  {
   "cell_type": "code",
   "execution_count": null,
   "metadata": {},
   "outputs": [],
   "source": []
  }
 ],
 "metadata": {
  "kernelspec": {
   "display_name": "Python 3 (ipykernel)",
   "language": "python",
   "name": "python3"
  },
  "language_info": {
   "codemirror_mode": {
    "name": "ipython",
    "version": 3
   },
   "file_extension": ".py",
   "mimetype": "text/x-python",
   "name": "python",
   "nbconvert_exporter": "python",
   "pygments_lexer": "ipython3",
   "version": "3.11.6"
  }
 },
 "nbformat": 4,
 "nbformat_minor": 4
}
