{
 "cells": [
  {
   "cell_type": "markdown",
   "metadata": {},
   "source": [
    "#### Print your name"
   ]
  },
  {
   "cell_type": "code",
   "execution_count": 1,
   "metadata": {},
   "outputs": [
    {
     "name": "stdout",
     "output_type": "stream",
     "text": [
      "Exercise by: Janne Bragge\n"
     ]
    }
   ],
   "source": [
    "## Your code here \n",
    "print(\"Exercise by: Janne Bragge\")"
   ]
  },
  {
   "cell_type": "markdown",
   "metadata": {},
   "source": [
    "# Compare fully connected network vs. convolution network performance\n",
    "\n",
    "In this notebook, you'll compare 3 different neural network with same parameter count. First we start with fully connected network (FC), then we try convolutinal network (CNN) and finally we try pretrained densenet (also CNN).\n",
    "\n",
    "We try to make all networks with same parameter count (= 7...8M parameters). Target size you can find from densenet description below. \n",
    "\n",
    "<img src='../data/assets/densenet121.png' width=600>\n",
    "\n",
    "https://pytorch.org/vision/main/models/generated/torchvision.models.densenet121.html\n",
    "\n",
    "**Note.** Running 6 epochs with all these 3 networks takes some time, about 25 min / network. \n"
   ]
  },
  {
   "cell_type": "code",
   "execution_count": 2,
   "metadata": {},
   "outputs": [
    {
     "name": "stdout",
     "output_type": "stream",
     "text": [
      "True\n",
      "2.4.1+cu121\n",
      "Device = cuda\n"
     ]
    }
   ],
   "source": [
    "import matplotlib.pyplot as plt\n",
    "import time\n",
    "\n",
    "import torch\n",
    "from torch import nn\n",
    "from torch import optim\n",
    "import torch.nn.functional as F\n",
    "from torchvision import datasets, transforms, models\n",
    "\n",
    "print(torch.cuda.is_available())\n",
    "print(torch.__version__)\n",
    "\n",
    "if torch.cuda.is_available() :\n",
    "    device = \"cuda\" \n",
    "else : \n",
    "    device = \"cpu\" \n",
    "\n",
    "print(\"Device =\", device)"
   ]
  },
  {
   "cell_type": "code",
   "execution_count": 3,
   "metadata": {},
   "outputs": [
    {
     "name": "stdout",
     "output_type": "stream",
     "text": [
      "done\n"
     ]
    }
   ],
   "source": [
    "def count_trainable_parameters(model):\n",
    "    return sum(p.numel() for p in model.parameters() if p.requires_grad)\n",
    "\n",
    "def count_parameters(model):\n",
    "    return sum(p.numel() for p in model.parameters())\n",
    "print(\"done\")"
   ]
  },
  {
   "cell_type": "code",
   "execution_count": 4,
   "metadata": {},
   "outputs": [
    {
     "name": "stdout",
     "output_type": "stream",
     "text": [
      "done\n"
     ]
    }
   ],
   "source": [
    "BATCH_SIZE = 256\n",
    "EPOCHS = 5\n",
    "print(\"done\")"
   ]
  },
  {
   "cell_type": "markdown",
   "metadata": {},
   "source": [
    "***\n",
    "### Exercise - Data loaders:\n",
    "Define needed transforms for training images and testing images.\n",
    "\n",
    "**Use parameters:**\n",
    "- mini-batch size = BATCH_SIZE\n",
    "- Use normalization: means `[0.485, 0.456, 0.406]` and the stds `[0.229, 0.224, 0.225]`\n",
    "- image size: 224x224 pixels"
   ]
  },
  {
   "cell_type": "code",
   "execution_count": 5,
   "metadata": {},
   "outputs": [
    {
     "name": "stdout",
     "output_type": "stream",
     "text": [
      "Batchin koko: torch.Size([256, 3, 24, 24])\n",
      "done\n"
     ]
    }
   ],
   "source": [
    "## Task 1:\n",
    "## Your code here \n",
    "\n",
    "\n",
    "# Asetetaan parametrit\n",
    "IMAGE_SIZE =  24 # Kuvan koko 224x224 (muistiongelma!)\n",
    "\n",
    "# Määritellään tarvittavat transformaatiot\n",
    "transform = transforms.Compose([\n",
    "    transforms.Resize((IMAGE_SIZE, IMAGE_SIZE)),  # Skaalaa kuva oikeaan kokoon\n",
    "    transforms.ToTensor(),  # Muuntaa kuvan tensoriksi\n",
    "    transforms.Normalize(mean=[0.485, 0.456, 0.406], std=[0.229, 0.224, 0.225])  # Normalisointi\n",
    "])\n",
    "\n",
    "# Ladataan data\n",
    "train_dataset = datasets.ImageFolder(\"/home/jovyan/shared/Cat_Dog_data/train\", transform=transform)\n",
    "test_dataset = datasets.ImageFolder(\"/home/jovyan/shared/Cat_Dog_data/test\", transform=transform)\n",
    "\n",
    "# Luodaan DataLoaderit\n",
    "train_loader = torch.utils.data.DataLoader(train_dataset, batch_size=BATCH_SIZE, shuffle=True)\n",
    "test_loader = torch.utils.data.DataLoader(test_dataset, batch_size=BATCH_SIZE, shuffle=False)\n",
    "\n",
    "# Testataan lataus\n",
    "images, labels = next(iter(train_loader))\n",
    "print(f\"Batchin koko: {images.shape}\")  # (batch_size, 3, 224, 224)\n",
    "\n",
    "print(\"done\") "
   ]
  },
  {
   "cell_type": "markdown",
   "metadata": {},
   "source": [
    "***\n",
    "### Exercise - Train function:\n",
    "Define train function to train the model.\n",
    "\n",
    "```python\n",
    "def train_model(model, device, epochs) :\n",
    "\n",
    "```"
   ]
  },
  {
   "cell_type": "code",
   "execution_count": 6,
   "metadata": {},
   "outputs": [],
   "source": [
    "## Task 2:\n",
    "\n",
    "import time\n",
    "\n",
    "\n",
    "def train_model(model, device, epochs, \n",
    "                train_loader=train_loader, \n",
    "                test_loader=test_loader, \n",
    "                criterion=nn.CrossEntropyLoss(), \n",
    "                optimizer_fn=lambda model: optim.Adam(model.parameters(), lr=0.001)):\n",
    "\n",
    "    model.to(device)  # Siirretään malli oikealle laitteelle (CPU/GPU)\n",
    "    \n",
    "    optimizer = optimizer_fn(model)  # Luodaan optimointialgoritmi\n",
    "\n",
    "    fc_train_losses = []\n",
    "    fc_train_accuracies = []\n",
    "    fc_test_losses = []\n",
    "    fc_test_accuracies = []\n",
    "    \n",
    "    start_time = time.time()  # Aloitetaan ajanotto\n",
    "    \n",
    "    for epoch in range(epochs):  \n",
    "        model.train()\n",
    "        running_loss = 0.0\n",
    "        correct = 0\n",
    "        total = 0\n",
    "        \n",
    "        for images, labels in train_loader:  \n",
    "            images, labels = images.to(device), labels.to(device)  \n",
    "            images = images.view(images.size(0), -1)  # 🔥 Tasoitetaan kuvat (3x224x224 -> 150528)\n",
    "            \n",
    "            optimizer.zero_grad()\n",
    "            outputs = model(images)\n",
    "            \n",
    "            loss = criterion(outputs, labels)\n",
    "            loss.backward()\n",
    "            optimizer.step()\n",
    "            \n",
    "            running_loss += loss.item()\n",
    "            \n",
    "            # Lasketaan tarkkuus\n",
    "            _, predicted = torch.max(outputs, 1)\n",
    "            correct += (predicted == labels).sum().item()\n",
    "            total += labels.size(0)\n",
    "        \n",
    "        epoch_loss = running_loss / len(train_loader)\n",
    "        epoch_accuracy = correct / total\n",
    "        \n",
    "        fc_train_losses.append(epoch_loss)\n",
    "        fc_train_accuracies.append(epoch_accuracy)\n",
    "        \n",
    "        # Testivaihe\n",
    "        model.eval()\n",
    "        test_loss = 0.0\n",
    "        correct_test = 0\n",
    "        total_test = 0\n",
    "        \n",
    "        with torch.no_grad():\n",
    "            for images, labels in test_loader:\n",
    "                images, labels = images.to(device), labels.to(device)\n",
    "                images = images.view(images.size(0), -1)\n",
    "                \n",
    "                outputs = model(images)\n",
    "                loss = criterion(outputs, labels)\n",
    "                test_loss += loss.item()\n",
    "                \n",
    "                _, predicted = torch.max(outputs, 1)\n",
    "                correct_test += (predicted == labels).sum().item()\n",
    "                total_test += labels.size(0)\n",
    "        \n",
    "        fc_test_losses.append(test_loss / len(test_loader))\n",
    "        fc_test_accuracies.append(correct_test / total_test)\n",
    "        \n",
    "        print(f\"Epoch [{epoch+1}/{epochs}], Train Loss: {epoch_loss:.4f}, Train Acc: {epoch_accuracy:.4f}, Test Loss: {fc_test_losses[-1]:.4f}, Test Acc: {fc_test_accuracies[-1]:.4f}\")\n",
    "    \n",
    "    end_time = time.time()\n",
    "    print(f\"⏳ Koulutusaika: {end_time - start_time:.2f} sekuntia\")\n",
    "    print(\"✅ Koulutus valmis!\")\n",
    "    \n",
    "    return fc_train_losses, fc_train_accuracies, fc_test_losses, fc_test_accuracies\n",
    "\n",
    " "
   ]
  },
  {
   "cell_type": "markdown",
   "metadata": {},
   "source": [
    "***\n",
    "### Exercise - 1. Fully connected network \n",
    "Define and train fully connected network with 3-5 layers and total ~ 8M parameters. \n",
    "\n",
    "**Print following parameters:**\n",
    "- Model parameter count \n",
    "- training time\n",
    "- Save results to following parameters: \n",
    "`fc_train_losses, fc_train_accuracy, fc_test_losses, fc_test_accuracy`\n",
    "\n",
    "***Hint.*** You can use function `count_parameters(model)` to check the model size. "
   ]
  },
  {
   "cell_type": "code",
   "execution_count": 7,
   "metadata": {},
   "outputs": [
    {
     "name": "stdout",
     "output_type": "stream",
     "text": [
      "📊 Mallin parametrejä: 6,164,994\n"
     ]
    }
   ],
   "source": [
    "## Task 3:\n",
    "## Your code here \n",
    "\n",
    "# Määritellään täysin kytketty neuroverkko (~8M parametria)\n",
    "\n",
    "class FullyConnectedNet(nn.Module):\n",
    "    def __init__(self, input_size=24*24*3, hidden_sizes=[2048, 1024, 512], output_size=2):\n",
    "        super(FullyConnectedNet, self).__init__()\n",
    "        layers = []\n",
    "        prev_size = input_size\n",
    "        \n",
    "        for hidden_size in hidden_sizes:\n",
    "            layers.append(nn.Linear(prev_size, hidden_size))\n",
    "            layers.append(nn.ReLU())\n",
    "            prev_size = hidden_size\n",
    "        \n",
    "        layers.append(nn.Linear(prev_size, output_size))  # Viimeinen kerros\n",
    "        self.model = nn.Sequential(*layers)\n",
    "\n",
    "    def forward(self, x):\n",
    "        x = x.view(x.size(0), -1)  # 🔥 Muutetaan kuva vektoriksi\n",
    "        return self.model(x)\n",
    "\n",
    "def count_parameters(model):\n",
    "    return sum(p.numel() for p in model.parameters() if p.requires_grad)\n",
    "\n",
    "fcmodel = FullyConnectedNet()\n",
    "param_count = count_parameters(fcmodel)\n",
    "print(f\"📊 Mallin parametrejä: {param_count:,}\")  # Tavoite ~8M\n",
    "\n",
    " "
   ]
  },
  {
   "cell_type": "code",
   "execution_count": 8,
   "metadata": {},
   "outputs": [
    {
     "name": "stdout",
     "output_type": "stream",
     "text": [
      "Epoch [1/5], Train Loss: 0.6659, Train Acc: 0.5975, Test Loss: 0.6353, Test Acc: 0.6373\n",
      "Epoch [2/5], Train Loss: 0.6224, Train Acc: 0.6521, Test Loss: 0.6217, Test Acc: 0.6605\n",
      "Epoch [3/5], Train Loss: 0.6032, Train Acc: 0.6737, Test Loss: 0.6217, Test Acc: 0.6521\n",
      "Epoch [4/5], Train Loss: 0.5831, Train Acc: 0.6908, Test Loss: 0.6193, Test Acc: 0.6641\n",
      "Epoch [5/5], Train Loss: 0.5656, Train Acc: 0.7067, Test Loss: 0.6122, Test Acc: 0.6709\n",
      "⏳ Koulutusaika: 742.10 sekuntia\n",
      "✅ Koulutus valmis!\n"
     ]
    }
   ],
   "source": [
    "fc_train_losses, fc_train_accuracies, fc_test_losses, fc_test_accuracies = train_model(fcmodel, device, epochs=EPOCHS)"
   ]
  },
  {
   "cell_type": "markdown",
   "metadata": {},
   "source": [
    "### Exercise - 2. Convolutional network\n",
    "Define and convolutional network with 3-5 convolution layers and total ~ 8M parameters. \n",
    "\n",
    "**Print following parameters:**\n",
    "- Model parameter count\n",
    "- training time\n",
    "- Save results to following parameters: \n",
    "`conv_train_losses, conv_train_accuracy, conv_test_losses, conv_test_accuracy`\n",
    "\n",
    "***Hint.*** You can use function `count_parameters(model)` to check the model size. "
   ]
  },
  {
   "cell_type": "code",
   "execution_count": 9,
   "metadata": {},
   "outputs": [
    {
     "name": "stdout",
     "output_type": "stream",
     "text": [
      "📊 CNN-mallin parametrejä: 2,584,898\n"
     ]
    }
   ],
   "source": [
    "## Task 4:\n",
    "## Your code here \n",
    "\n",
    "\n",
    "class ConvolutionalNet(nn.Module):\n",
    "    def __init__(self, input_channels=3, output_size=2):\n",
    "        super(ConvolutionalNet, self).__init__()\n",
    "\n",
    "        self.conv_layers = nn.Sequential(\n",
    "            nn.Conv2d(input_channels, 32, kernel_size=3, padding=1),  # 24x24 -> 24x24\n",
    "            nn.ReLU(),\n",
    "            nn.Conv2d(32, 64, kernel_size=3, padding=1),  # 24x24 -> 24x24\n",
    "            nn.ReLU(),\n",
    "            nn.MaxPool2d(2, 2),  # 24x24 -> 12x12\n",
    "\n",
    "            nn.Conv2d(64, 128, kernel_size=3, padding=1),  # 12x12 -> 12x12\n",
    "            nn.ReLU(),\n",
    "            nn.MaxPool2d(2, 2),  # 12x12 -> 6x6\n",
    "        )\n",
    "\n",
    "        self.fc_layers = nn.Sequential(\n",
    "            nn.Linear(128 * 6 * 6, 512),\n",
    "            nn.ReLU(),\n",
    "            nn.Linear(512, 256),\n",
    "            nn.ReLU(),\n",
    "            nn.Linear(256, output_size)\n",
    "        )\n",
    "\n",
    "    def forward(self, x):\n",
    "        x = x.view(x.size(0), 3, 24, 24)  # 🔥 Pakotetaan oikea muoto ennen CNN-kerroksia\n",
    "        x = self.conv_layers(x)\n",
    "        x = x.view(x.size(0), -1)  # 🔥 Flatten ennen FC-kerroksia\n",
    "        return self.fc_layers(x)\n",
    "\n",
    "# 📊 Testataan mallia\n",
    "def count_parameters(model):\n",
    "    return sum(p.numel() for p in model.parameters() if p.requires_grad)\n",
    "\n",
    "convmodel = ConvolutionalNet()\n",
    "param_count = count_parameters(convmodel)\n",
    "print(f\"📊 CNN-mallin parametrejä: {param_count:,}\")  # Tarkistetaan parametrit\n"
   ]
  },
  {
   "cell_type": "code",
   "execution_count": 10,
   "metadata": {},
   "outputs": [
    {
     "name": "stdout",
     "output_type": "stream",
     "text": [
      "Epoch [1/5], Train Loss: 0.6060, Train Acc: 0.6638, Test Loss: 0.5414, Test Acc: 0.7265\n",
      "Epoch [2/5], Train Loss: 0.4986, Train Acc: 0.7604, Test Loss: 0.4799, Test Acc: 0.7797\n",
      "Epoch [3/5], Train Loss: 0.4338, Train Acc: 0.7982, Test Loss: 0.4429, Test Acc: 0.7897\n",
      "Epoch [4/5], Train Loss: 0.3822, Train Acc: 0.8288, Test Loss: 0.4402, Test Acc: 0.7897\n",
      "Epoch [5/5], Train Loss: 0.3337, Train Acc: 0.8523, Test Loss: 0.4359, Test Acc: 0.7989\n",
      "⏳ Koulutusaika: 770.18 sekuntia\n",
      "✅ Koulutus valmis!\n"
     ]
    }
   ],
   "source": [
    "conv_train_losses, conv_train_accuracies, conv_test_losses, conv_test_accuracies = train_model(convmodel, device, EPOCHS)"
   ]
  },
  {
   "cell_type": "markdown",
   "metadata": {},
   "source": [
    "### Exercise - 3. densenet121\n",
    "Define and train fully connected network with 3-5 layers and total ~ 8M parameters. \n",
    "\n",
    "**Print following parameters:**\n",
    "- Model parameter count\n",
    "- training time\n",
    "- Save results to following parameters: \n",
    "`dense_train_losses, dense_train_accuracy, dense_test_losses, dense_test_accuracy`\n",
    "\n",
    "***Hint.*** You can use function `count_parameters(model)` to check the model size. "
   ]
  },
  {
   "cell_type": "code",
   "execution_count": 11,
   "metadata": {},
   "outputs": [
    {
     "name": "stdout",
     "output_type": "stream",
     "text": [
      "📊 DenseNet-121 mallin parametrejä: 6,948,226\n"
     ]
    }
   ],
   "source": [
    "## Task 5:\n",
    "## Your code here \n",
    "\n",
    "\n",
    "\n",
    "class DenseNet121Small(nn.Module):\n",
    "    def __init__(self, num_classes=2):\n",
    "        super(DenseNet121Small, self).__init__()\n",
    "        \n",
    "        # Ladataan esikoulutettu DenseNet-121\n",
    "        self.densenet = models.densenet121(weights=\"IMAGENET1K_V1\")\n",
    "        \n",
    "        # 🔥 Korvataan ensimmäinen konvoluutiokerros (pienemmille kuville sopivaksi)\n",
    "        self.densenet.features.conv0 = nn.Conv2d(3, 64, kernel_size=3, stride=1, padding=1, bias=False)\n",
    "        \n",
    "        # 🔥 Poistetaan ensimmäinen MaxPool (jotta resoluutio ei pienene liikaa)\n",
    "        self.densenet.features.pool0 = nn.Identity()\n",
    "\n",
    "        # 🔥 Muutetaan viimeinen luokittelukerros\n",
    "        in_features = self.densenet.classifier.in_features\n",
    "        self.densenet.classifier = nn.Linear(in_features, num_classes)\n",
    "\n",
    "    def forward(self, x):\n",
    "        if x.dim() == 2:  # 🔥 Jos syöte on litistetty (batch_size, 1728), muunnetaan se kuvaksi\n",
    "            x = x.view(x.size(0), 3, 24, 24)\n",
    "        \n",
    "        return self.densenet(x)\n",
    "\n",
    "# 📊 Mallin parametrimäärän laskeminen\n",
    "def count_parameters(model):\n",
    "    return sum(p.numel() for p in model.parameters() if p.requires_grad)\n",
    "\n",
    "# 🔥 Luodaan DenseNet-malli kahdelle luokalle\n",
    "densemodel = DenseNet121Small(num_classes=2)\n",
    "param_count = count_parameters(densemodel)\n",
    "print(f\"📊 DenseNet-121 mallin parametrejä: {param_count:,}\")  # Tarkistetaan parametrit\n",
    "\n",
    "\n",
    "\n",
    " "
   ]
  },
  {
   "cell_type": "code",
   "execution_count": 12,
   "metadata": {},
   "outputs": [
    {
     "name": "stdout",
     "output_type": "stream",
     "text": [
      "Epoch [1/5], Train Loss: 0.4679, Train Acc: 0.7721, Test Loss: 0.4301, Test Acc: 0.7933\n",
      "Epoch [2/5], Train Loss: 0.2870, Train Acc: 0.8764, Test Loss: 0.3341, Test Acc: 0.8489\n",
      "Epoch [3/5], Train Loss: 0.2120, Train Acc: 0.9124, Test Loss: 0.3267, Test Acc: 0.8625\n",
      "Epoch [4/5], Train Loss: 0.1604, Train Acc: 0.9345, Test Loss: 0.3323, Test Acc: 0.8661\n",
      "Epoch [5/5], Train Loss: 0.1320, Train Acc: 0.9481, Test Loss: 0.3230, Test Acc: 0.8808\n",
      "⏳ Koulutusaika: 834.33 sekuntia\n",
      "✅ Koulutus valmis!\n"
     ]
    }
   ],
   "source": [
    "dense_train_losses, dense_train_accuracies, dense_test_losses, dense_test_accuracies = train_model(densemodel, device, EPOCHS)"
   ]
  },
  {
   "cell_type": "markdown",
   "metadata": {},
   "source": [
    "### Exercise - Results\n"
   ]
  },
  {
   "cell_type": "code",
   "execution_count": 13,
   "metadata": {},
   "outputs": [
    {
     "data": {
      "text/plain": [
       "Text(0.5, 1.0, 'Test accuracy')"
      ]
     },
     "execution_count": 13,
     "metadata": {},
     "output_type": "execute_result"
    },
    {
     "data": {
      "image/png": "[encoded data removed]",
      "text/plain": [
       "<Figure size 1000x600 with 4 Axes>"
      ]
     },
     "metadata": {},
     "output_type": "display_data"
    }
   ],
   "source": [
    "import matplotlib.pyplot as plt\n",
    "\n",
    "plt.figure(figsize=(10,6))\n",
    "plt.subplot(2, 2, 1)\n",
    "plt.plot(fc_train_losses)\n",
    "plt.plot(conv_train_losses)\n",
    "plt.plot(dense_train_losses)\n",
    "plt.legend(['Fully connected', 'Convolution network', 'DenseNet'])\n",
    "plt.title('Training loss')\n",
    "\n",
    "plt.subplot(2, 2, 2)\n",
    "plt.plot((fc_train_accuracies))\n",
    "plt.plot(conv_train_accuracies)\n",
    "plt.plot(dense_train_accuracies)\n",
    "plt.legend(['Fully connected', 'Convolution network', 'DenseNet'])\n",
    "plt.title('Training accuracy')\n",
    "\n",
    "plt.subplot(2, 2, 3)\n",
    "plt.plot(fc_test_losses)\n",
    "plt.plot(conv_test_losses)\n",
    "plt.plot(dense_test_losses)\n",
    "plt.legend(['Fully connected', 'Convolution network', 'DenseNet'])\n",
    "plt.title('Test loss')\n",
    "\n",
    "plt.subplot(2, 2, 4)\n",
    "plt.plot((fc_test_accuracies))\n",
    "plt.plot(conv_test_accuracies)\n",
    "plt.plot(dense_test_accuracies)\n",
    "plt.legend(['Fully connected', 'Convolution network', 'DenseNet'])\n",
    "plt.title('Test accuracy')\n"
   ]
  },
  {
   "cell_type": "markdown",
   "metadata": {},
   "source": [
    "***\n",
    "\n",
    "## Reflection\n",
    "\n",
    "Answer briefly following questions (in English or Finnish):\n",
    "- Which model is best? Why?\n",
    "- Is there some topics that should have been checked? E.g. training with more epochs?\n"
   ]
  },
  {
   "cell_type": "markdown",
   "metadata": {},
   "source": [
    "*Your answers here...*\n",
    "\n",
    "1) Analyysin perusteella DenseNet näyttää olevan paras malli. Tämä johtuu seuraavista tekijöistä:\n",
    "\n",
    "Alhaisin harjoitus- ja testitappio\n",
    "\n",
    "DenseNetin tappio (loss) on jatkuvasti alhaisin sekä harjoitus- että testivaiheessa verrattuna muihin malleihin. Alhaisempi tappio tarkoittaa, että mallin ennusteet ovat lähempänä todellisia arvoja. CN osuu DenseNetin ja FC:n väliin. FC näyttää kärsivän korkeasta tappiosta, mikä viittaa siihen, että se ei pysty minimoimaan virheitä tehokkaasti.\n",
    "\n",
    "Korkein harjoitus- ja testitarkkuus\n",
    "\n",
    "DenseNet saavuttaa kaikista malleista korkeimman harjoitus- ja testitarkkuuden, mikä tarkoittaa, että se tekee tarkimpia ennusteita. FC suoriutuu huonoimmin, kun taas konvoluutioneuroverkko parantaa suorituskykyä, mutta ei saavuta DenseNetin tasoa.\n",
    "\n",
    "Parempi yleistyskyky\n",
    "\n",
    "DenseNetin alhainen tappio ja korkea tarkkuus sekä harjoitus- että testidatassa viittaavat siihen, että se ei kärsi merkittävästä ylisovittamisesta (overfitting).FC näyttää puolestaan yleistyvän heikommin, sillä sen tarkkuus pysyy alhaisena. Näiden mittareiden perusteella DenseNet on tehokkain ja tarkin malli, sillä se minimoi virheet ja saavuttaa parhaan ennustustuloksen.\n",
    "\n",
    "2) Tehtävät sisälsivät vain viisi harjoituskierrosta (epochia), mikä on todennäköisesti liian vähän kaikkien mallien täyden potentiaalin saavuttamiseksi. Pidempi harjoittelu voisi parantaa täysin yhdistetyn ja konvoluutioneuroverkon suorituskykyä. Kuitenkin DenseNet suoriutuu jo nyt parhaiten, joten se olisi todennäköisesti silti paras vaihtoehto pidemmällä harjoittelulla.\n",
    "\n",
    "Vaikka DenseNet saavuttaa korkeimman tarkkuuden, on varmistettava, ettei se ylisovita harjoitusdataan.\n",
    "Jos harjoitustarkkuus nousee huomattavasti korkeammaksi kuin testitarkkuus, malli saattaa muistaa harjoitusdatan yksityiskohtia oppimatta yleistettäviä piirteitä. Yksi tapa tarkistaa tämä on verrata harjoitus- ja testitappiota: jos testitappio alkaa kasvaa samalla kun harjoitustappio pienenee, ylisovittamista tapahtuu.\n",
    "\n",
    "Oppimisnopeuden, eräkoon (batch size) ja optimointialgoritmin säätäminen voisi parantaa kaikkien mallien suorituskykyä. DenseNetin paremmuus voi johtua myös siitä, että sen valmiit painotukset hyperparametrit on valittu paremmin kyseiseen tehtävään."
   ]
  },
  {
   "cell_type": "markdown",
   "metadata": {},
   "source": [
    "### Great work!"
   ]
  }
 ],
 "metadata": {
  "kernelspec": {
   "display_name": "Python 3 (ipykernel)",
   "language": "python",
   "name": "python3"
  },
  "language_info": {
   "codemirror_mode": {
    "name": "ipython",
    "version": 3
   },
   "file_extension": ".py",
   "mimetype": "text/x-python",
   "name": "python",
   "nbconvert_exporter": "python",
   "pygments_lexer": "ipython3",
   "version": "3.11.9"
  }
 },
 "nbformat": 4,
 "nbformat_minor": 4
}
